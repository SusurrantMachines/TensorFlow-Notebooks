{
 "cells": [
  {
   "cell_type": "markdown",
   "metadata": {},
   "source": [
    "# How to Save and Restore the Metagraph\n",
    "`tf.train.Supervisor.managed_session` makes it easy to save and load the *values* of the trainable variables, but not the model itself.  It's impractical to rebuild the model from scratch when it's time to test or deploy it, however, so that's what we'll explore in this notebook.\n",
    "\n",
    "Note: This is for a `tf.train.Supervisor.managed_session` only.  If you're using a different kind of session, you may need to call `tf.train.export_meta_graph()`."
   ]
  },
  {
   "cell_type": "markdown",
   "metadata": {},
   "source": [
    "## Tidy up First\n",
    "Delete any old save files before we start."
   ]
  },
  {
   "cell_type": "code",
   "execution_count": 1,
   "metadata": {
    "collapsed": false
   },
   "outputs": [],
   "source": [
    "import tensorflow as tf\n",
    "NOTEBOOK_DIR = 'graph-save-load'\n",
    "try:\n",
    "    tf.gfile.DeleteRecursively(NOTEBOOK_DIR)\n",
    "except:\n",
    "    print('Already clean; nothing to do.')"
   ]
  },
  {
   "cell_type": "markdown",
   "metadata": {},
   "source": [
    "## Create the Computation Graph\n",
    "Just need a few dummy variables and an operation. "
   ]
  },
  {
   "cell_type": "code",
   "execution_count": 2,
   "metadata": {
    "collapsed": true
   },
   "outputs": [],
   "source": [
    "import tensorflow as tf\n",
    "g = tf.Graph()\n",
    "\n",
    "with g.as_default():\n",
    "    weights = tf.get_variable(name=\"tf_weights\", \n",
    "                            shape=[3], \n",
    "                            initializer=tf.random_normal_initializer(mean=0, stddev=1, seed=None, dtype=tf.float32),\n",
    "                            dtype=tf.float32)\n",
    "    biases = tf.get_variable(name=\"tf_biases\", \n",
    "                            shape=[3], \n",
    "                            initializer=tf.constant_initializer(3.0),\n",
    "                            dtype=tf.float32)\n",
    "    wb = weights * biases"
   ]
  },
  {
   "cell_type": "markdown",
   "metadata": {},
   "source": [
    "## Create Collections for the Variables We Need to Save\n",
    "`tf.train.Supervisor.managed_session` actually *does* save the model automatically.  It saves all the trainable variables in a collection called \"trainable_variables\".  The problem is that a TensorFlow collection is just a list of unnamed tensors, not a dictionary.  In order to make use of it, we need to remember the order in which variables were added to it.  This makes for very error-prone code that is hard to maintain.\n",
    "\n",
    "So, we'll ignore that and create our own collections--generally, one for each variable.  We can, of course, store a list of variables in a single collection when it makes sense to do so, but we don't need to pile everything together in one place like `managed_session` does."
   ]
  },
  {
   "cell_type": "code",
   "execution_count": 3,
   "metadata": {
    "collapsed": true
   },
   "outputs": [],
   "source": [
    "g.add_to_collection('w', weights)\n",
    "g.add_to_collection('b', biases)\n",
    "g.add_to_collection('wb', wb)"
   ]
  },
  {
   "cell_type": "markdown",
   "metadata": {},
   "source": [
    "## Run a \"Training Session\" to Create a Save File\n",
    "We're not training anything in this notebook, but this where we would define `train_op` in a real experiment.  For this notebook, we'll just initialize vars, look at them, and then save."
   ]
  },
  {
   "cell_type": "code",
   "execution_count": 4,
   "metadata": {
    "collapsed": false
   },
   "outputs": [
    {
     "name": "stdout",
     "output_type": "stream",
     "text": [
      "[array([ 3.84819174, -4.13745785, -2.05410314], dtype=float32)]\n",
      "['savers', 'w', 'init_op', 'local_init_op', 'variables', 'trainable_variables', 'wb', 'b', 'ready_op']\n"
     ]
    }
   ],
   "source": [
    "import os\n",
    "sv = tf.train.Supervisor(logdir=NOTEBOOK_DIR, graph=g)\n",
    "save_path = os.path.join(NOTEBOOK_DIR, 'model.ckpt')\n",
    "with sv.managed_session() as s:\n",
    "    \n",
    "    # Peek at the values in the (automatically initialized) tensors.\n",
    "    # Note that running wb will also run its dependencies (weights and b) automatically\n",
    "    print(s.run([wb]))\n",
    "    \n",
    "    # List all the collections in this graph\n",
    "    print(g.get_all_collection_keys())\n",
    "    \n",
    "    # Save the metagraph and the graph\n",
    "    sv.saver.save(s, save_path)"
   ]
  },
  {
   "cell_type": "markdown",
   "metadata": {},
   "source": [
    "## Restart the Notebook Kernel\n",
    "Clean slate.  TensorFlow state reset."
   ]
  },
  {
   "cell_type": "code",
   "execution_count": null,
   "metadata": {
    "collapsed": true
   },
   "outputs": [],
   "source": [
    "os._exit(0)"
   ]
  },
  {
   "cell_type": "markdown",
   "metadata": {},
   "source": [
    "## Reload the Graph"
   ]
  },
  {
   "cell_type": "code",
   "execution_count": 1,
   "metadata": {
    "collapsed": false
   },
   "outputs": [
    {
     "name": "stdout",
     "output_type": "stream",
     "text": [
      "INFO:tensorflow:Restoring parameters from graph-save-load/model.ckpt\n",
      "[array([ 3.84819174, -4.13745785, -2.05410314], dtype=float32)]\n"
     ]
    }
   ],
   "source": [
    "import tensorflow as tf\n",
    "import os\n",
    "NOTEBOOK_DIR = 'graph-save-load'\n",
    "metagraph_file = os.path.join(NOTEBOOK_DIR, 'model.ckpt.meta')\n",
    "graph_file = os.path.join(NOTEBOOK_DIR, 'model.ckpt')\n",
    "\n",
    "with tf.Session() as s:\n",
    "    new_saver = tf.train.import_meta_graph(metagraph_file)\n",
    "    new_saver.restore(s, graph_file)\n",
    "    \n",
    "    # Let's just restore our weights + biases variable\n",
    "    wb = tf.get_collection('wb')\n",
    "    \n",
    "    x = s.run(wb)\n",
    "    print(x)"
   ]
  },
  {
   "cell_type": "code",
   "execution_count": null,
   "metadata": {
    "collapsed": true
   },
   "outputs": [],
   "source": []
  }
 ],
 "metadata": {
  "kernelspec": {
   "display_name": "Python 3",
   "language": "python",
   "name": "python3"
  },
  "language_info": {
   "codemirror_mode": {
    "name": "ipython",
    "version": 3
   },
   "file_extension": ".py",
   "mimetype": "text/x-python",
   "name": "python",
   "nbconvert_exporter": "python",
   "pygments_lexer": "ipython3",
   "version": "3.5.2"
  },
  "latex_envs": {
   "LaTeX_envs_menu_present": true,
   "autocomplete": true,
   "bibliofile": "biblio.bib",
   "cite_by": "apalike",
   "current_citInitial": 1,
   "eqLabelWithNumbers": false,
   "eqNumInitial": 1,
   "hotkeys": {
    "equation": "Ctrl-E",
    "itemize": "Ctrl-I"
   },
   "labels_anchors": false,
   "latex_user_defs": false,
   "report_style_numbering": false,
   "user_envs_cfg": false
  },
  "toc": {
   "colors": {
    "hover_highlight": "#DAA520",
    "navigate_num": "#000000",
    "navigate_text": "#333333",
    "running_highlight": "#FF0000",
    "selected_highlight": "#FFD700",
    "sidebar_border": "#EEEEEE",
    "wrapper_background": "#FFFFFF"
   },
   "moveMenuLeft": true,
   "nav_menu": {
    "height": "12px",
    "width": "252px"
   },
   "navigate_menu": true,
   "number_sections": true,
   "sideBar": true,
   "threshold": 4,
   "toc_cell": false,
   "toc_section_display": "block",
   "toc_window_display": false,
   "widenNotebook": false
  }
 },
 "nbformat": 4,
 "nbformat_minor": 1
}
