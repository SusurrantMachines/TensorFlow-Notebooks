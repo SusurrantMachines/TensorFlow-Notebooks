{
 "cells": [
  {
   "cell_type": "markdown",
   "metadata": {},
   "source": [
    "# Adding TensorBoard to apparatus-2"
   ]
  },
  {
   "cell_type": "markdown",
   "metadata": {},
   "source": [
    "## Objectives\n",
    "1. Add TensorBoard visualization to apparatus-2.\n",
    "2. Switch over to the `bigcluster_raw` dataset, which lacks the third column of 1s (that's a trick for doing more with matrix multiplication, but it shouldn't pollute the dataset).  This will leave us better positioned to move on to apparatus-4 where we'll switch to a partitioned dataset.\n",
    "\n",
    "From apparatus-2 we inherit the following:\n",
    "- Logistic Regression with \n",
    "- Pausable/reloadable sessions using `tf.train.Supervisor.managed_session()`\n",
    "- High-volume CSV Input Pipeline.\n",
    "\n",
    "Coming Up Next...\n",
    "- Partitioned dataset (train, validation, test)\n",
    "- Early-stopping regularization\n",
    "- Purging of tf.train.Supervisor ...which is already deprecated, dammit!  I *just* learned how to use that!  Now I'll have to learn MonitoredSessions instead.  For apparatus-4, however, I'll stick with the basics like Chip Huyen does:\n",
    "    - tf.Session\n",
    "    - tf.train.write_graph()\n",
    "    - tf.summary.FileWriter\n",
    "    - tf.train.Saver"
   ]
  },
  {
   "cell_type": "markdown",
   "metadata": {},
   "source": [
    "## The Input Pipeline"
   ]
  },
  {
   "cell_type": "markdown",
   "metadata": {},
   "source": [
    "Note: Don't run this notebook until you've run *generate_data.ipynb* at least once first to create the directory of data files."
   ]
  },
  {
   "cell_type": "code",
   "execution_count": 1,
   "metadata": {
    "collapsed": true
   },
   "outputs": [],
   "source": [
    "import os\n",
    "import tensorflow as tf\n",
    "notebook_dir = 'bigcluster_parted/train'\n",
    "g = tf.Graph()"
   ]
  },
  {
   "cell_type": "markdown",
   "metadata": {},
   "source": [
    "### Mini-batch Design Matrix"
   ]
  },
  {
   "cell_type": "markdown",
   "metadata": {},
   "source": [
    "Get the list of .csv files in the `notebook_dir`."
   ]
  },
  {
   "cell_type": "code",
   "execution_count": 2,
   "metadata": {
    "collapsed": false
   },
   "outputs": [
    {
     "data": {
      "text/plain": [
       "['bigcluster_parted/train/61.csv',\n",
       " 'bigcluster_parted/train/79.csv',\n",
       " 'bigcluster_parted/train/68.csv',\n",
       " 'bigcluster_parted/train/24.csv',\n",
       " 'bigcluster_parted/train/41.csv',\n",
       " 'bigcluster_parted/train/77.csv',\n",
       " 'bigcluster_parted/train/40.csv',\n",
       " 'bigcluster_parted/train/5.csv',\n",
       " 'bigcluster_parted/train/22.csv',\n",
       " 'bigcluster_parted/train/15.csv',\n",
       " 'bigcluster_parted/train/63.csv',\n",
       " 'bigcluster_parted/train/45.csv',\n",
       " 'bigcluster_parted/train/43.csv',\n",
       " 'bigcluster_parted/train/57.csv',\n",
       " 'bigcluster_parted/train/1.csv',\n",
       " 'bigcluster_parted/train/46.csv',\n",
       " 'bigcluster_parted/train/51.csv',\n",
       " 'bigcluster_parted/train/70.csv',\n",
       " 'bigcluster_parted/train/44.csv',\n",
       " 'bigcluster_parted/train/38.csv',\n",
       " 'bigcluster_parted/train/59.csv',\n",
       " 'bigcluster_parted/train/23.csv',\n",
       " 'bigcluster_parted/train/84.csv',\n",
       " 'bigcluster_parted/train/7.csv',\n",
       " 'bigcluster_parted/train/4.csv',\n",
       " 'bigcluster_parted/train/81.csv',\n",
       " 'bigcluster_parted/train/47.csv',\n",
       " 'bigcluster_parted/train/17.csv',\n",
       " 'bigcluster_parted/train/85.csv',\n",
       " 'bigcluster_parted/train/3.csv',\n",
       " 'bigcluster_parted/train/25.csv',\n",
       " 'bigcluster_parted/train/50.csv',\n",
       " 'bigcluster_parted/train/66.csv',\n",
       " 'bigcluster_parted/train/64.csv',\n",
       " 'bigcluster_parted/train/27.csv',\n",
       " 'bigcluster_parted/train/14.csv',\n",
       " 'bigcluster_parted/train/52.csv',\n",
       " 'bigcluster_parted/train/16.csv',\n",
       " 'bigcluster_parted/train/2.csv',\n",
       " 'bigcluster_parted/train/65.csv',\n",
       " 'bigcluster_parted/train/58.csv',\n",
       " 'bigcluster_parted/train/80.csv',\n",
       " 'bigcluster_parted/train/8.csv',\n",
       " 'bigcluster_parted/train/18.csv',\n",
       " 'bigcluster_parted/train/32.csv',\n",
       " 'bigcluster_parted/train/35.csv',\n",
       " 'bigcluster_parted/train/39.csv',\n",
       " 'bigcluster_parted/train/21.csv',\n",
       " 'bigcluster_parted/train/83.csv',\n",
       " 'bigcluster_parted/train/13.csv',\n",
       " 'bigcluster_parted/train/31.csv',\n",
       " 'bigcluster_parted/train/42.csv',\n",
       " 'bigcluster_parted/train/71.csv',\n",
       " 'bigcluster_parted/train/62.csv',\n",
       " 'bigcluster_parted/train/60.csv',\n",
       " 'bigcluster_parted/train/78.csv',\n",
       " 'bigcluster_parted/train/30.csv',\n",
       " 'bigcluster_parted/train/6.csv',\n",
       " 'bigcluster_parted/train/37.csv',\n",
       " 'bigcluster_parted/train/82.csv',\n",
       " 'bigcluster_parted/train/36.csv',\n",
       " 'bigcluster_parted/train/12.csv',\n",
       " 'bigcluster_parted/train/33.csv',\n",
       " 'bigcluster_parted/train/10.csv',\n",
       " 'bigcluster_parted/train/9.csv',\n",
       " 'bigcluster_parted/train/0.csv',\n",
       " 'bigcluster_parted/train/28.csv',\n",
       " 'bigcluster_parted/train/74.csv',\n",
       " 'bigcluster_parted/train/55.csv',\n",
       " 'bigcluster_parted/train/76.csv',\n",
       " 'bigcluster_parted/train/19.csv',\n",
       " 'bigcluster_parted/train/54.csv',\n",
       " 'bigcluster_parted/train/75.csv',\n",
       " 'bigcluster_parted/train/73.csv',\n",
       " 'bigcluster_parted/train/29.csv',\n",
       " 'bigcluster_parted/train/11.csv',\n",
       " 'bigcluster_parted/train/26.csv',\n",
       " 'bigcluster_parted/train/67.csv',\n",
       " 'bigcluster_parted/train/69.csv',\n",
       " 'bigcluster_parted/train/48.csv',\n",
       " 'bigcluster_parted/train/56.csv',\n",
       " 'bigcluster_parted/train/34.csv',\n",
       " 'bigcluster_parted/train/20.csv',\n",
       " 'bigcluster_parted/train/53.csv',\n",
       " 'bigcluster_parted/train/49.csv',\n",
       " 'bigcluster_parted/train/72.csv']"
      ]
     },
     "execution_count": 2,
     "metadata": {},
     "output_type": "execute_result"
    }
   ],
   "source": [
    "csv_file_list = [os.path.join(notebook_dir, x) for x in os.listdir(notebook_dir) if x.endswith('.csv')]\n",
    "# csv_file_list"
   ]
  },
  {
   "cell_type": "markdown",
   "metadata": {},
   "source": [
    "Add operations to the graph which prepare mini-batches."
   ]
  },
  {
   "cell_type": "code",
   "execution_count": 3,
   "metadata": {
    "collapsed": false
   },
   "outputs": [],
   "source": [
    "BATCH_SIZE = 16\n",
    "\n",
    "with g.as_default():\n",
    "    # Create a queue of the filenames\n",
    "    filename_queue = tf.train.string_input_producer(csv_file_list)\n",
    "    \n",
    "    # (if there are lines of metadata at the top of the file, we can skip them using this parameter)\n",
    "    reader = tf.TextLineReader(skip_header_lines=0)\n",
    "    \n",
    "    # Create graph operations to read a line from a CSV file (key is optional, but yields good info)\n",
    "    key, line_from_file = reader.read(filename_queue)\n",
    "    \n",
    "    # Specify the default field values (in case they're missing) and their type\n",
    "    record_defaults = [[0.5], [0.5], [tf.to_int32(0)]]\n",
    "    \n",
    "    # Parse the CSV string into an example tensor (x,y,w,label)\n",
    "    example = tf.decode_csv(line_from_file, record_defaults=record_defaults)\n",
    "    \n",
    "    # Split the example into a feature vector and a label.\n",
    "    # Add the extra 1 so we can apply bias via matrix multiplication (this extra 1 used to be right in the CSV file)\n",
    "    features = example[:2] + [1.0]\n",
    "    label = example[-1]\n",
    "    \n",
    "    # Graph operations that produce a mini-batch (key batch is optional)\n",
    "    key_batch, data_batch, label_batch = tf.train.shuffle_batch(\n",
    "        [key, features, label], \n",
    "        batch_size=BATCH_SIZE, \n",
    "        capacity=400, \n",
    "        min_after_dequeue=100)"
   ]
  },
  {
   "cell_type": "markdown",
   "metadata": {},
   "source": [
    "There is a lot going on in this block and the documentation for these functions isn't totally clear, but if you play with the parameters of `tf.train.shuffle_batch` and watch that `key` variable, it quickly becomes apparent what's going on:\n",
    "- Producer threads continually read examples from the files and dump them into a bin (a random queue) unless the bin contains `capacity` examples (in which case they wait until it doesn't).\n",
    "- Consumer threads remove randomly selected `batch_sized` examples from the bin unless it contains < `batch_size + min_after_dequeue` examples.\n",
    "- You can make mini-batches indefinitely (the data are re-read).\n",
    "- Each time `tf.train.shuffle_batch` is called a file is randomly chosen and examples are read from it **in sequence**, starting from the first.\n",
    "- If the same file is opened multiple times, the reader doesn't pick up where it left off: it reads from the beginning again!  (So, make sure `batch_size + min_after_dequeue` $\\geq$ #examples/file)\n",
    "\n",
    "Particularly useful tests:\n",
    "- If you set `min_after_dequeue=0` then each mini-batch contains the first `batch_size` examples in order (because we gave `shuffle_batch` permission to empty the queue without waiting for more than one example).  This means we have to set `min_after_dequeue` $\\geq$ number of examples in each file (otherwise the examples at the end of each file will never appear in a mini-batch).\n",
    "- If you set `min_after_dequeue=1` then two examples are tossed in the bin and one of them is drawn at random and replaced by the next example in the file.  Then we choose another one at random.\n",
    "\n",
    "**Question:** Could I use `reader.read_up_to()` instead of `reader.read()` here?"
   ]
  },
  {
   "cell_type": "markdown",
   "metadata": {},
   "source": [
    "#### Quick check that the extra 1 is added properly"
   ]
  },
  {
   "cell_type": "code",
   "execution_count": 4,
   "metadata": {
    "collapsed": false
   },
   "outputs": [],
   "source": [
    "# with tf.Session(graph=g) as s:\n",
    "#     s.run(tf.global_variables_initializer())\n",
    "#     coord = tf.train.Coordinator()\n",
    "#     threads = tf.train.start_queue_runners(coord=coord, sess=s)\n",
    "    \n",
    "#     print(s.run([example, features]))\n",
    "\n",
    "#     coord.request_stop()\n",
    "#     coord.join(threads)"
   ]
  },
  {
   "cell_type": "markdown",
   "metadata": {},
   "source": [
    "## Logistic Regression"
   ]
  },
  {
   "cell_type": "markdown",
   "metadata": {},
   "source": [
    "See `apparatus-2.ipynb` for discussion of the math behind logistic regression with stochastic gradient descent."
   ]
  },
  {
   "cell_type": "markdown",
   "metadata": {},
   "source": [
    "### Trainable Parameters: $\\boldsymbol \\theta = (\\theta_0, \\theta_1, \\theta_2) \\in \\mathbb R^3$"
   ]
  },
  {
   "cell_type": "code",
   "execution_count": 5,
   "metadata": {
    "collapsed": false
   },
   "outputs": [
    {
     "name": "stdout",
     "output_type": "stream",
     "text": [
      "<tf.Variable 'theta:0' shape=(3,) dtype=float32_ref>\n"
     ]
    }
   ],
   "source": [
    "with g.as_default():\n",
    "    theta = tf.get_variable(name=\"theta\", \n",
    "                            shape=[3], \n",
    "                            initializer=tf.random_normal_initializer(mean=0, stddev=1, seed=None, dtype=tf.float32),\n",
    "                            dtype=tf.float32)\n",
    "    print(theta)"
   ]
  },
  {
   "cell_type": "markdown",
   "metadata": {},
   "source": [
    "Let's do a quick check to make sure theta looks right when it's initialized.  If you get all zeroes, check the console for error messages.  Sometimes it fails to allocate GPU memory for whatever reason. "
   ]
  },
  {
   "cell_type": "code",
   "execution_count": 6,
   "metadata": {
    "collapsed": false
   },
   "outputs": [
    {
     "name": "stdout",
     "output_type": "stream",
     "text": [
      "[array([-1.42032802, -0.19118559,  1.41559148], dtype=float32)]\n"
     ]
    }
   ],
   "source": [
    "with tf.Session(graph=g) as s:\n",
    "    tf.global_variables_initializer().run()  # Necessary?  Yes!  This is how theta gets initialized\n",
    "    print(s.run([theta]))"
   ]
  },
  {
   "cell_type": "markdown",
   "metadata": {},
   "source": [
    "### Training Operation"
   ]
  },
  {
   "cell_type": "markdown",
   "metadata": {},
   "source": [
    "As mentioned earlier, despite the fact that \n",
    "$$\n",
    "H(y,h_{\\boldsymbol \\theta} (\\mathbf p)) = (y-1) \\log (1-h_{\\boldsymbol \\theta} (\\mathbf p)) - y \\log h_{\\boldsymbol \\theta} (\\mathbf p)\n",
    "$$\n",
    "we're better off mashing the application of the sigmoid together with the cross-entropy calculution (using `tf.nn.sigmoid_cross_entropy_with_logits`) instead of doing those one at a time.  Then we compute the gradient of the loss after that using the `tf.train.GradientDescentOptimizer`."
   ]
  },
  {
   "cell_type": "code",
   "execution_count": 7,
   "metadata": {
    "collapsed": false
   },
   "outputs": [],
   "source": [
    "learning_rate = 0.01\n",
    "with g.as_default():\n",
    "    # Step counter\n",
    "    global_step = tf.Variable(0, name=\"global_step\", trainable=False)\n",
    "\n",
    "    # Compute the hidden layer output (pre-sigmoid function)\n",
    "    logits = tf.reshape(tf.matmul(data_batch, theta[:,None]), [-1])\n",
    "    \n",
    "    # Compute the loss of each example in the mini-batch\n",
    "    losses = tf.nn.sigmoid_cross_entropy_with_logits(labels=tf.cast(label_batch, tf.float32), logits=logits)\n",
    "    \n",
    "    # Find the mean loss of the mini-batch\n",
    "    loss = tf.reduce_mean(losses)\n",
    "    \n",
    "    # Train Op\n",
    "    train_op = tf.train.GradientDescentOptimizer(learning_rate=learning_rate).minimize(loss, global_step=global_step)"
   ]
  },
  {
   "cell_type": "markdown",
   "metadata": {},
   "source": [
    "### TensorBoard Summaries (NEW!)"
   ]
  },
  {
   "cell_type": "code",
   "execution_count": 8,
   "metadata": {
    "collapsed": false
   },
   "outputs": [],
   "source": [
    "with g.as_default():\n",
    "    with tf.name_scope(\"summaries\"):\n",
    "        tf.summary.scalar(\"loss\", loss)\n",
    "        tf.summary.histogram(\"histogram_loss\", loss)\n",
    "        summary_op = tf.summary.merge_all()"
   ]
  },
  {
   "cell_type": "markdown",
   "metadata": {},
   "source": [
    "Just for a sanity check, let's run our train_op in an old-fashioned tf.Session.  For the real training, we'll use a tf.train.Supervisor.managed_session() "
   ]
  },
  {
   "cell_type": "code",
   "execution_count": 9,
   "metadata": {
    "collapsed": false
   },
   "outputs": [],
   "source": [
    "# with tf.Session(graph=g) as s:\n",
    "#     s.run(tf.global_variables_initializer())\n",
    "#     coord = tf.train.Coordinator()\n",
    "#     threads = tf.train.start_queue_runners(coord=coord, sess=s)\n",
    "    \n",
    "#     for i in range(500):\n",
    "#         t_op, ls, gstep = s.run([train_op, loss, global_step])\n",
    "#         if (i % 100 == 0):\n",
    "#             print(\"step %3d:\\tloss = %f\" % (gstep, ls))\n",
    "\n",
    "#     coord.request_stop()\n",
    "#     coord.join(threads)"
   ]
  },
  {
   "cell_type": "markdown",
   "metadata": {},
   "source": [
    "Looks good.  Now let's do it with a pausable session."
   ]
  },
  {
   "cell_type": "markdown",
   "metadata": {},
   "source": [
    "### Training Session"
   ]
  },
  {
   "cell_type": "markdown",
   "metadata": {},
   "source": [
    "Our queue runners will be sampling stochastically with replacement from the whole pool of input data for each batch.  That means--unlike a scheme in which all the training data is permuted--we don't have proper epochs.  What we'll do instead is measure the size of the pool and take an \"epoch\" to be simply that many examples (even if some examples are missed while others are sampled more than once during an \"epoch\" of training)."
   ]
  },
  {
   "cell_type": "code",
   "execution_count": 10,
   "metadata": {
    "collapsed": false
   },
   "outputs": [],
   "source": [
    "import subprocess\n",
    "import numpy as np\n",
    "csv_list_str = \" \".join(csv_file_list)  # input filenames as a space-delimited list\n",
    "training_pool_size = int(subprocess.check_output(\"cat \" + csv_list_str + \" | wc -l\", shell=True).decode('UTF-8'))\n",
    "batches_per_epoch = int(np.ceil(training_pool_size / BATCH_SIZE))"
   ]
  },
  {
   "cell_type": "markdown",
   "metadata": {},
   "source": [
    "TensorFlow supports saving and loading the network parameters using the `tf.train.Saver` class. Since we want checkpoints, however, we can make this easier by using a `tf.train.Supervisor.managed_session` instead of the usual `tf.Session`.  \n",
    "\n",
    "A `managed_session` has its own Saver and it will save checkpoints automatically and reload from them.  The only thing it leaves for us to do is to implement is the \"pause button.\"  To do that, we'll periodically check the training directory for a file named \"pause\".  If one exists, we'll delete it (in preparation for the next use), save a checkpoint manually, and then shut down the training.\n",
    "\n",
    "**BEFORE RUNNING THE NEXT CELL**:\n",
    "- run `tensorboard --logdir ./apparatus-3 &` in a bash terminal\n",
    "- Have this command ready to go:\n",
    "```\n",
    "touch ./apparatus-3/pause\n",
    "```\n",
    "\n",
    "**NB**: Only the *values* of the network parameters are saved and reloaded--not the network topology itself.  We still have to build the graph and if there's input (which there usually is), load it.  The step we skip is the network initialization step (`tf.global_variables_initializer().run()`).  Obviously, we have to leave that to `managed_session()` since we want it to handle the task of choosing whether to reload values from storage or initialize them from scratch."
   ]
  },
  {
   "cell_type": "code",
   "execution_count": 11,
   "metadata": {
    "collapsed": false
   },
   "outputs": [
    {
     "name": "stdout",
     "output_type": "stream",
     "text": [
      "INFO:tensorflow:Restoring parameters from apparatus-3/model.ckpt-3808\n",
      "INFO:tensorflow:global_step/sec: 0\n",
      "INFO:tensorflow:global_step/sec: 0\n",
      "INFO:tensorflow:global_step/sec: 0\n",
      "INFO:tensorflow:global_step/sec: 0\n",
      "INFO:tensorflow:global_step/sec: 0\n",
      "INFO:tensorflow:global_step/sec: 0\n",
      "INFO:tensorflow:global_step/sec: 0\n",
      "INFO:tensorflow:global_step/sec: 0\n",
      "INFO:tensorflow:global_step/sec: 0\n",
      "INFO:tensorflow:global_step/sec: 0\n",
      "step 3846:\tloss = 0.149515\n",
      "step 3884:\tloss = 0.258461\n",
      "step 3922:\tloss = 0.150245\n",
      "step 3960:\tloss = 0.220264\n",
      "step 3998:\tloss = 0.334208\n",
      "step 4036:\tloss = 0.211476\n",
      "step 4074:\tloss = 0.214949\n",
      "step 4112:\tloss = 0.248319\n",
      "step 4150:\tloss = 0.311004\n",
      "step 4188:\tloss = 0.257253\n",
      "step 4226:\tloss = 0.308611\n",
      "step 4264:\tloss = 0.185745\n",
      "step 4302:\tloss = 0.246334\n",
      "step 4340:\tloss = 0.230586\n",
      "step 4378:\tloss = 0.258973\n",
      "step 4416:\tloss = 0.330673\n",
      "step 4454:\tloss = 0.190231\n",
      "step 4492:\tloss = 0.201685\n",
      "step 4568:\tloss = 0.137758\n",
      "step 4606:\tloss = 0.330604\n",
      "step 4644:\tloss = 0.239877\n",
      "step 4682:\tloss = 0.264078\n",
      "step 4720:\tloss = 0.230854\n",
      "step 4758:\tloss = 0.329922\n",
      "step 4796:\tloss = 0.294109\n",
      "step 4834:\tloss = 0.366108\n",
      "step 4872:\tloss = 0.328959\n",
      "step 4910:\tloss = 0.349530\n",
      "step 4948:\tloss = 0.129810\n",
      "step 4986:\tloss = 0.267223\n",
      "step 5024:\tloss = 0.443940\n",
      "step 5062:\tloss = 0.270042\n",
      "step 5100:\tloss = 0.171251\n",
      "step 5138:\tloss = 0.085183\n",
      "step 5176:\tloss = 0.309370\n",
      "step 5214:\tloss = 0.297054\n",
      "Pause command received.  Saving checkpoint and shutting down.\n"
     ]
    }
   ],
   "source": [
    "import time\n",
    "NOTEBOOK_DIR = \"apparatus-3\"\n",
    "pause_file = os.path.join(NOTEBOOK_DIR, \"pause\")\n",
    "checkpoint_file = os.path.join(NOTEBOOK_DIR, \"model.ckpt\")\n",
    "status_report_freq = 1  # number of seconds training status updates \n",
    "\n",
    "# Save the \"metagraph\" (or, as TensorFlow calls it, the \"graph\")\n",
    "#tf.train.write_graph(graph_or_graph_def=g, logdir=training_dir, name=\"apparatus-3_graph.pb\", as_text=False)\n",
    "\n",
    "g.add_to_collection('theta', theta)\n",
    "sv = tf.train.Supervisor(logdir=NOTEBOOK_DIR, graph=g, save_model_secs=0.01, \n",
    "                         save_summaries_secs=0.01,        # NEW\n",
    "                         summary_op=summary_op)           # NEW\n",
    "with sv.managed_session() as s:\n",
    "\n",
    "    # Supervisor calls tf.global_variables_initializer().run() for us\n",
    "    coord = tf.train.Coordinator()\n",
    "    threads = tf.train.start_queue_runners(coord=coord, sess=s)\n",
    "\n",
    "    last_report_time = time.time()\n",
    "    while not sv.should_stop():\n",
    "        for i in range(batches_per_epoch):\n",
    "            t_op, ls, gstep = s.run([train_op, loss, global_step])\n",
    "        if (time.time() - last_report_time > status_report_freq):\n",
    "            last_report_time = time.time()\n",
    "            print(\"step %3d:\\tloss = %f\" % (gstep, ls))\n",
    "            if (tf.gfile.Exists(pause_file)):\n",
    "                sv.Stop()\n",
    "\n",
    "    coord.request_stop()\n",
    "    coord.join(threads)\n",
    "    \n",
    "    if tf.gfile.Exists(pause_file):\n",
    "        print(\"Pause command received.  Saving checkpoint and shutting down.\")\n",
    "        tf.gfile.Remove(pause_file)\n",
    "        sv.saver.save(s, checkpoint_file, global_step=global_step)"
   ]
  },
  {
   "cell_type": "markdown",
   "metadata": {},
   "source": [
    "### Pick up where we left off\n",
    "Note the last reported `step` in the previous cell and then run it again.  Observe that training has begun at `last step + 100`.  You can even reboot the computer and rerun the notebook.  It'll still resume where it left off (as long as the training directory isn't wiped). "
   ]
  },
  {
   "cell_type": "code",
   "execution_count": 11,
   "metadata": {
    "collapsed": true
   },
   "outputs": [],
   "source": [
    "# Kill the kernel, forcing it to restart\n",
    "import os\n",
    "#os._exit(0)"
   ]
  },
  {
   "cell_type": "markdown",
   "metadata": {},
   "source": [
    "## Training Analysis"
   ]
  },
  {
   "cell_type": "markdown",
   "metadata": {},
   "source": [
    "Get a list of the save files available."
   ]
  },
  {
   "cell_type": "code",
   "execution_count": 1,
   "metadata": {
    "collapsed": false
   },
   "outputs": [
    {
     "name": "stdout",
     "output_type": "stream",
     "text": [
      "apparatus-3/model.ckpt-5214.meta apparatus-3/model.ckpt-5214\n"
     ]
    }
   ],
   "source": [
    "import os\n",
    "\n",
    "NOTEBOOK_DIR = \"apparatus-3\"\n",
    "\n",
    "# Grab the most recent metagraph file\n",
    "metagraph_files = [os.path.join(NOTEBOOK_DIR, x) for x in os.listdir(NOTEBOOK_DIR) if x.endswith('.meta')]\n",
    "metagraph_files.sort()\n",
    "metagraph_file = metagraph_files[-1]\n",
    "\n",
    "# Grab the most recent graph file\n",
    "graph_file = os.path.splitext(metagraph_file)[0]\n",
    "\n",
    "print(metagraph_file, graph_file)"
   ]
  },
  {
   "cell_type": "markdown",
   "metadata": {},
   "source": [
    "### Plot the trained dividing line"
   ]
  },
  {
   "cell_type": "markdown",
   "metadata": {},
   "source": [
    "It's nice to see the loss going down, but what does the $\\theta$ line actually look like?  To access the last value of $\\theta$, we need to retrieve it from a `managed_session` again."
   ]
  },
  {
   "cell_type": "code",
   "execution_count": 2,
   "metadata": {
    "collapsed": false
   },
   "outputs": [
    {
     "name": "stdout",
     "output_type": "stream",
     "text": [
      "INFO:tensorflow:Restoring parameters from apparatus-3/model.ckpt-5214\n",
      "[array([ 2.22522473,  2.12785983, -2.03168106], dtype=float32)]\n"
     ]
    }
   ],
   "source": [
    "import tensorflow as tf\n",
    "\n",
    "with tf.Session() as s:\n",
    "    new_saver = tf.train.import_meta_graph(metagraph_file)\n",
    "    new_saver.restore(s, graph_file)\n",
    "    theta = tf.get_collection('theta')\n",
    "    np_theta = s.run(theta)\n",
    "print(np_theta)"
   ]
  },
  {
   "cell_type": "markdown",
   "metadata": {},
   "source": [
    "TensorFlow has the value of $\\theta$ wrapped in a tensor together with its metadata (the type).  The tuple we need is in that first element."
   ]
  },
  {
   "cell_type": "code",
   "execution_count": 3,
   "metadata": {
    "collapsed": false
   },
   "outputs": [
    {
     "name": "stdout",
     "output_type": "stream",
     "text": [
      "[ 2.22522473  2.12785983 -2.03168106]\n"
     ]
    }
   ],
   "source": [
    "print(np_theta[0])"
   ]
  },
  {
   "cell_type": "markdown",
   "metadata": {},
   "source": [
    "How do those three components of $\\theta$ describe the dividing line between classes?  Well, to classify a point $u$ we look at the sign of $$\\langle u, \\theta \\rangle = u_0 \\theta_0 + u_1 \\theta_1 + \\theta_2$$\n",
    "\n",
    "When $u$ is right *on* the dividing line that inner product is 0.  To draw this line using `matplotlib`, we need two distinct points it intersects: two solutions of the following expression (in which we assume that $(\\theta_0, \\theta_1) \\neq (0,0)$):\n",
    "$$u_0 \\theta_0 + u_1 \\theta_1 = -\\theta_2$$\n",
    "\n",
    "If $\\theta_1 = 0$ then the dividing line is $$\\left\\{\\left(-\\frac {\\theta_2} {\\theta_0}, y\\right) : y\\in\\mathbb R\\right\\}$$\n",
    "Otherwise, the dividing line is $$\\left\\{\\left(x, -\\frac {\\theta_2 + x \\, \\theta_0} {\\theta_1} \\right) : x\\in\\mathbb R\\right\\}$$"
   ]
  },
  {
   "cell_type": "code",
   "execution_count": 4,
   "metadata": {
    "collapsed": true
   },
   "outputs": [],
   "source": [
    "# We'll take left border = -1, right border = 2, top border = 2, bottom border = -1\n",
    "if np_theta[0][1] == 0:\n",
    "    l0 = [-np_theta[0][2] / np_theta[0][0], -1]\n",
    "    l1 = [-np_theta[0][2] / np_theta[0][0], 2]\n",
    "else:\n",
    "    l0 = [-1, -(np_theta[0][2] - np_theta[0][0]) / np_theta[0][1]]\n",
    "    l1 = [2,  -(np_theta[0][2] + 2.0 * np_theta[0][0]) / np_theta[0][1]]"
   ]
  },
  {
   "cell_type": "code",
   "execution_count": 5,
   "metadata": {
    "collapsed": false
   },
   "outputs": [
    {
     "name": "stdout",
     "output_type": "stream",
     "text": [
      "[-1, 2.0005574] [2, -1.1367141626715664]\n"
     ]
    }
   ],
   "source": [
    "print(l0, l1)"
   ]
  },
  {
   "cell_type": "markdown",
   "metadata": {},
   "source": [
    "### Read in the CSV files"
   ]
  },
  {
   "cell_type": "code",
   "execution_count": 6,
   "metadata": {
    "collapsed": false
   },
   "outputs": [
    {
     "data": {
      "text/plain": [
       "['bigcluster_parted/test/24.csv',\n",
       " 'bigcluster_parted/test/5.csv',\n",
       " 'bigcluster_parted/test/22.csv',\n",
       " 'bigcluster_parted/test/15.csv',\n",
       " 'bigcluster_parted/test/1.csv',\n",
       " 'bigcluster_parted/test/23.csv',\n",
       " 'bigcluster_parted/test/7.csv',\n",
       " 'bigcluster_parted/test/4.csv',\n",
       " 'bigcluster_parted/test/17.csv',\n",
       " 'bigcluster_parted/test/3.csv',\n",
       " 'bigcluster_parted/test/25.csv',\n",
       " 'bigcluster_parted/test/27.csv',\n",
       " 'bigcluster_parted/test/14.csv',\n",
       " 'bigcluster_parted/test/16.csv',\n",
       " 'bigcluster_parted/test/2.csv',\n",
       " 'bigcluster_parted/test/8.csv',\n",
       " 'bigcluster_parted/test/18.csv',\n",
       " 'bigcluster_parted/test/21.csv',\n",
       " 'bigcluster_parted/test/13.csv',\n",
       " 'bigcluster_parted/test/6.csv',\n",
       " 'bigcluster_parted/test/12.csv',\n",
       " 'bigcluster_parted/test/10.csv',\n",
       " 'bigcluster_parted/test/9.csv',\n",
       " 'bigcluster_parted/test/0.csv',\n",
       " 'bigcluster_parted/test/28.csv',\n",
       " 'bigcluster_parted/test/19.csv',\n",
       " 'bigcluster_parted/test/11.csv',\n",
       " 'bigcluster_parted/test/26.csv',\n",
       " 'bigcluster_parted/test/20.csv']"
      ]
     },
     "execution_count": 6,
     "metadata": {},
     "output_type": "execute_result"
    }
   ],
   "source": [
    "DATA_DIR = 'bigcluster_parted'\n",
    "TEST_DIR = os.path.join(DATA_DIR, 'test')\n",
    "csv_file_list = [os.path.join(TEST_DIR, x) for x in os.listdir(TEST_DIR) if x.endswith('.csv')]\n",
    "csv_file_list"
   ]
  },
  {
   "cell_type": "code",
   "execution_count": 7,
   "metadata": {
    "collapsed": false
   },
   "outputs": [],
   "source": [
    "import numpy as np\n",
    "rows = np.ones(shape=(0,3), dtype=np.float32)\n",
    "for csvfile in csv_file_list:\n",
    "    rows = np.append(rows, np.genfromtxt(csvfile, delimiter=','), axis=0)\n",
    "points = rows[:,:2] \n",
    "labels = rows[:,2]"
   ]
  },
  {
   "cell_type": "code",
   "execution_count": 8,
   "metadata": {
    "collapsed": false
   },
   "outputs": [
    {
     "data": {
      "image/png": "[encoded data removed]",
      "text/plain": [
       "<matplotlib.figure.Figure at 0x7f8cf04966a0>"
      ]
     },
     "metadata": {},
     "output_type": "display_data"
    }
   ],
   "source": [
    "%matplotlib inline\n",
    "import matplotlib.mlab as mlab\n",
    "import matplotlib.pyplot as plt\n",
    "import seaborn as sns\n",
    "\n",
    "vec_colour = np.vectorize(lambda x: ['#0000FF','#FF0000'][int(x)])  # Transform the labels to colours\n",
    "colour_labels = vec_colour(labels)\n",
    "plt.scatter(points[:,0], points[:,1], c=colour_labels)\n",
    "#plt.plot([-1,2], [2,-1])  # This is the line we want a classifier to find\n",
    "plt.plot(l0, l1)\n",
    "plt.show()"
   ]
  },
  {
   "cell_type": "markdown",
   "metadata": {},
   "source": [
    "### Next Objectives\n",
    "#### Early Stopping using a Validation dataset\n",
    "- Choose a validation frequency $\\omega$.  Every $\\omega$ steps we'll evauluate the network on the validation set.\n",
    "- Let $P \\in \\mathbb Z^+$ be our training \"patience\": the number of steps we're prepared to wait before seeing improvement in the validation error.\n",
    "- Whenever the validation error drops, save the parameters.\n",
    "- If the validation error goes more than $P$ steps without decreasing, we'll assume we've overtrained the network.  \n",
    "- Stop training and restore the parameters from the step in which the network achieved the lowest error on the validation set."
   ]
  },
  {
   "cell_type": "code",
   "execution_count": null,
   "metadata": {
    "collapsed": true
   },
   "outputs": [],
   "source": []
  }
 ],
 "metadata": {
  "kernelspec": {
   "display_name": "Python 3",
   "language": "python",
   "name": "python3"
  },
  "language_info": {
   "codemirror_mode": {
    "name": "ipython",
    "version": 3
   },
   "file_extension": ".py",
   "mimetype": "text/x-python",
   "name": "python",
   "nbconvert_exporter": "python",
   "pygments_lexer": "ipython3",
   "version": "3.5.2"
  },
  "latex_envs": {
   "LaTeX_envs_menu_present": true,
   "autocomplete": true,
   "bibliofile": "biblio.bib",
   "cite_by": "apalike",
   "current_citInitial": 1,
   "eqLabelWithNumbers": true,
   "eqNumInitial": 1,
   "hotkeys": {
    "equation": "Ctrl-E",
    "itemize": "Ctrl-I"
   },
   "labels_anchors": false,
   "latex_user_defs": false,
   "report_style_numbering": false,
   "user_envs_cfg": false
  },
  "toc": {
   "colors": {
    "hover_highlight": "#DAA520",
    "navigate_num": "#000000",
    "navigate_text": "#333333",
    "running_highlight": "#FF0000",
    "selected_highlight": "#FFD700",
    "sidebar_border": "#EEEEEE",
    "wrapper_background": "#FFFFFF"
   },
   "moveMenuLeft": true,
   "nav_menu": {
    "height": "104px",
    "width": "252px"
   },
   "navigate_menu": true,
   "number_sections": true,
   "sideBar": true,
   "threshold": 4,
   "toc_cell": false,
   "toc_section_display": "block",
   "toc_window_display": false,
   "widenNotebook": false
  }
 },
 "nbformat": 4,
 "nbformat_minor": 1
}
