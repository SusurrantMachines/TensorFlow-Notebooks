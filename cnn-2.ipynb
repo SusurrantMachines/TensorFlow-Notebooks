{
 "cells": [
  {
   "cell_type": "markdown",
   "metadata": {
    "colab_type": "text",
    "id": "4embtkV0pNxM"
   },
   "source": [
    "Simple CNN for notMNIST with Decoupled Training/Testing Phases\n",
    "=============\n",
    "In cnn-1, the network was created, trained, tested, and then scrapped--all in a single TensorFlow session.  In this version, the network will be trained in a pausable session and all the information needed to rebuild it will be saved.  Then it will be tested in a separate session.  This kind of separation is obviously necessary for doing anything serious with a network (like submitting it for a Kaggle competition)."
   ]
  },
  {
   "cell_type": "code",
   "execution_count": 1,
   "metadata": {
    "cellView": "both",
    "colab": {
     "autoexec": {
      "startup": false,
      "wait_interval": 0
     }
    },
    "colab_type": "code",
    "collapsed": false,
    "id": "tm2CQN_Cpwj0"
   },
   "outputs": [],
   "source": [
    "import numpy as np\n",
    "import tensorflow as tf\n",
    "from six.moves import cPickle as pickle"
   ]
  },
  {
   "cell_type": "markdown",
   "metadata": {},
   "source": [
    "## Input Data"
   ]
  },
  {
   "cell_type": "code",
   "execution_count": 2,
   "metadata": {
    "cellView": "both",
    "colab": {
     "autoexec": {
      "startup": false,
      "wait_interval": 0
     },
     "output_extras": [
      {
       "item_id": 1
      }
     ]
    },
    "colab_type": "code",
    "collapsed": false,
    "executionInfo": {
     "elapsed": 11948,
     "status": "ok",
     "timestamp": 1446658914837,
     "user": {
      "color": "",
      "displayName": "",
      "isAnonymous": false,
      "isMe": true,
      "permissionId": "",
      "photoUrl": "",
      "sessionId": "0",
      "userId": ""
     },
     "user_tz": 480
    },
    "id": "y3-cj1bpmuxc",
    "outputId": "016b1a51-0290-4b08-efdb-8c95ffc3cd01"
   },
   "outputs": [
    {
     "name": "stdout",
     "output_type": "stream",
     "text": [
      "Training set (200000, 28, 28) (200000,)\n"
     ]
    }
   ],
   "source": [
    "pickle_file = '../notMNIST.pickle'\n",
    "\n",
    "with open(pickle_file, 'rb') as f:\n",
    "    save = pickle.load(f)\n",
    "    train_dataset = save['train_dataset']\n",
    "    train_labels = save['train_labels']\n",
    "    del save  # hint to help gc free up memory\n",
    "    print('Training set', train_dataset.shape, train_labels.shape)"
   ]
  },
  {
   "cell_type": "markdown",
   "metadata": {},
   "source": [
    "### Preprocessing $\\cdot$ Normalization"
   ]
  },
  {
   "cell_type": "markdown",
   "metadata": {},
   "source": [
    "Apparently, these networks learn better if the input data (the pixel values, in this context) have a mean of 0 and a variance of 1 [citation needed].  So, we want to adjust the pixel values a bit before we dump them into the machine.  In a future worksheet we'll also compute and subtract the mean *image* (i.e. given pixel coordiates i,j find the mean value of pixel (i,j) across all images in the dataset; do this for each i,j).\n",
    "\n",
    "Let $K = N \\times H \\times W$, where $N$ is the number of images, $H$ is the height of each image, and $W$ is the width.  Let $x_1, x_2, \\ldots, x_K$ be the big list of all the pixel values from all the training images.\n",
    "\n",
    "Getting a mean of 0 is easy.  Just compute the mean $\\mu$ of the pixels in the training data and subtract that from each of them.  We'll also need treat that $\\mu$ as an estimator of the mean of our other datasets and subtract it from them too.  \n",
    "\n",
    "But how do we get varianace 1?  Well, after that first step, our new pixel values will be $x_i' = (x_i-\\mu)$.  We can adjust the variance of those pixels by scaling them.  So, we're looking for a scalar $c$ that will make those values $c(x_i-\\mu)$ have a variance of 1.  The variance of these adjusted pixels is given by this expression (where $\\sigma^2$ is the variance of the original pixels):\n",
    "\n",
    "$$\\begin{eqnarray}\n",
    "\\sum_1^N \\left(c \\left(x_i - \\mu\\right)\\right)^2\n",
    "&=& c^2 \\sum_1^N \\left(x_i - \\mu\\right)^2\\\\\n",
    "&=& c^2 \\sigma^2\\\\\n",
    "\\end{eqnarray}$$\n",
    "\n",
    "So, there you go.  Our scalar $c = \\frac 1 \\sigma$."
   ]
  },
  {
   "cell_type": "code",
   "execution_count": 3,
   "metadata": {
    "collapsed": false
   },
   "outputs": [
    {
     "name": "stdout",
     "output_type": "stream",
     "text": [
      "mu = -0.081865, sigma = 0.454264\n"
     ]
    }
   ],
   "source": [
    "# Find mean and std. dev. of training data\n",
    "mu = np.mean(train_dataset)\n",
    "sigma = np.std(train_dataset)\n",
    "print('mu = %f, sigma = %f' % (mu, sigma))\n",
    "\n",
    "# Normalize dataset\n",
    "train_dataset = (train_dataset - mu) / sigma"
   ]
  },
  {
   "cell_type": "markdown",
   "metadata": {},
   "source": [
    "#### Sanity Check"
   ]
  },
  {
   "cell_type": "markdown",
   "metadata": {},
   "source": [
    "Let's see a histogram of those pixel values."
   ]
  },
  {
   "cell_type": "code",
   "execution_count": 4,
   "metadata": {
    "collapsed": false
   },
   "outputs": [
    {
     "data": {
      "image/png": "[encoded data removed]",
      "text/plain": [
       "<matplotlib.figure.Figure at 0x7f75daae19b0>"
      ]
     },
     "metadata": {},
     "output_type": "display_data"
    }
   ],
   "source": [
    "%matplotlib inline\n",
    "import matplotlib.mlab as mlab\n",
    "import matplotlib.pyplot as plt\n",
    "import seaborn as sns\n",
    "\n",
    "# the histogram of the data\n",
    "n, bins, patches = plt.hist(train_dataset.flatten(), 256)\n",
    "\n",
    "# The default y-tick labels are bizarre when y values are large\n",
    "ax = plt.gca()\n",
    "y_tick_labels = list(map((lambda t: \"%.1E\" % t), ax.get_yticks()))\n",
    "ax.set_yticklabels(y_tick_labels)\n",
    "\n",
    "plt.xlabel('Value')\n",
    "plt.ylabel('Occurrances')\n",
    "\n",
    "# The \"r\" prefix here means \"raw mode\" (don't treat \\ as an escape)\n",
    "# The \"y=1.08\" parameter prevents the title from overlapping with the chart\n",
    "plt.title(r'$\\mathrm{Histogram\\ of\\ Pixel\\ Values\\ in\\ Training\\ Dataset:}\\ \\mu= %.4f,\\ \\sigma=%.4f$' % (mu,sigma), y=1.08)\n",
    "plt.show()"
   ]
  },
  {
   "cell_type": "markdown",
   "metadata": {},
   "source": [
    "As one would guess from looking the pictures in the dataset, they're greyscale but almost completely monochromatic.  Take this, one, say..."
   ]
  },
  {
   "cell_type": "code",
   "execution_count": 5,
   "metadata": {
    "collapsed": false
   },
   "outputs": [
    {
     "data": {
      "image/png": "[encoded data removed]",
      "text/plain": [
       "<matplotlib.figure.Figure at 0x7f75cd587ac8>"
      ]
     },
     "metadata": {},
     "output_type": "display_data"
    }
   ],
   "source": [
    "# Pick a random image from the training dataset\n",
    "i = np.random.randint(train_dataset.shape[0])\n",
    "im = train_dataset[i,:,:]\n",
    "plt.grid(False)\n",
    "plt.imshow(im)\n",
    "plt.show()"
   ]
  },
  {
   "cell_type": "markdown",
   "metadata": {},
   "source": [
    "#### Save Normalization Constants"
   ]
  },
  {
   "cell_type": "markdown",
   "metadata": {},
   "source": [
    "In cnn-1, we did all the training and testing together, so we could normalize all the datasets at once.\n",
    "\n",
    "In this worksheet, we can't do that because the training and testing phases are decoupled.  We need to save the $\\mu$ and $\\sigma$ we calculated for the training data and then reload them for the testing phase.  These stats aren't really part of the neural network, though; they're part of a preprocessing step.  So, we'll save them in a separate graph with a separate Saver.  \n",
    "\n",
    "Why not get a new $\\mu$ and $\\sigma$ directly from the testing data?\n",
    "\n",
    "Two reasons.  Firstly, those values from the training data form a \"lens\" through the which the network was trained to see input (it wasn't trained using the mean and std.dev. of the testing data).  Secondly, that would be \"cheating.\"  In a real-time application, it would not even possible to compute these statistics of the testing data."
   ]
  },
  {
   "cell_type": "code",
   "execution_count": 6,
   "metadata": {
    "collapsed": false
   },
   "outputs": [],
   "source": [
    "g = tf.Graph()\n",
    "with g.as_default():\n",
    "    tf_mu = tf.Variable(name=\"tf_mu\", dtype=tf.float32, initial_value=mu)\n",
    "    tf_sigma = tf.Variable(name=\"tf_sigma\", dtype=tf.float32, initial_value=sigma)\n",
    "with tf.Session(graph=g) as s:\n",
    "    tf.global_variables_initializer().run()\n",
    "    metadata_saver = tf.train.Saver(var_list=[tf_mu, tf_sigma])\n",
    "    metadata_saver.save(s, '/tmp/cnn-2-stats.tfsaver')"
   ]
  },
  {
   "cell_type": "markdown",
   "metadata": {
    "colab_type": "text",
    "id": "L7aHrm6nGDMB"
   },
   "source": [
    "### Preprocessing: Reformat data into a TensorFlow-friendly shapes\n",
    "- The design matrix is currently N x H x W, since they're greyscale images (no channel dimension like you'd get with colour images).  tf.nn.conv2d needs them formatted as N x H x W x #channels, however.  So we need to add a dimension at the end of the shape vector for the input data.\n",
    "- Labels need to be one-hot encoded floats."
   ]
  },
  {
   "cell_type": "code",
   "execution_count": 7,
   "metadata": {
    "collapsed": false
   },
   "outputs": [],
   "source": [
    "def one_hot_encode(labels, num_categories):\n",
    "    '''Converts an array of labels to an array of one-hot-encoded labels.\n",
    "    [NB: Just noticed there's now a \"tf.one_hot\" function.  Should switch to that.]\n",
    "    Args:\n",
    "        labels: list (row vector) of N labels (where N is the number of examples)\n",
    "        num_categories: the number of possible labels\n",
    "    Returns:\n",
    "        N x num_categories array of one-hot encoded labels\n",
    "    '''\n",
    "    # IMPLEMENTATION\n",
    "    # np.expand_dims(labels, 1) is an Nx1 array (a.k.a. a column vector) \n",
    "    # [0..num_categories] == k is evaluated for each label k in the column vector\n",
    "    # This produces a one-hot vector [false, false, ..., true, false, ..., false] where \"true\" is in position k\n",
    "    # Then astype(float32) converts the array of booleans to an array of 0s and 1s (as floats)\n",
    "    return (np.arange(num_categories) == np.expand_dims(labels, 1)).astype(np.float32)"
   ]
  },
  {
   "cell_type": "code",
   "execution_count": 8,
   "metadata": {
    "collapsed": false
   },
   "outputs": [
    {
     "name": "stdout",
     "output_type": "stream",
     "text": [
      "pretend labels =  [6 8 6 7 8]\n"
     ]
    },
    {
     "data": {
      "text/plain": [
       "array([[ 0.,  0.,  0.,  0.,  0.,  0.,  1.,  0.,  0.,  0.],\n",
       "       [ 0.,  0.,  0.,  0.,  0.,  0.,  0.,  0.,  1.,  0.],\n",
       "       [ 0.,  0.,  0.,  0.,  0.,  0.,  1.,  0.,  0.,  0.],\n",
       "       [ 0.,  0.,  0.,  0.,  0.,  0.,  0.,  1.,  0.,  0.],\n",
       "       [ 0.,  0.,  0.,  0.,  0.,  0.,  0.,  0.,  1.,  0.]], dtype=float32)"
      ]
     },
     "execution_count": 8,
     "metadata": {},
     "output_type": "execute_result"
    }
   ],
   "source": [
    "# Testing one_hot_encode\n",
    "pretend_labels = np.random.randint(10, size=5)\n",
    "print(\"pretend labels = \", pretend_labels)\n",
    "one_hot_encode(pretend_labels, 10)"
   ]
  },
  {
   "cell_type": "code",
   "execution_count": 9,
   "metadata": {
    "cellView": "both",
    "colab": {
     "autoexec": {
      "startup": false,
      "wait_interval": 0
     },
     "output_extras": [
      {
       "item_id": 1
      }
     ]
    },
    "colab_type": "code",
    "collapsed": false,
    "executionInfo": {
     "elapsed": 11952,
     "status": "ok",
     "timestamp": 1446658914857,
     "user": {
      "color": "",
      "displayName": "",
      "isAnonymous": false,
      "isMe": true,
      "permissionId": "",
      "photoUrl": "",
      "sessionId": "0",
      "userId": ""
     },
     "user_tz": 480
    },
    "id": "IRSyYiIIGIzS",
    "outputId": "650a208c-8359-4852-f4f5-8bf10e80ef6c"
   },
   "outputs": [
    {
     "name": "stdout",
     "output_type": "stream",
     "text": [
      "Training dataset\t (200000, 28, 28, 1) \tTraining labels\t\t (200000, 10)\n"
     ]
    }
   ],
   "source": [
    "image_size = 28  # 32 for MNIST, but we're doing notMNIST\n",
    "num_labels = 10  # notMNIST is ABCDEFGHIJ, which is also 10 categories\n",
    "num_channels = 1 # grayscale\n",
    "\n",
    "with tf.name_scope(\"Training-Input\") as scope:\n",
    "    train_dataset = np.expand_dims(train_dataset, 3) # NxHxW --> NxHxWx1\n",
    "    train_labels = one_hot_encode(train_labels, num_labels)\n",
    "print('Training dataset\\t', train_dataset.shape, \"\\tTraining labels\\t\\t\", train_labels.shape)"
   ]
  },
  {
   "cell_type": "markdown",
   "metadata": {},
   "source": [
    "## The Computation Graph"
   ]
  },
  {
   "cell_type": "markdown",
   "metadata": {},
   "source": [
    "### Hyperparameters"
   ]
  },
  {
   "cell_type": "code",
   "execution_count": 10,
   "metadata": {
    "collapsed": false
   },
   "outputs": [],
   "source": [
    "with tf.name_scope(\"Hyperparameters\") as scope:\n",
    "    batch_size = 16\n",
    "    patch_size = 5    # kernel \n",
    "    depth = 16        # depth of first hidden layer\n",
    "    num_hidden = 64"
   ]
  },
  {
   "cell_type": "markdown",
   "metadata": {},
   "source": [
    "### Create Graph and Set Up Placeholder Nodes in GPU Memory for the Input Data"
   ]
  },
  {
   "cell_type": "code",
   "execution_count": 11,
   "metadata": {
    "collapsed": false
   },
   "outputs": [],
   "source": [
    "graph = tf.Graph()\n",
    "with graph.as_default():\n",
    "    with tf.name_scope('Training-Input-Data'):\n",
    "        tf_train_dataset = tf.placeholder(tf.float32, shape=(batch_size, image_size, image_size, num_channels))\n",
    "        tf_train_labels  = tf.placeholder(tf.float32, shape=(batch_size, num_labels))"
   ]
  },
  {
   "cell_type": "markdown",
   "metadata": {},
   "source": [
    "### Allocate and Initialize All Weights and Biases\n",
    "We'll use tf.get_variable instead of tf.Variable to make it easier for multi-GPU runs. "
   ]
  },
  {
   "cell_type": "code",
   "execution_count": 12,
   "metadata": {
    "collapsed": true
   },
   "outputs": [],
   "source": [
    "with graph.as_default():\n",
    "    \n",
    "    # First Conv Layer\n",
    "    with tf.variable_scope('ConvPoolRelu1'):\n",
    "        weights = tf.get_variable(name = \"weights\", \n",
    "                                  shape = (patch_size, patch_size, num_channels, depth), \n",
    "                                  initializer = tf.truncated_normal_initializer(mean = 0, \n",
    "                                                                               stddev = 0.1, \n",
    "                                                                               seed = None), \n",
    "                                  dtype = tf.float32)\n",
    "        biases = tf.get_variable(name = \"biases\",\n",
    "                                 shape = (depth),\n",
    "                                 initializer = tf.constant_initializer(0),\n",
    "                                 dtype = tf.float32)\n",
    "    # Second Conv Layer\n",
    "    with tf.variable_scope('ConvPoolRelu2'):  \n",
    "        weights = tf.get_variable(name = \"weights\", \n",
    "                                  shape = (patch_size, patch_size, depth, depth), \n",
    "                                  initializer = tf.truncated_normal_initializer(mean = 0, \n",
    "                                                                               stddev = 0.1, \n",
    "                                                                               seed = None), \n",
    "                                  dtype = tf.float32)\n",
    "        biases = tf.get_variable(name = \"biases\",\n",
    "                                 shape = (depth),\n",
    "                                 initializer = tf.constant_initializer(0),\n",
    "                                 dtype = tf.float32)\n",
    "    # First Fully-Connected Layer\n",
    "    with tf.variable_scope('FullyConnected3'):\n",
    "        weights = tf.get_variable(name = \"weights\", \n",
    "                                  shape = ((image_size//4)**2 * depth, num_hidden), \n",
    "                                  initializer = tf.truncated_normal_initializer(mean = 0, \n",
    "                                                                               stddev = 0.1, \n",
    "                                                                               seed = None), \n",
    "                                  dtype = tf.float32)\n",
    "        biases = tf.get_variable(name = \"biases\",\n",
    "                                 shape = (num_hidden),\n",
    "                                 initializer = tf.constant_initializer(0),\n",
    "                                 dtype = tf.float32)\n",
    "    # Second Fully-Connected Layer\n",
    "    with tf.variable_scope('FullyConnected4'):\n",
    "        weights = tf.get_variable(name = \"weights\", \n",
    "                                  shape = (num_hidden, num_labels), \n",
    "                                  initializer = tf.truncated_normal_initializer(mean = 0, \n",
    "                                                                               stddev = 0.1, \n",
    "                                                                               seed = None), \n",
    "                                  dtype = tf.float32)\n",
    "        biases = tf.get_variable(name = \"biases\",\n",
    "                                 shape = (num_labels),\n",
    "                                 initializer = tf.constant_initializer(0),\n",
    "                                 dtype = tf.float32)"
   ]
  },
  {
   "cell_type": "markdown",
   "metadata": {},
   "source": [
    "### Layer-building Functions"
   ]
  },
  {
   "cell_type": "code",
   "execution_count": 13,
   "metadata": {
    "collapsed": true
   },
   "outputs": [],
   "source": [
    "def conv_pool_relu_layer(X, W, b):\n",
    "    conv_X = tf.nn.conv2d(X, W, [1, 1, 1, 1], padding='SAME')\n",
    "    pool_conv_X = tf.nn.max_pool(conv_X, [1,2,2,1], [1,2,2,1], padding='SAME')\n",
    "    relu_pool_conv_X = tf.nn.relu(pool_conv_X + b)\n",
    "    return relu_pool_conv_X\n",
    "\n",
    "def fc_layer(X, W, b):\n",
    "    return tf.matmul(X, W) + b\n",
    "\n",
    "def flatten_activation_map(x):\n",
    "    \"\"\"Converts a 4D tensor into a 2D tensor (so it can be fed to a fully-connected layer).\n",
    "    Args:\n",
    "        x: tensor with shape (N, H, W, C)\n",
    "    Returns:\n",
    "        tensor with shape (N, H*W*C)\n",
    "    \"\"\"\n",
    "    s = x.get_shape().as_list()\n",
    "    return tf.reshape(x, [s[0], -1])"
   ]
  },
  {
   "cell_type": "markdown",
   "metadata": {},
   "source": [
    "### Network-assembly Function"
   ]
  },
  {
   "cell_type": "code",
   "execution_count": 14,
   "metadata": {
    "collapsed": true
   },
   "outputs": [],
   "source": [
    "def model(data):\n",
    "    \"\"\"Retrieves the weights and biases and constructs the computation graph with them.\n",
    "    Args:\n",
    "        data: A batch tensor of input examples K x H x W x D (where K is the batch size)\n",
    "    Returns: the network output K x C (where C is the number of categories)\n",
    "    \"\"\"\n",
    "    with tf.variable_scope('ConvPoolRelu1', reuse=True):\n",
    "        W = tf.get_variable(\"weights\")\n",
    "        B = tf.get_variable(\"biases\")\n",
    "        layer_1_output = conv_pool_relu_layer(data, W, B)\n",
    "    with tf.variable_scope('ConvPoolRelu2', reuse=True):\n",
    "        W = tf.get_variable(\"weights\")\n",
    "        B = tf.get_variable(\"biases\")\n",
    "        layer_2_output = conv_pool_relu_layer(layer_1_output, W, B)\n",
    "        flat_X = flatten_activation_map(layer_2_output)\n",
    "    with tf.variable_scope('FullyConnected3', reuse=True):\n",
    "        W = tf.get_variable(\"weights\")\n",
    "        B = tf.get_variable(\"biases\")\n",
    "        fc1_layer_output = tf.nn.relu(fc_layer(flat_X, W, B))\n",
    "    with tf.variable_scope('FullyConnected4', reuse=True):\n",
    "        W = tf.get_variable(\"weights\")\n",
    "        B = tf.get_variable(\"biases\")\n",
    "        fc2_layer_output = fc_layer(fc1_layer_output, W, B)\n",
    "    return fc2_layer_output"
   ]
  },
  {
   "cell_type": "markdown",
   "metadata": {},
   "source": [
    "### Interpret the Output, Set Up the Loss Function, Specify the Learning Algorithm "
   ]
  },
  {
   "cell_type": "code",
   "execution_count": 15,
   "metadata": {
    "cellView": "both",
    "colab": {
     "autoexec": {
      "startup": false,
      "wait_interval": 0
     }
    },
    "colab_type": "code",
    "collapsed": false,
    "id": "IZYv70SvvOan"
   },
   "outputs": [],
   "source": [
    "with graph.as_default():\n",
    "    # Training computation.\n",
    "    logits = model(tf_train_dataset)\n",
    "    loss = tf.reduce_mean(tf.nn.softmax_cross_entropy_with_logits(logits=logits, labels=tf_train_labels))\n",
    "    tf.summary.scalar(\"Loss\", loss)\n",
    "    global_step = tf.Variable(0, name='global_step', trainable=False)\n",
    "    train_op = tf.train.GradientDescentOptimizer(0.05).minimize(loss)\n",
    "\n",
    "    # Predictions for the training, validation, and test data.\n",
    "    train_prediction = tf.nn.softmax(logits)"
   ]
  },
  {
   "cell_type": "markdown",
   "metadata": {},
   "source": [
    "### Training-related Functions"
   ]
  },
  {
   "cell_type": "code",
   "execution_count": 16,
   "metadata": {
    "cellView": "both",
    "colab": {
     "autoexec": {
      "startup": false,
      "wait_interval": 0
     }
    },
    "colab_type": "code",
    "collapsed": true,
    "id": "AgQDIREv02p1"
   },
   "outputs": [],
   "source": [
    "def accuracy(predictions, labels):\n",
    "    '''\n",
    "    \"Grades\" a list of predictions (like marking a multiple choice test).\n",
    "    Accepts a list of one-hot predictions and a list of ground truth labels (the right answers) \n",
    "    Args:\n",
    "        predictions: NxK float array of one-hot-encoded network output, \n",
    "                     where N is the number of examples and K is the number of categories\n",
    "        labels: NxK array of one-hot-encoded ground truth labels (why one-hot encode those??)\n",
    "    Returns:\n",
    "        Percetage of correct predictions.\n",
    "    '''\n",
    "    # argmax(predictions, 1) gives the \"mostly likely\" category (\"one-decodes\" the network output)\n",
    "    # argmax(labels, 1) does the same thing \n",
    "    #    Why did we even one-hot encode those to begin with??\n",
    "    #    Ah... Right.  Because the loss function compares them to the network output.\n",
    "    # By putting the == inside a sum, we're implicitly casting the equality test to an int.\n",
    "    # Correct predictions yield 1, incorrect ones yield 0.\n",
    "    # Then we divide the tally of 1s by the number of predictions in the set.\n",
    "    return (100.0 * np.sum(np.argmax(predictions, 1) == np.argmax(labels, 1)) \n",
    "          / predictions.shape[0])\n",
    "\n",
    "def variable_summaries(var, name):\n",
    "    \"\"\"Attach a lot of summaries to a Tensor.\"\"\"\n",
    "    with tf.name_scope('summaries'):\n",
    "        mean = tf.reduce_mean(var)\n",
    "        tf.summary.scalar('mean/' + name, mean)\n",
    "        with tf.name_scope('stddev'):\n",
    "            stddev = tf.sqrt(tf.reduce_sum(tf.square(var - mean)))\n",
    "        tf.summary.scalar('sttdev/' + name, stddev)\n",
    "        tf.summary.scalar('max/' + name, tf.reduce_max(var))\n",
    "        tf.summary.scalar('min/' + name, tf.reduce_min(var))\n",
    "        tf.summary.histogram(name, var)\n",
    "    \n",
    "def clear_tensorboard_dir(path):\n",
    "    if tf.gfile.Exists(path):\n",
    "        tf.gfile.DeleteRecursively(path)\n",
    "    tf.gfile.MakeDirs(path)\n",
    "\n",
    "def make_batch(data, max_size, batch_num):\n",
    "    n = data.shape[0]\n",
    "    offset = (batch_num * max_size) % n\n",
    "    return data[offset:offset+max_size]"
   ]
  },
  {
   "cell_type": "markdown",
   "metadata": {},
   "source": [
    "## Train the Network and Save Its Parameters"
   ]
  },
  {
   "cell_type": "code",
   "execution_count": null,
   "metadata": {
    "cellView": "both",
    "colab": {
     "autoexec": {
      "startup": false,
      "wait_interval": 0
     },
     "output_extras": [
      {
       "item_id": 37
      }
     ]
    },
    "colab_type": "code",
    "collapsed": false,
    "executionInfo": {
     "elapsed": 63292,
     "status": "ok",
     "timestamp": 1446658966251,
     "user": {
      "color": "",
      "displayName": "",
      "isAnonymous": false,
      "isMe": true,
      "permissionId": "",
      "photoUrl": "",
      "sessionId": "0",
      "userId": ""
     },
     "user_tz": 480
    },
    "id": "noKFb2UovVFR",
    "outputId": "28941338-2ef9-4088-8bd1-44295661e628",
    "scrolled": true
   },
   "outputs": [
    {
     "name": "stdout",
     "output_type": "stream",
     "text": [
      "Training...\n",
      "\n",
      "Epoch 1 of 1\n",
      "-- 100% complete --\n",
      "Trained in 0:00:32.879681 at 0:00:32.879681 per epoch\n"
     ]
    }
   ],
   "source": [
    "import time\n",
    "from datetime import timedelta\n",
    "\n",
    "num_epochs = 1\n",
    "\n",
    "# Clear the tensorboard directory\n",
    "clear_tensorboard_dir(\"tensorboard\")\n",
    "\n",
    "with tf.Session(graph=graph) as session:\n",
    "    saver = tf.train.Saver()\n",
    "    merged_summaries = tf.summary.merge_all()\n",
    "    train_writer = tf.summary.FileWriter('./tensorboard', session.graph)\n",
    "    \n",
    "    # Initialize the variables on the GPU\n",
    "    tf.global_variables_initializer().run()\n",
    "\n",
    "    print('Training...')\n",
    "    start_time = time.time()\n",
    "    n_examples = train_dataset.shape[0]\n",
    "    batches_per_epoch = int(np.ceil(n_examples / batch_size))\n",
    "    for epoch in range(num_epochs):\n",
    "        print('\\nEpoch %d of %d' % ((epoch+1), num_epochs))\n",
    "        for batch in range(batches_per_epoch):\n",
    "            batch_data = make_batch(train_dataset, batch_size, batch)\n",
    "            batch_labels = make_batch(train_labels, batch_size, batch)\n",
    "            feed_dict = {tf_train_dataset: batch_data, tf_train_labels: batch_labels}\n",
    "            merged_sums, _, l, predictions = session.run([merged_summaries, train_op, loss, train_prediction], \n",
    "                                                         feed_dict=feed_dict)\n",
    "            # Progress report\n",
    "            if ((batch+1) % (batches_per_epoch // 100) == 0):\n",
    "                #train_writer.add_summary(merged_sums, batch)\n",
    "                print('\\r-- %d%% complete --' % (100*(batch+1) // batches_per_epoch), end=\"\")\n",
    "\n",
    "                # Save the variables to disk.\n",
    "                save_path = saver.save(session, \"/tmp/model.ckpt\")\n",
    "                #print(\"Model saved in file: %s\" % save_path)\n",
    "            \n",
    "    duration = timedelta(seconds=(time.time() - start_time))\n",
    "    print('\\nTrained in %s at %s per epoch' % (duration, duration / num_epochs))\n",
    "    \n",
    "    train_writer.close()    "
   ]
  },
  {
   "cell_type": "markdown",
   "metadata": {},
   "source": [
    "# Testing Phase\n",
    "Now, we want to **wipe memory clean** (restart the Jupyter notebook kernel) and load only the network parameters that the training session saved for us.  We also need to load up the testing data, and normalize it."
   ]
  },
  {
   "cell_type": "code",
   "execution_count": null,
   "metadata": {
    "collapsed": true
   },
   "outputs": [],
   "source": [
    "# Kill the kernel, forcing it to restart - NB: You'll have to step manually from here on.\n",
    "import os\n",
    "os._exit(0)"
   ]
  },
  {
   "cell_type": "markdown",
   "metadata": {},
   "source": [
    "## Unpickle the test data"
   ]
  },
  {
   "cell_type": "code",
   "execution_count": 1,
   "metadata": {
    "collapsed": false
   },
   "outputs": [
    {
     "name": "stdout",
     "output_type": "stream",
     "text": [
      "Test set (18724, 28, 28) (18724,)\n"
     ]
    }
   ],
   "source": [
    "import numpy as np\n",
    "import tensorflow as tf\n",
    "from six.moves import cPickle as pickle\n",
    "\n",
    "pickle_file = '../notMNIST.pickle'\n",
    "\n",
    "with open(pickle_file, 'rb') as f:\n",
    "    save = pickle.load(f)\n",
    "    test_dataset = save['test_dataset']\n",
    "    test_labels = save['test_labels']\n",
    "    del save  # hint to help gc free up memory\n",
    "    print('Test set', test_dataset.shape, test_labels.shape)"
   ]
  },
  {
   "cell_type": "markdown",
   "metadata": {},
   "source": [
    "### Normalize\n",
    "Start a session, create a saver, and use it to restore the graph so we can retrieve the $\\mu$ and $\\sigma$ constants.  We *could* get these in the main testing session, but it's nice to have the flexibility afforded by keeping these tasks in separate sessions (plus, the one-session way is obvious; the two-session way is challenging and useful so it has didactic value)."
   ]
  },
  {
   "cell_type": "code",
   "execution_count": 2,
   "metadata": {
    "collapsed": false
   },
   "outputs": [
    {
     "name": "stdout",
     "output_type": "stream",
     "text": [
      "INFO:tensorflow:Restoring parameters from /tmp/cnn-2-stats.tfsaver\n",
      "mu = -0.081865, sigma = 0.454264\n"
     ]
    }
   ],
   "source": [
    "g = tf.Graph()\n",
    "with g.as_default():\n",
    "    tf_mu = tf.Variable(name=\"tf_mu\", dtype=tf.float32, initial_value=0)\n",
    "    tf_sigma = tf.Variable(name=\"tf_sigma\", dtype=tf.float32, initial_value=0)\n",
    "with tf.Session(graph=g) as s:\n",
    "    metadata_saver = tf.train.Saver(var_list=[tf_mu, tf_sigma])\n",
    "    metadata_saver.restore(s, '/tmp/cnn-2-stats.tfsaver')\n",
    "    mu, sigma = s.run([tf_mu, tf_sigma])\n",
    "    print(\"mu = %f, sigma = %f\" % (mu, sigma))\n",
    "    \n",
    "    # Use mu and sigma as an estimator of the mean and std. dev. of the test dataset and normalize it\n",
    "    test_dataset = (test_dataset - mu) / sigma"
   ]
  },
  {
   "cell_type": "markdown",
   "metadata": {},
   "source": [
    "## The Computation Graph (Again) $\\cdot$ Testing Phase"
   ]
  },
  {
   "cell_type": "markdown",
   "metadata": {},
   "source": [
    "### Hyperparameters"
   ]
  },
  {
   "cell_type": "code",
   "execution_count": 3,
   "metadata": {
    "collapsed": false
   },
   "outputs": [],
   "source": [
    "test_batch_size = 1000  # no need to overthink think this one; just find a size that fits on the GPU    \n",
    "patch_size = 5    # kernel \n",
    "depth = 16        # depth of first hidden layer\n",
    "num_hidden = 64\n",
    "image_size = 28\n",
    "num_channels = 1\n",
    "num_labels = 10"
   ]
  },
  {
   "cell_type": "markdown",
   "metadata": {
    "heading_collapsed": true
   },
   "source": [
    "### Create Graph and Set Up Placeholder Nodes in GPU Memory for the Input Data"
   ]
  },
  {
   "cell_type": "code",
   "execution_count": null,
   "metadata": {
    "collapsed": false,
    "hidden": true
   },
   "outputs": [],
   "source": [
    "testing_graph = tf.Graph()\n",
    "with testing_graph.as_default():\n",
    "    with tf.name_scope('Testing-Input-Data'):\n",
    "        tf_test_dataset = tf.placeholder(tf.float32, shape=(test_batch_size, image_size, image_size, num_channels))\n",
    "        tf_test_labels  = tf.placeholder(tf.float32, shape=(test_batch_size, num_labels))"
   ]
  },
  {
   "cell_type": "markdown",
   "metadata": {
    "heading_collapsed": true
   },
   "source": [
    "### Allocate and Initialize All Weights and Biases\n",
    "This time we don't have to worry about initialization. The Saver will do that."
   ]
  },
  {
   "cell_type": "code",
   "execution_count": null,
   "metadata": {
    "collapsed": true,
    "hidden": true
   },
   "outputs": [],
   "source": [
    "with testing_graph.as_default():\n",
    "    \n",
    "    # First Conv Layer\n",
    "    with tf.variable_scope('ConvPoolRelu1'):\n",
    "        weights = tf.get_variable(name = \"weights\", \n",
    "                                  shape = (patch_size, patch_size, num_channels, depth), \n",
    "                                  dtype = tf.float32)\n",
    "        biases = tf.get_variable(name = \"biases\",\n",
    "                                 shape = (depth),\n",
    "                                 dtype = tf.float32)\n",
    "    # Second Conv Layer\n",
    "    with tf.variable_scope('ConvPoolRelu2'):  \n",
    "        weights = tf.get_variable(name = \"weights\", \n",
    "                                  shape = (patch_size, patch_size, depth, depth), \n",
    "                                  dtype = tf.float32)\n",
    "        biases = tf.get_variable(name = \"biases\",\n",
    "                                 shape = (depth),\n",
    "                                 dtype = tf.float32)\n",
    "    # First Fully-Connected Layer\n",
    "    with tf.variable_scope('FullyConnected3'):\n",
    "        weights = tf.get_variable(name = \"weights\", \n",
    "                                  shape = ((image_size//4)**2 * depth, num_hidden), \n",
    "                                  dtype = tf.float32)\n",
    "        biases = tf.get_variable(name = \"biases\",\n",
    "                                 shape = (num_hidden),\n",
    "                                 dtype = tf.float32)\n",
    "    # Second Fully-Connected Layer\n",
    "    with tf.variable_scope('FullyConnected4'):\n",
    "        weights = tf.get_variable(name = \"weights\", \n",
    "                                  shape = (num_hidden, num_labels), \n",
    "                                  dtype = tf.float32)\n",
    "        biases = tf.get_variable(name = \"biases\",\n",
    "                                 shape = (num_labels),\n",
    "                                 dtype = tf.float32)"
   ]
  },
  {
   "cell_type": "markdown",
   "metadata": {
    "heading_collapsed": true
   },
   "source": [
    "### Layer-building Functions (Again)"
   ]
  },
  {
   "cell_type": "markdown",
   "metadata": {
    "hidden": true
   },
   "source": [
    "(Should import these from a file so they aren't copied/pasted)"
   ]
  },
  {
   "cell_type": "code",
   "execution_count": null,
   "metadata": {
    "collapsed": true,
    "hidden": true
   },
   "outputs": [],
   "source": [
    "def conv_pool_relu_layer(X, W, b):\n",
    "    conv_X = tf.nn.conv2d(X, W, [1, 1, 1, 1], padding='SAME')\n",
    "    pool_conv_X = tf.nn.max_pool(conv_X, [1,2,2,1], [1,2,2,1], padding='SAME')\n",
    "    relu_pool_conv_X = tf.nn.relu(pool_conv_X + b)\n",
    "    return relu_pool_conv_X\n",
    "\n",
    "def fc_layer(X, W, b):\n",
    "    return tf.matmul(X, W) + b\n",
    "\n",
    "def flatten_activation_map(x):\n",
    "    \"\"\"Converts a 4D tensor into a 2D tensor (so it can be fed to a fully-connected layer).\n",
    "    Args:\n",
    "        x: tensor with shape (N, H, W, C)\n",
    "    Returns:\n",
    "        tensor with shape (N, H*W*C)\n",
    "    \"\"\"\n",
    "    s = x.get_shape().as_list()\n",
    "    return tf.reshape(x, [s[0], -1])"
   ]
  },
  {
   "cell_type": "markdown",
   "metadata": {
    "heading_collapsed": true
   },
   "source": [
    "### Network-assembly Function (Again)"
   ]
  },
  {
   "cell_type": "code",
   "execution_count": null,
   "metadata": {
    "collapsed": true,
    "hidden": true
   },
   "outputs": [],
   "source": [
    "def model(data):\n",
    "    \"\"\"Retrieves the weights and biases and constructs the computation graph with them.\n",
    "    Args:\n",
    "        data: A batch tensor of input examples K x H x W x D (where K is the batch size)\n",
    "    Returns: the network output K x C (where C is the number of categories)\n",
    "    \"\"\"\n",
    "    with tf.variable_scope('ConvPoolRelu1', reuse=True):\n",
    "        W = tf.get_variable(\"weights\")\n",
    "        B = tf.get_variable(\"biases\")\n",
    "        layer_1_output = conv_pool_relu_layer(data, W, B)\n",
    "    with tf.variable_scope('ConvPoolRelu2', reuse=True):\n",
    "        W = tf.get_variable(\"weights\")\n",
    "        B = tf.get_variable(\"biases\")\n",
    "        layer_2_output = conv_pool_relu_layer(layer_1_output, W, B)\n",
    "        flat_X = flatten_activation_map(layer_2_output)\n",
    "    with tf.variable_scope('FullyConnected3', reuse=True):\n",
    "        W = tf.get_variable(\"weights\")\n",
    "        B = tf.get_variable(\"biases\")\n",
    "        fc1_layer_output = tf.nn.relu(fc_layer(flat_X, W, B))\n",
    "    with tf.variable_scope('FullyConnected4', reuse=True):\n",
    "        W = tf.get_variable(\"weights\")\n",
    "        B = tf.get_variable(\"biases\")\n",
    "        fc2_layer_output = fc_layer(fc1_layer_output, W, B)\n",
    "    return fc2_layer_output"
   ]
  },
  {
   "cell_type": "markdown",
   "metadata": {},
   "source": [
    "### Network Output "
   ]
  },
  {
   "cell_type": "code",
   "execution_count": 4,
   "metadata": {
    "cellView": "both",
    "colab": {
     "autoexec": {
      "startup": false,
      "wait_interval": 0
     }
    },
    "colab_type": "code",
    "collapsed": false,
    "id": "IZYv70SvvOan"
   },
   "outputs": [
    {
     "ename": "NameError",
     "evalue": "name 'model' is not defined",
     "output_type": "error",
     "traceback": [
      "\u001b[0;31m---------------------------------------------------------------------------\u001b[0m",
      "\u001b[0;31mNameError\u001b[0m                                 Traceback (most recent call last)",
      "\u001b[0;32m<ipython-input-4-7ca905260f0f>\u001b[0m in \u001b[0;36m<module>\u001b[0;34m()\u001b[0m\n\u001b[1;32m      1\u001b[0m \u001b[0mtesting_graph\u001b[0m \u001b[0;34m=\u001b[0m \u001b[0mtf\u001b[0m\u001b[0;34m.\u001b[0m\u001b[0mGraph\u001b[0m\u001b[0;34m(\u001b[0m\u001b[0;34m)\u001b[0m\u001b[0;34m\u001b[0m\u001b[0m\n\u001b[1;32m      2\u001b[0m \u001b[0;32mwith\u001b[0m \u001b[0mtesting_graph\u001b[0m\u001b[0;34m.\u001b[0m\u001b[0mas_default\u001b[0m\u001b[0;34m(\u001b[0m\u001b[0;34m)\u001b[0m\u001b[0;34m:\u001b[0m\u001b[0;34m\u001b[0m\u001b[0m\n\u001b[0;32m----> 3\u001b[0;31m     \u001b[0mtest_prediction\u001b[0m \u001b[0;34m=\u001b[0m \u001b[0mtf\u001b[0m\u001b[0;34m.\u001b[0m\u001b[0mnn\u001b[0m\u001b[0;34m.\u001b[0m\u001b[0msoftmax\u001b[0m\u001b[0;34m(\u001b[0m\u001b[0mmodel\u001b[0m\u001b[0;34m(\u001b[0m\u001b[0mtf_test_dataset\u001b[0m\u001b[0;34m)\u001b[0m\u001b[0;34m)\u001b[0m\u001b[0;34m\u001b[0m\u001b[0m\n\u001b[0m",
      "\u001b[0;31mNameError\u001b[0m: name 'model' is not defined"
     ]
    }
   ],
   "source": [
    "testing_graph = tf.Graph()\n",
    "with testing_graph.as_default():\n",
    "    test_prediction = tf.nn.softmax(model(tf_test_dataset))"
   ]
  },
  {
   "cell_type": "markdown",
   "metadata": {},
   "source": [
    "### Session-related Functions"
   ]
  },
  {
   "cell_type": "code",
   "execution_count": 5,
   "metadata": {
    "cellView": "both",
    "colab": {
     "autoexec": {
      "startup": false,
      "wait_interval": 0
     }
    },
    "colab_type": "code",
    "collapsed": true,
    "id": "AgQDIREv02p1"
   },
   "outputs": [],
   "source": [
    "def accuracy(predictions, labels):\n",
    "    '''\n",
    "    \"Grades\" a list of predictions (like marking a multiple choice test).\n",
    "    Accepts a list of one-hot predictions and a list of ground truth labels (the right answers) \n",
    "    Args:\n",
    "        predictions: NxK float array of one-hot-encoded network output, \n",
    "                     where N is the number of examples and K is the number of categories\n",
    "        labels: NxK array of one-hot-encoded ground truth labels\n",
    "    Returns:\n",
    "        Percetage of correct predictions.\n",
    "    '''\n",
    "    return (100.0 * np.sum(np.argmax(predictions, 1) == np.argmax(labels, 1)) \n",
    "          / predictions.shape[0])\n",
    "\n",
    "def make_batch(data, max_size, batch_num):\n",
    "    n = data.shape[0]\n",
    "    offset = (batch_num * max_size) % n\n",
    "    return data[offset:offset+max_size]"
   ]
  },
  {
   "cell_type": "markdown",
   "metadata": {},
   "source": [
    "### Testing Session"
   ]
  },
  {
   "cell_type": "code",
   "execution_count": 6,
   "metadata": {
    "collapsed": false
   },
   "outputs": [
    {
     "name": "stdout",
     "output_type": "stream",
     "text": [
      "INFO:tensorflow:Restoring parameters from /tmp/model.ckpt.data-00000-of-00001\n"
     ]
    },
    {
     "ename": "DataLossError",
     "evalue": "Unable to open table file /tmp/model.ckpt.data-00000-of-00001: Data loss: not an sstable (bad magic number): perhaps your file is in a different file format and you need to use a different restore operator?\n\t [[Node: save/RestoreV2_4 = RestoreV2[dtypes=[DT_FLOAT], _device=\"/job:localhost/replica:0/task:0/cpu:0\"](_recv_save/Const_0, save/RestoreV2_4/tensor_names, save/RestoreV2_4/shape_and_slices)]]\n\t [[Node: save/RestoreV2_3/_11 = _Recv[client_terminated=false, recv_device=\"/job:localhost/replica:0/task:0/gpu:0\", send_device=\"/job:localhost/replica:0/task:0/cpu:0\", send_device_incarnation=1, tensor_name=\"edge_42_save/RestoreV2_3\", tensor_type=DT_FLOAT, _device=\"/job:localhost/replica:0/task:0/gpu:0\"]()]]\n\nCaused by op 'save/RestoreV2_4', defined at:\n  File \"/usr/lib/python3.5/runpy.py\", line 184, in _run_module_as_main\n    \"__main__\", mod_spec)\n  File \"/usr/lib/python3.5/runpy.py\", line 85, in _run_code\n    exec(code, run_globals)\n  File \"/home/me/.local/lib/python3.5/site-packages/ipykernel/__main__.py\", line 3, in <module>\n    app.launch_new_instance()\n  File \"/home/me/.local/lib/python3.5/site-packages/traitlets/config/application.py\", line 658, in launch_instance\n    app.start()\n  File \"/home/me/.local/lib/python3.5/site-packages/ipykernel/kernelapp.py\", line 474, in start\n    ioloop.IOLoop.instance().start()\n  File \"/home/me/.local/lib/python3.5/site-packages/zmq/eventloop/ioloop.py\", line 177, in start\n    super(ZMQIOLoop, self).start()\n  File \"/home/me/.local/lib/python3.5/site-packages/tornado/ioloop.py\", line 887, in start\n    handler_func(fd_obj, events)\n  File \"/home/me/.local/lib/python3.5/site-packages/tornado/stack_context.py\", line 275, in null_wrapper\n    return fn(*args, **kwargs)\n  File \"/home/me/.local/lib/python3.5/site-packages/zmq/eventloop/zmqstream.py\", line 440, in _handle_events\n    self._handle_recv()\n  File \"/home/me/.local/lib/python3.5/site-packages/zmq/eventloop/zmqstream.py\", line 472, in _handle_recv\n    self._run_callback(callback, msg)\n  File \"/home/me/.local/lib/python3.5/site-packages/zmq/eventloop/zmqstream.py\", line 414, in _run_callback\n    callback(*args, **kwargs)\n  File \"/home/me/.local/lib/python3.5/site-packages/tornado/stack_context.py\", line 275, in null_wrapper\n    return fn(*args, **kwargs)\n  File \"/home/me/.local/lib/python3.5/site-packages/ipykernel/kernelbase.py\", line 276, in dispatcher\n    return self.dispatch_shell(stream, msg)\n  File \"/home/me/.local/lib/python3.5/site-packages/ipykernel/kernelbase.py\", line 228, in dispatch_shell\n    handler(stream, idents, msg)\n  File \"/home/me/.local/lib/python3.5/site-packages/ipykernel/kernelbase.py\", line 390, in execute_request\n    user_expressions, allow_stdin)\n  File \"/home/me/.local/lib/python3.5/site-packages/ipykernel/ipkernel.py\", line 196, in do_execute\n    res = shell.run_cell(code, store_history=store_history, silent=silent)\n  File \"/home/me/.local/lib/python3.5/site-packages/ipykernel/zmqshell.py\", line 501, in run_cell\n    return super(ZMQInteractiveShell, self).run_cell(*args, **kwargs)\n  File \"/home/me/.local/lib/python3.5/site-packages/IPython/core/interactiveshell.py\", line 2717, in run_cell\n    interactivity=interactivity, compiler=compiler, result=result)\n  File \"/home/me/.local/lib/python3.5/site-packages/IPython/core/interactiveshell.py\", line 2821, in run_ast_nodes\n    if self.run_code(code, result):\n  File \"/home/me/.local/lib/python3.5/site-packages/IPython/core/interactiveshell.py\", line 2881, in run_code\n    exec(code_obj, self.user_global_ns, self.user_ns)\n  File \"<ipython-input-6-19d626d713a2>\", line 3, in <module>\n    new_saver = tf.train.import_meta_graph('/tmp/model.ckpt.meta')\n  File \"/home/me/.local/lib/python3.5/site-packages/tensorflow/python/training/saver.py\", line 1595, in import_meta_graph\n    **kwargs)\n  File \"/home/me/.local/lib/python3.5/site-packages/tensorflow/python/framework/meta_graph.py\", line 499, in import_scoped_meta_graph\n    producer_op_list=producer_op_list)\n  File \"/home/me/.local/lib/python3.5/site-packages/tensorflow/python/framework/importer.py\", line 308, in import_graph_def\n    op_def=op_def)\n  File \"/home/me/.local/lib/python3.5/site-packages/tensorflow/python/framework/ops.py\", line 2336, in create_op\n    original_op=self._default_original_op, op_def=op_def)\n  File \"/home/me/.local/lib/python3.5/site-packages/tensorflow/python/framework/ops.py\", line 1228, in __init__\n    self._traceback = _extract_stack()\n\nDataLossError (see above for traceback): Unable to open table file /tmp/model.ckpt.data-00000-of-00001: Data loss: not an sstable (bad magic number): perhaps your file is in a different file format and you need to use a different restore operator?\n\t [[Node: save/RestoreV2_4 = RestoreV2[dtypes=[DT_FLOAT], _device=\"/job:localhost/replica:0/task:0/cpu:0\"](_recv_save/Const_0, save/RestoreV2_4/tensor_names, save/RestoreV2_4/shape_and_slices)]]\n\t [[Node: save/RestoreV2_3/_11 = _Recv[client_terminated=false, recv_device=\"/job:localhost/replica:0/task:0/gpu:0\", send_device=\"/job:localhost/replica:0/task:0/cpu:0\", send_device_incarnation=1, tensor_name=\"edge_42_save/RestoreV2_3\", tensor_type=DT_FLOAT, _device=\"/job:localhost/replica:0/task:0/gpu:0\"]()]]\n",
     "output_type": "error",
     "traceback": [
      "\u001b[0;31m---------------------------------------------------------------------------\u001b[0m",
      "\u001b[0;31mDataLossError\u001b[0m                             Traceback (most recent call last)",
      "\u001b[0;32m/home/me/.local/lib/python3.5/site-packages/tensorflow/python/client/session.py\u001b[0m in \u001b[0;36m_do_call\u001b[0;34m(self, fn, *args)\u001b[0m\n\u001b[1;32m   1038\u001b[0m     \u001b[0;32mtry\u001b[0m\u001b[0;34m:\u001b[0m\u001b[0;34m\u001b[0m\u001b[0m\n\u001b[0;32m-> 1039\u001b[0;31m       \u001b[0;32mreturn\u001b[0m \u001b[0mfn\u001b[0m\u001b[0;34m(\u001b[0m\u001b[0;34m*\u001b[0m\u001b[0margs\u001b[0m\u001b[0;34m)\u001b[0m\u001b[0;34m\u001b[0m\u001b[0m\n\u001b[0m\u001b[1;32m   1040\u001b[0m     \u001b[0;32mexcept\u001b[0m \u001b[0merrors\u001b[0m\u001b[0;34m.\u001b[0m\u001b[0mOpError\u001b[0m \u001b[0;32mas\u001b[0m \u001b[0me\u001b[0m\u001b[0;34m:\u001b[0m\u001b[0;34m\u001b[0m\u001b[0m\n",
      "\u001b[0;32m/home/me/.local/lib/python3.5/site-packages/tensorflow/python/client/session.py\u001b[0m in \u001b[0;36m_run_fn\u001b[0;34m(session, feed_dict, fetch_list, target_list, options, run_metadata)\u001b[0m\n\u001b[1;32m   1020\u001b[0m                                  \u001b[0mfeed_dict\u001b[0m\u001b[0;34m,\u001b[0m \u001b[0mfetch_list\u001b[0m\u001b[0;34m,\u001b[0m \u001b[0mtarget_list\u001b[0m\u001b[0;34m,\u001b[0m\u001b[0;34m\u001b[0m\u001b[0m\n\u001b[0;32m-> 1021\u001b[0;31m                                  status, run_metadata)\n\u001b[0m\u001b[1;32m   1022\u001b[0m \u001b[0;34m\u001b[0m\u001b[0m\n",
      "\u001b[0;32m/usr/lib/python3.5/contextlib.py\u001b[0m in \u001b[0;36m__exit__\u001b[0;34m(self, type, value, traceback)\u001b[0m\n\u001b[1;32m     65\u001b[0m             \u001b[0;32mtry\u001b[0m\u001b[0;34m:\u001b[0m\u001b[0;34m\u001b[0m\u001b[0m\n\u001b[0;32m---> 66\u001b[0;31m                 \u001b[0mnext\u001b[0m\u001b[0;34m(\u001b[0m\u001b[0mself\u001b[0m\u001b[0;34m.\u001b[0m\u001b[0mgen\u001b[0m\u001b[0;34m)\u001b[0m\u001b[0;34m\u001b[0m\u001b[0m\n\u001b[0m\u001b[1;32m     67\u001b[0m             \u001b[0;32mexcept\u001b[0m \u001b[0mStopIteration\u001b[0m\u001b[0;34m:\u001b[0m\u001b[0;34m\u001b[0m\u001b[0m\n",
      "\u001b[0;32m/home/me/.local/lib/python3.5/site-packages/tensorflow/python/framework/errors_impl.py\u001b[0m in \u001b[0;36mraise_exception_on_not_ok_status\u001b[0;34m()\u001b[0m\n\u001b[1;32m    465\u001b[0m           \u001b[0mcompat\u001b[0m\u001b[0;34m.\u001b[0m\u001b[0mas_text\u001b[0m\u001b[0;34m(\u001b[0m\u001b[0mpywrap_tensorflow\u001b[0m\u001b[0;34m.\u001b[0m\u001b[0mTF_Message\u001b[0m\u001b[0;34m(\u001b[0m\u001b[0mstatus\u001b[0m\u001b[0;34m)\u001b[0m\u001b[0;34m)\u001b[0m\u001b[0;34m,\u001b[0m\u001b[0;34m\u001b[0m\u001b[0m\n\u001b[0;32m--> 466\u001b[0;31m           pywrap_tensorflow.TF_GetCode(status))\n\u001b[0m\u001b[1;32m    467\u001b[0m   \u001b[0;32mfinally\u001b[0m\u001b[0;34m:\u001b[0m\u001b[0;34m\u001b[0m\u001b[0m\n",
      "\u001b[0;31mDataLossError\u001b[0m: Unable to open table file /tmp/model.ckpt.data-00000-of-00001: Data loss: not an sstable (bad magic number): perhaps your file is in a different file format and you need to use a different restore operator?\n\t [[Node: save/RestoreV2_4 = RestoreV2[dtypes=[DT_FLOAT], _device=\"/job:localhost/replica:0/task:0/cpu:0\"](_recv_save/Const_0, save/RestoreV2_4/tensor_names, save/RestoreV2_4/shape_and_slices)]]\n\t [[Node: save/RestoreV2_3/_11 = _Recv[client_terminated=false, recv_device=\"/job:localhost/replica:0/task:0/gpu:0\", send_device=\"/job:localhost/replica:0/task:0/cpu:0\", send_device_incarnation=1, tensor_name=\"edge_42_save/RestoreV2_3\", tensor_type=DT_FLOAT, _device=\"/job:localhost/replica:0/task:0/gpu:0\"]()]]",
      "\nDuring handling of the above exception, another exception occurred:\n",
      "\u001b[0;31mDataLossError\u001b[0m                             Traceback (most recent call last)",
      "\u001b[0;32m<ipython-input-6-19d626d713a2>\u001b[0m in \u001b[0;36m<module>\u001b[0;34m()\u001b[0m\n\u001b[1;32m      2\u001b[0m \u001b[0;32mwith\u001b[0m \u001b[0mtf\u001b[0m\u001b[0;34m.\u001b[0m\u001b[0mSession\u001b[0m\u001b[0;34m(\u001b[0m\u001b[0mgraph\u001b[0m\u001b[0;34m=\u001b[0m\u001b[0mtesting_graph\u001b[0m\u001b[0;34m)\u001b[0m \u001b[0;32mas\u001b[0m \u001b[0msession\u001b[0m\u001b[0;34m:\u001b[0m\u001b[0;34m\u001b[0m\u001b[0m\n\u001b[1;32m      3\u001b[0m     \u001b[0mnew_saver\u001b[0m \u001b[0;34m=\u001b[0m \u001b[0mtf\u001b[0m\u001b[0;34m.\u001b[0m\u001b[0mtrain\u001b[0m\u001b[0;34m.\u001b[0m\u001b[0mimport_meta_graph\u001b[0m\u001b[0;34m(\u001b[0m\u001b[0;34m'/tmp/model.ckpt.meta'\u001b[0m\u001b[0;34m)\u001b[0m\u001b[0;34m\u001b[0m\u001b[0m\n\u001b[0;32m----> 4\u001b[0;31m     \u001b[0mnew_saver\u001b[0m\u001b[0;34m.\u001b[0m\u001b[0mrestore\u001b[0m\u001b[0;34m(\u001b[0m\u001b[0msession\u001b[0m\u001b[0;34m,\u001b[0m \u001b[0;34m'/tmp/model.ckpt.data-00000-of-00001'\u001b[0m\u001b[0;34m)\u001b[0m\u001b[0;34m\u001b[0m\u001b[0m\n\u001b[0m\u001b[1;32m      5\u001b[0m \u001b[0;31m#    saver = tf.train.Saver(session, \"/tmp/model.ckpt\", var_list=[])\u001b[0m\u001b[0;34m\u001b[0m\u001b[0;34m\u001b[0m\u001b[0m\n\u001b[1;32m      6\u001b[0m     \u001b[0mtotal_accuracy\u001b[0m \u001b[0;34m=\u001b[0m \u001b[0;36m0\u001b[0m\u001b[0;34m\u001b[0m\u001b[0m\n",
      "\u001b[0;32m/home/me/.local/lib/python3.5/site-packages/tensorflow/python/training/saver.py\u001b[0m in \u001b[0;36mrestore\u001b[0;34m(self, sess, save_path)\u001b[0m\n\u001b[1;32m   1455\u001b[0m     \u001b[0mlogging\u001b[0m\u001b[0;34m.\u001b[0m\u001b[0minfo\u001b[0m\u001b[0;34m(\u001b[0m\u001b[0;34m\"Restoring parameters from %s\"\u001b[0m\u001b[0;34m,\u001b[0m \u001b[0msave_path\u001b[0m\u001b[0;34m)\u001b[0m\u001b[0;34m\u001b[0m\u001b[0m\n\u001b[1;32m   1456\u001b[0m     sess.run(self.saver_def.restore_op_name,\n\u001b[0;32m-> 1457\u001b[0;31m              {self.saver_def.filename_tensor_name: save_path})\n\u001b[0m\u001b[1;32m   1458\u001b[0m \u001b[0;34m\u001b[0m\u001b[0m\n\u001b[1;32m   1459\u001b[0m   \u001b[0;34m@\u001b[0m\u001b[0mstaticmethod\u001b[0m\u001b[0;34m\u001b[0m\u001b[0m\n",
      "\u001b[0;32m/home/me/.local/lib/python3.5/site-packages/tensorflow/python/client/session.py\u001b[0m in \u001b[0;36mrun\u001b[0;34m(self, fetches, feed_dict, options, run_metadata)\u001b[0m\n\u001b[1;32m    776\u001b[0m     \u001b[0;32mtry\u001b[0m\u001b[0;34m:\u001b[0m\u001b[0;34m\u001b[0m\u001b[0m\n\u001b[1;32m    777\u001b[0m       result = self._run(None, fetches, feed_dict, options_ptr,\n\u001b[0;32m--> 778\u001b[0;31m                          run_metadata_ptr)\n\u001b[0m\u001b[1;32m    779\u001b[0m       \u001b[0;32mif\u001b[0m \u001b[0mrun_metadata\u001b[0m\u001b[0;34m:\u001b[0m\u001b[0;34m\u001b[0m\u001b[0m\n\u001b[1;32m    780\u001b[0m         \u001b[0mproto_data\u001b[0m \u001b[0;34m=\u001b[0m \u001b[0mtf_session\u001b[0m\u001b[0;34m.\u001b[0m\u001b[0mTF_GetBuffer\u001b[0m\u001b[0;34m(\u001b[0m\u001b[0mrun_metadata_ptr\u001b[0m\u001b[0;34m)\u001b[0m\u001b[0;34m\u001b[0m\u001b[0m\n",
      "\u001b[0;32m/home/me/.local/lib/python3.5/site-packages/tensorflow/python/client/session.py\u001b[0m in \u001b[0;36m_run\u001b[0;34m(self, handle, fetches, feed_dict, options, run_metadata)\u001b[0m\n\u001b[1;32m    980\u001b[0m     \u001b[0;32mif\u001b[0m \u001b[0mfinal_fetches\u001b[0m \u001b[0;32mor\u001b[0m \u001b[0mfinal_targets\u001b[0m\u001b[0;34m:\u001b[0m\u001b[0;34m\u001b[0m\u001b[0m\n\u001b[1;32m    981\u001b[0m       results = self._do_run(handle, final_targets, final_fetches,\n\u001b[0;32m--> 982\u001b[0;31m                              feed_dict_string, options, run_metadata)\n\u001b[0m\u001b[1;32m    983\u001b[0m     \u001b[0;32melse\u001b[0m\u001b[0;34m:\u001b[0m\u001b[0;34m\u001b[0m\u001b[0m\n\u001b[1;32m    984\u001b[0m       \u001b[0mresults\u001b[0m \u001b[0;34m=\u001b[0m \u001b[0;34m[\u001b[0m\u001b[0;34m]\u001b[0m\u001b[0;34m\u001b[0m\u001b[0m\n",
      "\u001b[0;32m/home/me/.local/lib/python3.5/site-packages/tensorflow/python/client/session.py\u001b[0m in \u001b[0;36m_do_run\u001b[0;34m(self, handle, target_list, fetch_list, feed_dict, options, run_metadata)\u001b[0m\n\u001b[1;32m   1030\u001b[0m     \u001b[0;32mif\u001b[0m \u001b[0mhandle\u001b[0m \u001b[0;32mis\u001b[0m \u001b[0;32mNone\u001b[0m\u001b[0;34m:\u001b[0m\u001b[0;34m\u001b[0m\u001b[0m\n\u001b[1;32m   1031\u001b[0m       return self._do_call(_run_fn, self._session, feed_dict, fetch_list,\n\u001b[0;32m-> 1032\u001b[0;31m                            target_list, options, run_metadata)\n\u001b[0m\u001b[1;32m   1033\u001b[0m     \u001b[0;32melse\u001b[0m\u001b[0;34m:\u001b[0m\u001b[0;34m\u001b[0m\u001b[0m\n\u001b[1;32m   1034\u001b[0m       return self._do_call(_prun_fn, self._session, handle, feed_dict,\n",
      "\u001b[0;32m/home/me/.local/lib/python3.5/site-packages/tensorflow/python/client/session.py\u001b[0m in \u001b[0;36m_do_call\u001b[0;34m(self, fn, *args)\u001b[0m\n\u001b[1;32m   1050\u001b[0m         \u001b[0;32mexcept\u001b[0m \u001b[0mKeyError\u001b[0m\u001b[0;34m:\u001b[0m\u001b[0;34m\u001b[0m\u001b[0m\n\u001b[1;32m   1051\u001b[0m           \u001b[0;32mpass\u001b[0m\u001b[0;34m\u001b[0m\u001b[0m\n\u001b[0;32m-> 1052\u001b[0;31m       \u001b[0;32mraise\u001b[0m \u001b[0mtype\u001b[0m\u001b[0;34m(\u001b[0m\u001b[0me\u001b[0m\u001b[0;34m)\u001b[0m\u001b[0;34m(\u001b[0m\u001b[0mnode_def\u001b[0m\u001b[0;34m,\u001b[0m \u001b[0mop\u001b[0m\u001b[0;34m,\u001b[0m \u001b[0mmessage\u001b[0m\u001b[0;34m)\u001b[0m\u001b[0;34m\u001b[0m\u001b[0m\n\u001b[0m\u001b[1;32m   1053\u001b[0m \u001b[0;34m\u001b[0m\u001b[0m\n\u001b[1;32m   1054\u001b[0m   \u001b[0;32mdef\u001b[0m \u001b[0m_extend_graph\u001b[0m\u001b[0;34m(\u001b[0m\u001b[0mself\u001b[0m\u001b[0;34m)\u001b[0m\u001b[0;34m:\u001b[0m\u001b[0;34m\u001b[0m\u001b[0m\n",
      "\u001b[0;31mDataLossError\u001b[0m: Unable to open table file /tmp/model.ckpt.data-00000-of-00001: Data loss: not an sstable (bad magic number): perhaps your file is in a different file format and you need to use a different restore operator?\n\t [[Node: save/RestoreV2_4 = RestoreV2[dtypes=[DT_FLOAT], _device=\"/job:localhost/replica:0/task:0/cpu:0\"](_recv_save/Const_0, save/RestoreV2_4/tensor_names, save/RestoreV2_4/shape_and_slices)]]\n\t [[Node: save/RestoreV2_3/_11 = _Recv[client_terminated=false, recv_device=\"/job:localhost/replica:0/task:0/gpu:0\", send_device=\"/job:localhost/replica:0/task:0/cpu:0\", send_device_incarnation=1, tensor_name=\"edge_42_save/RestoreV2_3\", tensor_type=DT_FLOAT, _device=\"/job:localhost/replica:0/task:0/gpu:0\"]()]]\n\nCaused by op 'save/RestoreV2_4', defined at:\n  File \"/usr/lib/python3.5/runpy.py\", line 184, in _run_module_as_main\n    \"__main__\", mod_spec)\n  File \"/usr/lib/python3.5/runpy.py\", line 85, in _run_code\n    exec(code, run_globals)\n  File \"/home/me/.local/lib/python3.5/site-packages/ipykernel/__main__.py\", line 3, in <module>\n    app.launch_new_instance()\n  File \"/home/me/.local/lib/python3.5/site-packages/traitlets/config/application.py\", line 658, in launch_instance\n    app.start()\n  File \"/home/me/.local/lib/python3.5/site-packages/ipykernel/kernelapp.py\", line 474, in start\n    ioloop.IOLoop.instance().start()\n  File \"/home/me/.local/lib/python3.5/site-packages/zmq/eventloop/ioloop.py\", line 177, in start\n    super(ZMQIOLoop, self).start()\n  File \"/home/me/.local/lib/python3.5/site-packages/tornado/ioloop.py\", line 887, in start\n    handler_func(fd_obj, events)\n  File \"/home/me/.local/lib/python3.5/site-packages/tornado/stack_context.py\", line 275, in null_wrapper\n    return fn(*args, **kwargs)\n  File \"/home/me/.local/lib/python3.5/site-packages/zmq/eventloop/zmqstream.py\", line 440, in _handle_events\n    self._handle_recv()\n  File \"/home/me/.local/lib/python3.5/site-packages/zmq/eventloop/zmqstream.py\", line 472, in _handle_recv\n    self._run_callback(callback, msg)\n  File \"/home/me/.local/lib/python3.5/site-packages/zmq/eventloop/zmqstream.py\", line 414, in _run_callback\n    callback(*args, **kwargs)\n  File \"/home/me/.local/lib/python3.5/site-packages/tornado/stack_context.py\", line 275, in null_wrapper\n    return fn(*args, **kwargs)\n  File \"/home/me/.local/lib/python3.5/site-packages/ipykernel/kernelbase.py\", line 276, in dispatcher\n    return self.dispatch_shell(stream, msg)\n  File \"/home/me/.local/lib/python3.5/site-packages/ipykernel/kernelbase.py\", line 228, in dispatch_shell\n    handler(stream, idents, msg)\n  File \"/home/me/.local/lib/python3.5/site-packages/ipykernel/kernelbase.py\", line 390, in execute_request\n    user_expressions, allow_stdin)\n  File \"/home/me/.local/lib/python3.5/site-packages/ipykernel/ipkernel.py\", line 196, in do_execute\n    res = shell.run_cell(code, store_history=store_history, silent=silent)\n  File \"/home/me/.local/lib/python3.5/site-packages/ipykernel/zmqshell.py\", line 501, in run_cell\n    return super(ZMQInteractiveShell, self).run_cell(*args, **kwargs)\n  File \"/home/me/.local/lib/python3.5/site-packages/IPython/core/interactiveshell.py\", line 2717, in run_cell\n    interactivity=interactivity, compiler=compiler, result=result)\n  File \"/home/me/.local/lib/python3.5/site-packages/IPython/core/interactiveshell.py\", line 2821, in run_ast_nodes\n    if self.run_code(code, result):\n  File \"/home/me/.local/lib/python3.5/site-packages/IPython/core/interactiveshell.py\", line 2881, in run_code\n    exec(code_obj, self.user_global_ns, self.user_ns)\n  File \"<ipython-input-6-19d626d713a2>\", line 3, in <module>\n    new_saver = tf.train.import_meta_graph('/tmp/model.ckpt.meta')\n  File \"/home/me/.local/lib/python3.5/site-packages/tensorflow/python/training/saver.py\", line 1595, in import_meta_graph\n    **kwargs)\n  File \"/home/me/.local/lib/python3.5/site-packages/tensorflow/python/framework/meta_graph.py\", line 499, in import_scoped_meta_graph\n    producer_op_list=producer_op_list)\n  File \"/home/me/.local/lib/python3.5/site-packages/tensorflow/python/framework/importer.py\", line 308, in import_graph_def\n    op_def=op_def)\n  File \"/home/me/.local/lib/python3.5/site-packages/tensorflow/python/framework/ops.py\", line 2336, in create_op\n    original_op=self._default_original_op, op_def=op_def)\n  File \"/home/me/.local/lib/python3.5/site-packages/tensorflow/python/framework/ops.py\", line 1228, in __init__\n    self._traceback = _extract_stack()\n\nDataLossError (see above for traceback): Unable to open table file /tmp/model.ckpt.data-00000-of-00001: Data loss: not an sstable (bad magic number): perhaps your file is in a different file format and you need to use a different restore operator?\n\t [[Node: save/RestoreV2_4 = RestoreV2[dtypes=[DT_FLOAT], _device=\"/job:localhost/replica:0/task:0/cpu:0\"](_recv_save/Const_0, save/RestoreV2_4/tensor_names, save/RestoreV2_4/shape_and_slices)]]\n\t [[Node: save/RestoreV2_3/_11 = _Recv[client_terminated=false, recv_device=\"/job:localhost/replica:0/task:0/gpu:0\", send_device=\"/job:localhost/replica:0/task:0/cpu:0\", send_device_incarnation=1, tensor_name=\"edge_42_save/RestoreV2_3\", tensor_type=DT_FLOAT, _device=\"/job:localhost/replica:0/task:0/gpu:0\"]()]]\n"
     ]
    }
   ],
   "source": [
    "testing_graph = tf.Graph()\n",
    "with tf.Session(graph=testing_graph) as session:\n",
    "    new_saver = tf.train.import_meta_graph('/tmp/model.ckpt.meta')\n",
    "    new_saver.restore(session, '/tmp/model.ckpt.data-00000-of-00001')\n",
    "#    saver = tf.train.Saver(session, \"/tmp/model.ckpt\", var_list=[])\n",
    "    total_accuracy = 0\n",
    "    n_test_cases = int(test_dataset.shape[0])\n",
    "    print(\"n_test_cases = %d\" % n_test_cases)\n",
    "    n_batches = int(n_test_cases / test_batch_size)\n",
    "    print(\"n_batches = \", str(n_batches))\n",
    "    for step in range(n_batches):\n",
    "        batch_data = make_batch(test_dataset, test_batch_size, step)\n",
    "        batch_labels = make_batch(test_labels, test_batch_size, step)\n",
    "        feed_dict = {tf_test_dataset: batch_data, tf_test_labels: batch_labels}\n",
    "        test_output_batch = session.run([test_prediction], feed_dict=feed_dict)[0]\n",
    "        this_batch_size = float(batch_labels.shape[0])\n",
    "        batch_accuracy = accuracy(np.asarray(test_output_batch), np.asarray(batch_labels))\n",
    "        total_accuracy = total_accuracy + batch_accuracy * this_batch_size / float(n_test_cases)\n",
    "\n",
    "    print('Test accuracy: %.1f%%' % total_accuracy)\n"
   ]
  },
  {
   "cell_type": "code",
   "execution_count": null,
   "metadata": {
    "collapsed": false
   },
   "outputs": [],
   "source": [
    "# Creates a graph.\n",
    "import tensorflow as tf\n",
    "a = tf.constant([1.0, 2.0, 3.0, 4.0, 5.0, 6.0], shape=[2, 3], name='a')\n",
    "b = tf.constant([1.0, 2.0, 3.0, 4.0, 5.0, 6.0], shape=[3, 2], name='b')\n",
    "c = tf.matmul(a, b)\n",
    "# Creates a session with log_device_placement set to True.\n",
    "sess = tf.Session(config=tf.ConfigProto(log_device_placement=True))\n",
    "# Runs the op.\n",
    "print(sess.run(c))"
   ]
  },
  {
   "cell_type": "code",
   "execution_count": null,
   "metadata": {
    "collapsed": false
   },
   "outputs": [],
   "source": [
    "!ls /tmp"
   ]
  },
  {
   "cell_type": "code",
   "execution_count": null,
   "metadata": {
    "collapsed": true
   },
   "outputs": [],
   "source": []
  }
 ],
 "metadata": {
  "colab": {
   "default_view": {},
   "name": "4_convolutions.ipynb",
   "provenance": [],
   "version": "0.3.2",
   "views": {}
  },
  "kernelspec": {
   "display_name": "Python 3",
   "language": "python",
   "name": "python3"
  },
  "language_info": {
   "codemirror_mode": {
    "name": "ipython",
    "version": 3
   },
   "file_extension": ".py",
   "mimetype": "text/x-python",
   "name": "python",
   "nbconvert_exporter": "python",
   "pygments_lexer": "ipython3",
   "version": "3.5.2"
  },
  "latex_envs": {
   "LaTeX_envs_menu_present": true,
   "autocomplete": true,
   "bibliofile": "biblio.bib",
   "cite_by": "apalike",
   "current_citInitial": 1,
   "eqLabelWithNumbers": true,
   "eqNumInitial": 1,
   "hotkeys": {
    "equation": "Ctrl-E",
    "itemize": "Ctrl-I"
   },
   "labels_anchors": false,
   "latex_user_defs": false,
   "report_style_numbering": false,
   "user_envs_cfg": false
  },
  "toc": {
   "colors": {
    "hover_highlight": "#DAA520",
    "navigate_num": "#000000",
    "navigate_text": "#333333",
    "running_highlight": "#FF0000",
    "selected_highlight": "#FFD700",
    "sidebar_border": "#EEEEEE",
    "wrapper_background": "#FFFFFF"
   },
   "moveMenuLeft": true,
   "nav_menu": {
    "height": "355px",
    "width": "252px"
   },
   "navigate_menu": true,
   "number_sections": true,
   "sideBar": true,
   "threshold": 4,
   "toc_cell": false,
   "toc_section_display": "block",
   "toc_window_display": false,
   "widenNotebook": false
  }
 },
 "nbformat": 4,
 "nbformat_minor": 0
}
