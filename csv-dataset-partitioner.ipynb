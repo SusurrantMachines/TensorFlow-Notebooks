{
 "cells": [
  {
   "cell_type": "markdown",
   "metadata": {},
   "source": [
    "# Partition Raw CSV Dataset Into Training/Testing Subsets"
   ]
  },
  {
   "cell_type": "markdown",
   "metadata": {},
   "source": [
    "Suppose we have a directory with CSV files in it that collectively represent a dataset.  Each row in a file is of the form\n",
    "$$f_1, f_2, \\ldots, f_N, \\ell_1, \\ell_2, \\ldots, \\ell_K$$ where each $f_i$ is a feature and each $\\ell_j$ is a ground truth label/category.  Assume there are several rows in each CSV file and several CSV files.  No guarantees that the examples are nicely shuffled among the files or organized in any particular order.  You get what you get.\n",
    "\n",
    "We want to take all the examples in all the files, shuffle them all together, and redistribute them into a new set of files.  This new set will be partitioned into subdirectories, according to our training needs.  For example, if we're doing standard training we'll want three subdirectories: one for training, one for validation, and one for testing.  If we're doing K-fold cross validation, we'll want K + 1 subdirectories (K for training/validation and one for testing).\n",
    "\n",
    "**ASSUMPTION**: We assume all the data from all the files fit in memory (+ virtual memory).  Obviously, this is not always the case."
   ]
  },
  {
   "cell_type": "code",
   "execution_count": null,
   "metadata": {
    "collapsed": true
   },
   "outputs": [],
   "source": [
    "SOURCE_DIR = 'cluster2D'\n",
    "TARGET_DIR = 'dataset_cluster2D'\n",
    "EXAMPLES_PER_FILE = 7\n",
    "\n",
    "# List of subdirectories and the proportion of the total data allocated to each one\n",
    "SUBSET_PROPORTIONS = {'train': 0.6, 'validation': 0.2, 'test':0.2}\n",
    "\n",
    "# For K-fold cross validation, do this instead:\n",
    "# K = ...\n",
    "# SUBSET_NAMES = list(range(K)).append('test')\n",
    "# SUBSET_PROPORTIONS = (K+1) * [1/(K+1)]  "
   ]
  },
  {
   "cell_type": "code",
   "execution_count": null,
   "metadata": {
    "collapsed": false
   },
   "outputs": [],
   "source": [
    "import random\n",
    "import os\n",
    "import numpy as np\n",
    "\n",
    "# Get list of input filenames to be put in the blender\n",
    "input_csv_file_list = [os.path.join(SOURCE_DIR, x) for x in os.listdir(SOURCE_DIR) if x.endswith('.csv')]\n",
    "\n",
    "# Make a big list of all the lines in all the files and scramble it up\n",
    "all_the_lines = []\n",
    "for filename in input_csv_file_list:\n",
    "    fid = open(filename, \"r\")    \n",
    "    all_the_lines += fid.readlines()\n",
    "    fid.close()    \n",
    "random.shuffle(all_the_lines)\n",
    "\n",
    "# For each subdirectory, find the block in 'all_the_lines' that that will be written to it.\n",
    "# [This would look nicer done with list comprehensions, but we need to do everything in-place.]\n",
    "subset_start = 0\n",
    "n_lines = len(all_the_lines)\n",
    "for subset in SUBSET_PROPORTIONS.keys():\n",
    "    \n",
    "    subset_dir = os.path.join(TARGET_DIR, subset)\n",
    "    os.makedirs(subset_dir)\n",
    "    \n",
    "    subset_len = int(SUBSET_PROPORTIONS[subset] * n_lines)\n",
    "    subset_end = subset_start + subset_len\n",
    "    num_files_in_subset = int(np.ceil(subset_len / EXAMPLES_PER_FILE))\n",
    "    \n",
    "    # For each output file to be written in this subdirectory\n",
    "    a = subset_start\n",
    "    for i in range(num_files_in_subset):\n",
    "        b = min(subset_end, a + EXAMPLES_PER_FILE)\n",
    "        file_path = os.path.join(subset_dir, str(i) + '.csv')\n",
    "        lines = all_the_lines[a:b]\n",
    "        fid = open(file_path, \"w\")\n",
    "        fid.writelines(lines)\n",
    "        fid.close()\n",
    "        a = b"
   ]
  },
  {
   "cell_type": "code",
   "execution_count": null,
   "metadata": {
    "collapsed": true
   },
   "outputs": [],
   "source": []
  }
 ],
 "metadata": {
  "kernelspec": {
   "display_name": "Python 3",
   "language": "python",
   "name": "python3"
  },
  "language_info": {
   "codemirror_mode": {
    "name": "ipython",
    "version": 3
   },
   "file_extension": ".py",
   "mimetype": "text/x-python",
   "name": "python",
   "nbconvert_exporter": "python",
   "pygments_lexer": "ipython3",
   "version": "3.5.2"
  },
  "latex_envs": {
   "LaTeX_envs_menu_present": true,
   "autocomplete": true,
   "bibliofile": "biblio.bib",
   "cite_by": "apalike",
   "current_citInitial": 1,
   "eqLabelWithNumbers": true,
   "eqNumInitial": 1,
   "hotkeys": {
    "equation": "Ctrl-E",
    "itemize": "Ctrl-I"
   },
   "labels_anchors": false,
   "latex_user_defs": false,
   "report_style_numbering": false,
   "user_envs_cfg": false
  },
  "toc": {
   "colors": {
    "hover_highlight": "#DAA520",
    "navigate_num": "#000000",
    "navigate_text": "#333333",
    "running_highlight": "#FF0000",
    "selected_highlight": "#FFD700",
    "sidebar_border": "#EEEEEE",
    "wrapper_background": "#FFFFFF"
   },
   "moveMenuLeft": true,
   "nav_menu": {
    "height": "104px",
    "width": "252px"
   },
   "navigate_menu": true,
   "number_sections": true,
   "sideBar": true,
   "threshold": 4,
   "toc_cell": false,
   "toc_section_display": "block",
   "toc_window_display": false,
   "widenNotebook": false
  }
 },
 "nbformat": 4,
 "nbformat_minor": 1
}
