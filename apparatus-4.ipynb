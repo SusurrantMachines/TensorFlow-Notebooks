{
 "cells": [
  {
   "cell_type": "markdown",
   "metadata": {},
   "source": [
    "# Adding Early Stopping Regularization to apparatus-3"
   ]
  },
  {
   "cell_type": "markdown",
   "metadata": {},
   "source": [
    "## Objectives\n",
    "\n",
    "- ~~Switch from `read` to `read_up_to` for (hopefully) faster reading~~ \\**This didn't work out so well. See apparatus-4-read_up_to-attempt.ipynb.*\n",
    "- Early-stopping regularization\n",
    "- Replace tf.train.Supervisor (since it's unofficially deprecated) with the more primitive classes and functions (like Chip Huyen does):\n",
    "    - tf.Session\n",
    "    - tf.train.write_graph()\n",
    "    - tf.summary.FileWriter\n",
    "    - tf.train.Saver\n",
    "\n",
    "From apparatus-3 we inherit the following:\n",
    "- Logistic Regression with \n",
    "- Pausable/reloadable sessions using `tf.train.Supervisor.managed_session()`\n",
    "- High-volume CSV Input Pipeline.\n",
    "- TensorBoard monitoring\n",
    "\n",
    "As in previous apparatuses, I've removed some of the leftover bulk (explanation and sanity-test print() statements) so that the new additions are easier to see."
   ]
  },
  {
   "cell_type": "markdown",
   "metadata": {},
   "source": [
    "## The Input Pipeline"
   ]
  },
  {
   "cell_type": "code",
   "execution_count": 1,
   "metadata": {
    "collapsed": true
   },
   "outputs": [],
   "source": [
    "import os\n",
    "import tensorflow as tf\n",
    "TRAINING_DIR = 'bigcluster_parted/train'\n",
    "g = tf.Graph()"
   ]
  },
  {
   "cell_type": "markdown",
   "metadata": {},
   "source": [
    "### Mini-batch Design Matrix"
   ]
  },
  {
   "cell_type": "markdown",
   "metadata": {},
   "source": [
    "Get the list of .csv files in the `notebook_dir`."
   ]
  },
  {
   "cell_type": "code",
   "execution_count": 2,
   "metadata": {
    "collapsed": false
   },
   "outputs": [],
   "source": [
    "csv_file_list = [os.path.join(TRAINING_DIR, x) for x in os.listdir(TRAINING_DIR) if x.endswith('.csv')]"
   ]
  },
  {
   "cell_type": "markdown",
   "metadata": {},
   "source": [
    "Add operations to the graph which prepare mini-batches."
   ]
  },
  {
   "cell_type": "code",
   "execution_count": 3,
   "metadata": {
    "collapsed": false
   },
   "outputs": [],
   "source": [
    "BATCH_SIZE = 50\n",
    "\n",
    "with g.as_default():\n",
    "    \n",
    "    # Create a queue of the filenames\n",
    "    filename_queue = tf.train.string_input_producer(csv_file_list)\n",
    "\n",
    "    # (if there are lines of metadata at the top of the file, we can skip them using this parameter)\n",
    "    reader = tf.TextLineReader(skip_header_lines=0)\n",
    "    \n",
    "    # Create graph operations to read a line from a CSV file (key is optional, but yields good info)\n",
    "    key, line_from_file = reader.read(filename_queue)\n",
    "    \n",
    "    # Specify the default field values (in case they're missing) and their type\n",
    "    record_defaults = [[0.5], [0.5], [tf.to_int32(0)]]\n",
    "    \n",
    "    # Parse the CSV string into an example tensor [x, y, label]\n",
    "    example = tf.decode_csv(line_from_file, record_defaults=record_defaults)\n",
    "    \n",
    "    # Split the example into a feature vector and a label.\n",
    "    # Add the extra 1 so we can apply bias via matrix multiplication (this extra 1 used to be right in the CSV file)\n",
    "#     features = example[:2] + [1.0]\n",
    "    features = tf.stack([example[0], example[1], tf.ones([], tf.float32)], axis=0)\n",
    "    label = example[-1]\n",
    "    \n",
    "    # Graph operations that produce a mini-batch (key batch is optional)\n",
    "    key_batch, data_batch, label_batch = tf.train.shuffle_batch(\n",
    "        [key, features, label], \n",
    "        batch_size=BATCH_SIZE, \n",
    "        capacity=400, \n",
    "        min_after_dequeue=100)\n",
    "    \n",
    "# g.finalize()"
   ]
  },
  {
   "cell_type": "markdown",
   "metadata": {},
   "source": [
    "#### Quick check that the extra 1 is added properly"
   ]
  },
  {
   "cell_type": "code",
   "execution_count": 4,
   "metadata": {
    "collapsed": false
   },
   "outputs": [],
   "source": [
    "# with tf.Session(graph=g) as s:\n",
    "#     s.run(tf.global_variables_initializer())\n",
    "#     coord = tf.train.Coordinator()\n",
    "#     threads = tf.train.start_queue_runners(coord=coord, sess=s)\n",
    "    \n",
    "#     for i in range(20):\n",
    "#         print(\"i = \" + str(i))\n",
    "#         for j in range(BATCH_SIZE):\n",
    "#             print(s.run([data_batch[j], label_batch[j]]))\n",
    "\n",
    "#     coord.request_stop()\n",
    "#     coord.join(threads)"
   ]
  },
  {
   "cell_type": "markdown",
   "metadata": {},
   "source": [
    "## Logistic Regression"
   ]
  },
  {
   "cell_type": "markdown",
   "metadata": {},
   "source": [
    "See `apparatus-2.ipynb` for discussion of the math behind logistic regression with stochastic gradient descent."
   ]
  },
  {
   "cell_type": "markdown",
   "metadata": {},
   "source": [
    "### Trainable Parameters: $\\boldsymbol \\theta = (\\theta_0, \\theta_1, \\theta_2) \\in \\mathbb R^3$"
   ]
  },
  {
   "cell_type": "code",
   "execution_count": 5,
   "metadata": {
    "collapsed": false
   },
   "outputs": [
    {
     "name": "stdout",
     "output_type": "stream",
     "text": [
      "<tf.Variable 'theta:0' shape=(3,) dtype=float32_ref>\n"
     ]
    }
   ],
   "source": [
    "with g.as_default():\n",
    "    theta = tf.get_variable(name=\"theta\", \n",
    "                            shape=[3], \n",
    "                            initializer=tf.random_normal_initializer(mean=0, stddev=1, seed=None, dtype=tf.float32),\n",
    "                            dtype=tf.float32)\n",
    "    print(theta)"
   ]
  },
  {
   "cell_type": "markdown",
   "metadata": {},
   "source": [
    "Let's do a quick check to make sure theta looks right when it's initialized.  If you get all zeroes, check the console for error messages.  Sometimes it fails to allocate GPU memory for whatever reason. "
   ]
  },
  {
   "cell_type": "code",
   "execution_count": 6,
   "metadata": {
    "collapsed": false
   },
   "outputs": [
    {
     "name": "stdout",
     "output_type": "stream",
     "text": [
      "[array([-1.46439767,  1.08845627,  0.46662393], dtype=float32)]\n"
     ]
    }
   ],
   "source": [
    "with tf.Session(graph=g) as s:\n",
    "    tf.global_variables_initializer().run()  # Necessary?  Yes!  This is how theta gets initialized\n",
    "    print(s.run([theta]))"
   ]
  },
  {
   "cell_type": "markdown",
   "metadata": {},
   "source": [
    "### Training Operation"
   ]
  },
  {
   "cell_type": "code",
   "execution_count": 7,
   "metadata": {
    "collapsed": false
   },
   "outputs": [],
   "source": [
    "learning_rate = 0.01\n",
    "with g.as_default():\n",
    "\n",
    "    # Step counter\n",
    "    global_step = tf.Variable(0, name=\"global_step\", trainable=False, dtype=tf.int32)\n",
    "\n",
    "    # NEW: decaying learning rate!\n",
    "#     learning_rate = 0.01 * 0.99 ** tf.cast(global_step / 100000, tf.float32)\n",
    "\n",
    "    # Compute the hidden layer output (pre-sigmoid function)\n",
    "    logits = tf.reshape(tf.matmul(data_batch, theta[:,None]), [-1])\n",
    "    \n",
    "    # Compute the loss of each example in the mini-batch\n",
    "    losses = tf.nn.sigmoid_cross_entropy_with_logits(labels=tf.cast(label_batch, tf.float32), logits=logits)\n",
    "    \n",
    "    # Find the mean loss of the mini-batch\n",
    "    loss = tf.reduce_mean(losses)\n",
    "    \n",
    "    # NEW: Let's calculate a more human-readable loss measurement!\n",
    "    predictions = tf.maximum(0.0, tf.sign(logits))\n",
    "    proportion_misclassified = tf.reduce_sum(tf.squared_difference(tf.cast(label_batch, tf.float32), predictions)) / tf.cast(predictions.shape[0], tf.float32)\n",
    "    \n",
    "    # Train Op\n",
    "    train_op = tf.train.GradientDescentOptimizer(learning_rate=learning_rate).minimize(loss, global_step=global_step)"
   ]
  },
  {
   "cell_type": "markdown",
   "metadata": {},
   "source": [
    "### TensorBoard Summaries"
   ]
  },
  {
   "cell_type": "code",
   "execution_count": 8,
   "metadata": {
    "collapsed": false
   },
   "outputs": [],
   "source": [
    "with g.as_default():\n",
    "    with tf.name_scope(\"summaries\"):\n",
    "#         tf.summary.scalar(\"learning_rate\", learning_rate)\n",
    "        tf.summary.scalar(\"loss\", loss)\n",
    "        tf.summary.scalar(\"proportion_misclassified\", proportion_misclassified)\n",
    "        tf.summary.scalar(\"theta0\", theta[0])\n",
    "        tf.summary.scalar(\"theta1\", theta[1])\n",
    "        tf.summary.scalar(\"theta2\", theta[2])\n",
    "        tf.summary.histogram(\"histogram_loss\", loss)\n",
    "        tf.summary.histogram(\"histogram_theta0\", theta[0])\n",
    "        tf.summary.histogram(\"histogram_theta1\", theta[1])\n",
    "        tf.summary.histogram(\"histogram_theta2\", theta[2])\n",
    "        summary_op = tf.summary.merge_all()"
   ]
  },
  {
   "cell_type": "code",
   "execution_count": 9,
   "metadata": {
    "collapsed": false
   },
   "outputs": [
    {
     "name": "stdout",
     "output_type": "stream",
     "text": [
      "step   1:\tloss = 1.287204\n",
      "step 101:\tloss = 0.962281\n",
      "step 201:\tloss = 0.749075\n",
      "step 301:\tloss = 0.658856\n",
      "step 401:\tloss = 0.632444\n"
     ]
    }
   ],
   "source": [
    "with tf.Session(graph=g) as s:\n",
    "    s.run(tf.global_variables_initializer())\n",
    "    coord = tf.train.Coordinator()\n",
    "    threads = tf.train.start_queue_runners(coord=coord, sess=s)\n",
    "    \n",
    "    for i in range(500):\n",
    "        t_op, ls, gstep = s.run([train_op, loss, global_step])\n",
    "        if (i % 100 == 0):\n",
    "            print(\"step %3d:\\tloss = %f\" % (gstep, ls))\n",
    "\n",
    "    coord.request_stop()\n",
    "    coord.join(threads)"
   ]
  },
  {
   "cell_type": "markdown",
   "metadata": {},
   "source": [
    "### Training Session"
   ]
  },
  {
   "cell_type": "markdown",
   "metadata": {},
   "source": [
    "Our queue runners will be sampling stochastically with replacement from the whole pool of input data for each batch.  That means--unlike a scheme in which all the training data is permuted--we don't have proper epochs.  What we'll do instead is measure the size of the pool and take an \"epoch\" to be simply that many examples (even if some examples are missed while others are sampled more than once during an \"epoch\" of training)."
   ]
  },
  {
   "cell_type": "code",
   "execution_count": 10,
   "metadata": {
    "collapsed": false
   },
   "outputs": [],
   "source": [
    "import subprocess  # need this to run the `wc` utility in bash \n",
    "import numpy as np\n",
    "\n",
    "# Get a string containing the input filenames as a space-delimited list\n",
    "csv_list_str = \" \".join(csv_file_list)\n",
    "\n",
    "# Find out how many training examples there are, altogether (by counting the lines in the files)\n",
    "training_pool_size = int(subprocess.check_output(\"cat \" + csv_list_str + \" | wc -l\", shell=True).decode('UTF-8'))\n",
    "batches_per_epoch = int(np.ceil(training_pool_size / BATCH_SIZE))"
   ]
  },
  {
   "cell_type": "markdown",
   "metadata": {},
   "source": [
    "This is where we used to have a `managed_session()`.\n",
    "\n",
    "**BEFORE RUNNING THE NEXT CELL**:\n",
    "- run `tensorboard --logdir ./apparatus-4 &` in a bash terminal\n",
    "- Have this command ready to go:\n",
    "```\n",
    "touch ./apparatus-4/pause\n",
    "```"
   ]
  },
  {
   "cell_type": "code",
   "execution_count": 11,
   "metadata": {
    "collapsed": false,
    "scrolled": true
   },
   "outputs": [
    {
     "name": "stdout",
     "output_type": "stream",
     "text": [
      "step  60:\tloss = 1.644897\n",
      "step 120:\tloss = 1.160121\n",
      "step 180:\tloss = 0.900278\n",
      "step 192:\tloss = 1.121143\n",
      "step 228:\tloss = 0.884696\n",
      "step 276:\tloss = 0.730460\n",
      "step 324:\tloss = 0.697491\n",
      "step 384:\tloss = 0.571607\n",
      "step 444:\tloss = 0.548093\n",
      "step 504:\tloss = 0.517373\n",
      "step 540:\tloss = 0.507967\n",
      "step 600:\tloss = 0.567018\n",
      "step 660:\tloss = 0.490460\n",
      "step 708:\tloss = 0.497611\n",
      "step 768:\tloss = 0.524462\n",
      "step 816:\tloss = 0.465798\n",
      "step 828:\tloss = 0.432395\n",
      "step 876:\tloss = 0.452143\n",
      "step 936:\tloss = 0.409691\n",
      "step 996:\tloss = 0.486305\n",
      "step 1056:\tloss = 0.339436\n",
      "step 1116:\tloss = 0.380095\n",
      "step 1176:\tloss = 0.440956\n",
      "step 1236:\tloss = 0.384723\n",
      "step 1296:\tloss = 0.391775\n",
      "step 1356:\tloss = 0.387073\n",
      "step 1416:\tloss = 0.427495\n",
      "step 1476:\tloss = 0.368095\n",
      "step 1536:\tloss = 0.318742\n",
      "step 1596:\tloss = 0.344013\n",
      "step 1656:\tloss = 0.320413\n",
      "step 1716:\tloss = 0.312577\n",
      "step 1776:\tloss = 0.358146\n",
      "step 1836:\tloss = 0.285015\n",
      "step 1896:\tloss = 0.323312\n",
      "step 1956:\tloss = 0.336990\n",
      "step 2016:\tloss = 0.328073\n",
      "step 2076:\tloss = 0.331339\n",
      "step 2136:\tloss = 0.285009\n",
      "step 2196:\tloss = 0.310430\n",
      "step 2256:\tloss = 0.281482\n",
      "step 2316:\tloss = 0.372979\n",
      "step 2376:\tloss = 0.311457\n",
      "step 2436:\tloss = 0.283598\n",
      "step 2484:\tloss = 0.325147\n",
      "step 2544:\tloss = 0.263465\n",
      "step 2604:\tloss = 0.315846\n",
      "step 2664:\tloss = 0.258963\n",
      "step 2724:\tloss = 0.303987\n",
      "step 2784:\tloss = 0.315386\n",
      "step 2844:\tloss = 0.342425\n",
      "step 2904:\tloss = 0.272555\n",
      "step 2964:\tloss = 0.311888\n",
      "step 3024:\tloss = 0.265234\n",
      "step 3084:\tloss = 0.241062\n",
      "step 3144:\tloss = 0.221891\n",
      "step 3204:\tloss = 0.303522\n",
      "step 3264:\tloss = 0.202949\n",
      "step 3324:\tloss = 0.329146\n",
      "step 3384:\tloss = 0.289973\n",
      "step 3444:\tloss = 0.274105\n",
      "step 3504:\tloss = 0.289434\n",
      "step 3564:\tloss = 0.266865\n",
      "step 3624:\tloss = 0.249775\n",
      "step 3684:\tloss = 0.274876\n",
      "step 3744:\tloss = 0.259528\n",
      "step 3804:\tloss = 0.275973\n",
      "step 3864:\tloss = 0.273925\n",
      "step 3924:\tloss = 0.262817\n",
      "step 3984:\tloss = 0.223453\n",
      "step 4044:\tloss = 0.359700\n",
      "step 4092:\tloss = 0.229140\n",
      "step 4116:\tloss = 0.296372\n",
      "step 4176:\tloss = 0.190119\n",
      "step 4236:\tloss = 0.297258\n",
      "step 4296:\tloss = 0.239356\n",
      "step 4356:\tloss = 0.231428\n",
      "step 4416:\tloss = 0.215399\n",
      "step 4476:\tloss = 0.209061\n",
      "step 4536:\tloss = 0.267048\n",
      "step 4596:\tloss = 0.260616\n",
      "step 4656:\tloss = 0.224235\n",
      "step 4716:\tloss = 0.213838\n",
      "step 4776:\tloss = 0.221681\n",
      "step 4836:\tloss = 0.220945\n",
      "step 4896:\tloss = 0.261878\n",
      "step 4956:\tloss = 0.243863\n",
      "step 5016:\tloss = 0.213115\n",
      "step 5076:\tloss = 0.233528\n",
      "step 5136:\tloss = 0.213939\n",
      "step 5196:\tloss = 0.268438\n",
      "step 5256:\tloss = 0.269740\n",
      "step 5316:\tloss = 0.234404\n",
      "step 5376:\tloss = 0.284594\n",
      "step 5436:\tloss = 0.277942\n",
      "step 5496:\tloss = 0.299930\n",
      "step 5556:\tloss = 0.331307\n",
      "step 5616:\tloss = 0.276448\n",
      "step 5676:\tloss = 0.199607\n",
      "step 5736:\tloss = 0.263256\n",
      "step 5796:\tloss = 0.261696\n",
      "step 5856:\tloss = 0.248210\n",
      "step 5916:\tloss = 0.296216\n",
      "step 5976:\tloss = 0.228231\n",
      "step 6036:\tloss = 0.263173\n",
      "step 6096:\tloss = 0.269543\n",
      "step 6156:\tloss = 0.205332\n",
      "step 6216:\tloss = 0.216974\n",
      "step 6276:\tloss = 0.244923\n",
      "step 6336:\tloss = 0.278108\n",
      "step 6396:\tloss = 0.248547\n",
      "step 6456:\tloss = 0.271792\n",
      "step 6516:\tloss = 0.274734\n",
      "step 6564:\tloss = 0.222101\n",
      "step 6612:\tloss = 0.211976\n",
      "step 6672:\tloss = 0.248329\n",
      "step 6732:\tloss = 0.155100\n",
      "step 6792:\tloss = 0.251590\n",
      "step 6852:\tloss = 0.293445\n",
      "step 6912:\tloss = 0.187175\n",
      "step 6972:\tloss = 0.282926\n",
      "step 7032:\tloss = 0.229472\n",
      "step 7092:\tloss = 0.203097\n",
      "step 7152:\tloss = 0.221279\n",
      "step 7212:\tloss = 0.152522\n",
      "step 7272:\tloss = 0.168498\n",
      "step 7308:\tloss = 0.222901\n",
      "step 7332:\tloss = 0.158368\n",
      "step 7392:\tloss = 0.248450\n",
      "step 7452:\tloss = 0.195795\n",
      "step 7512:\tloss = 0.187776\n",
      "step 7572:\tloss = 0.204652\n",
      "step 7632:\tloss = 0.256648\n",
      "step 7692:\tloss = 0.204213\n",
      "step 7752:\tloss = 0.247699\n",
      "step 7812:\tloss = 0.235839\n",
      "step 7872:\tloss = 0.235975\n",
      "step 7932:\tloss = 0.227780\n",
      "step 7992:\tloss = 0.164628\n",
      "step 8052:\tloss = 0.316321\n",
      "step 8112:\tloss = 0.252684\n",
      "step 8172:\tloss = 0.241720\n",
      "step 8232:\tloss = 0.193033\n",
      "step 8292:\tloss = 0.249758\n",
      "step 8352:\tloss = 0.265548\n",
      "step 8412:\tloss = 0.226817\n",
      "step 8472:\tloss = 0.254035\n",
      "step 8532:\tloss = 0.255590\n",
      "step 8592:\tloss = 0.339437\n",
      "step 8652:\tloss = 0.250669\n",
      "step 8712:\tloss = 0.324459\n",
      "step 8772:\tloss = 0.150329\n",
      "step 8832:\tloss = 0.359744\n",
      "step 8892:\tloss = 0.285577\n",
      "step 8952:\tloss = 0.208914\n",
      "step 9012:\tloss = 0.191226\n",
      "step 9072:\tloss = 0.194920\n",
      "step 9132:\tloss = 0.236820\n",
      "step 9192:\tloss = 0.258420\n",
      "step 9252:\tloss = 0.335432\n",
      "step 9312:\tloss = 0.193333\n",
      "step 9372:\tloss = 0.196614\n",
      "step 9432:\tloss = 0.273141\n",
      "step 9492:\tloss = 0.297213\n",
      "step 9552:\tloss = 0.186566\n",
      "step 9612:\tloss = 0.250115\n",
      "step 9672:\tloss = 0.193299\n",
      "step 9732:\tloss = 0.193505\n",
      "step 9792:\tloss = 0.211626\n",
      "step 9852:\tloss = 0.155435\n",
      "step 9912:\tloss = 0.300610\n",
      "step 9972:\tloss = 0.228119\n",
      "step 10032:\tloss = 0.192724\n",
      "step 10092:\tloss = 0.203083\n",
      "step 10152:\tloss = 0.232511\n",
      "step 10212:\tloss = 0.237739\n",
      "step 10272:\tloss = 0.349119\n",
      "step 10332:\tloss = 0.219711\n",
      "step 10392:\tloss = 0.197336\n",
      "step 10452:\tloss = 0.192592\n",
      "step 10512:\tloss = 0.268372\n",
      "step 10572:\tloss = 0.201236\n",
      "step 10608:\tloss = 0.254284\n",
      "step 10656:\tloss = 0.170876\n",
      "step 10704:\tloss = 0.293707\n",
      "step 10764:\tloss = 0.187623\n",
      "step 10812:\tloss = 0.266815\n",
      "step 10860:\tloss = 0.176469\n",
      "step 10920:\tloss = 0.152715\n",
      "step 10980:\tloss = 0.169296\n",
      "step 11040:\tloss = 0.141163\n",
      "step 11100:\tloss = 0.338686\n",
      "step 11160:\tloss = 0.266842\n",
      "step 11220:\tloss = 0.154691\n",
      "step 11280:\tloss = 0.243423\n",
      "step 11340:\tloss = 0.257272\n",
      "step 11400:\tloss = 0.176892\n",
      "step 11460:\tloss = 0.193529\n",
      "step 11520:\tloss = 0.221754\n",
      "step 11580:\tloss = 0.230817\n",
      "step 11640:\tloss = 0.265135\n",
      "step 11700:\tloss = 0.300918\n",
      "step 11760:\tloss = 0.220802\n",
      "step 11820:\tloss = 0.154870\n",
      "step 11880:\tloss = 0.158463\n",
      "step 11940:\tloss = 0.140562\n",
      "step 12000:\tloss = 0.183209\n",
      "step 12060:\tloss = 0.227279\n",
      "step 12120:\tloss = 0.177511\n",
      "step 12180:\tloss = 0.170525\n",
      "step 12240:\tloss = 0.222845\n",
      "step 12300:\tloss = 0.184035\n",
      "step 12360:\tloss = 0.168914\n",
      "step 12420:\tloss = 0.275061\n",
      "step 12480:\tloss = 0.213150\n",
      "step 12540:\tloss = 0.161066\n",
      "step 12600:\tloss = 0.222490\n",
      "step 12660:\tloss = 0.275575\n",
      "step 12720:\tloss = 0.299443\n",
      "step 12780:\tloss = 0.262385\n",
      "step 12840:\tloss = 0.302299\n",
      "step 12900:\tloss = 0.193945\n",
      "step 12960:\tloss = 0.233378\n",
      "step 13020:\tloss = 0.221634\n",
      "step 13044:\tloss = 0.238996\n",
      "step 13068:\tloss = 0.280084\n",
      "step 13128:\tloss = 0.187794\n",
      "step 13188:\tloss = 0.183941\n",
      "step 13248:\tloss = 0.233557\n",
      "step 13308:\tloss = 0.250735\n",
      "step 13368:\tloss = 0.222606\n",
      "step 13428:\tloss = 0.171406\n",
      "step 13488:\tloss = 0.151979\n",
      "step 13548:\tloss = 0.148228\n",
      "step 13608:\tloss = 0.151096\n",
      "step 13668:\tloss = 0.294058\n",
      "step 13728:\tloss = 0.181836\n",
      "step 13776:\tloss = 0.197767\n",
      "step 13812:\tloss = 0.168409\n",
      "step 13872:\tloss = 0.208606\n",
      "step 13932:\tloss = 0.226689\n",
      "step 13992:\tloss = 0.173647\n",
      "step 14052:\tloss = 0.168919\n",
      "step 14112:\tloss = 0.228839\n",
      "step 14172:\tloss = 0.210029\n",
      "step 14232:\tloss = 0.233258\n",
      "step 14292:\tloss = 0.191231\n",
      "step 14352:\tloss = 0.202026\n",
      "step 14412:\tloss = 0.159369\n",
      "step 14472:\tloss = 0.231923\n",
      "step 14532:\tloss = 0.172759\n",
      "step 14592:\tloss = 0.280311\n",
      "step 14652:\tloss = 0.230252\n",
      "step 14712:\tloss = 0.269800\n",
      "step 14772:\tloss = 0.261296\n",
      "step 14832:\tloss = 0.351081\n",
      "step 14892:\tloss = 0.359971\n",
      "step 14952:\tloss = 0.263027\n",
      "step 15012:\tloss = 0.169047\n",
      "step 15072:\tloss = 0.138087\n",
      "step 15132:\tloss = 0.197297\n",
      "step 15192:\tloss = 0.213661\n",
      "step 15252:\tloss = 0.259050\n",
      "step 15312:\tloss = 0.097369\n",
      "step 15372:\tloss = 0.175647\n",
      "step 15432:\tloss = 0.222935\n",
      "step 15492:\tloss = 0.191992\n",
      "step 15552:\tloss = 0.180518\n",
      "step 15612:\tloss = 0.248098\n",
      "step 15672:\tloss = 0.201972\n",
      "step 15732:\tloss = 0.140852\n",
      "step 15792:\tloss = 0.200048\n",
      "step 15852:\tloss = 0.199699\n",
      "step 15912:\tloss = 0.102500\n",
      "step 15972:\tloss = 0.207243\n",
      "step 16032:\tloss = 0.243073\n",
      "step 16092:\tloss = 0.190484\n",
      "step 16152:\tloss = 0.213114\n",
      "step 16212:\tloss = 0.210143\n",
      "step 16272:\tloss = 0.116807\n",
      "step 16332:\tloss = 0.302910\n",
      "step 16392:\tloss = 0.269968\n",
      "step 16452:\tloss = 0.260344\n",
      "step 16512:\tloss = 0.306314\n",
      "step 16572:\tloss = 0.165612\n",
      "step 16632:\tloss = 0.212897\n",
      "step 16692:\tloss = 0.278246\n",
      "step 16752:\tloss = 0.206203\n",
      "step 16812:\tloss = 0.192455\n",
      "step 16872:\tloss = 0.235835\n",
      "step 16932:\tloss = 0.136276\n",
      "step 16992:\tloss = 0.202184\n",
      "step 17052:\tloss = 0.244814\n",
      "step 17088:\tloss = 0.130324\n",
      "step 17136:\tloss = 0.263695\n",
      "step 17196:\tloss = 0.153895\n",
      "step 17256:\tloss = 0.222658\n",
      "step 17316:\tloss = 0.219178\n",
      "step 17376:\tloss = 0.240529\n",
      "step 17436:\tloss = 0.232013\n",
      "step 17496:\tloss = 0.100824\n",
      "step 17556:\tloss = 0.272126\n",
      "step 17616:\tloss = 0.199354\n",
      "step 17676:\tloss = 0.180959\n",
      "step 17736:\tloss = 0.199060\n",
      "step 17796:\tloss = 0.223702\n",
      "step 17856:\tloss = 0.182720\n",
      "step 17916:\tloss = 0.174180\n",
      "step 17976:\tloss = 0.215763\n",
      "step 18036:\tloss = 0.171213\n",
      "step 18096:\tloss = 0.239060\n",
      "step 18156:\tloss = 0.326130\n",
      "step 18216:\tloss = 0.340227\n",
      "step 18276:\tloss = 0.306510\n",
      "step 18336:\tloss = 0.286595\n",
      "step 18396:\tloss = 0.307046\n",
      "step 18456:\tloss = 0.268336\n",
      "step 18516:\tloss = 0.226894\n",
      "step 18576:\tloss = 0.176506\n",
      "step 18636:\tloss = 0.216642\n",
      "step 18696:\tloss = 0.218776\n",
      "step 18756:\tloss = 0.220534\n",
      "step 18816:\tloss = 0.137493\n",
      "step 18876:\tloss = 0.180473\n",
      "step 18936:\tloss = 0.252661\n",
      "step 18996:\tloss = 0.235068\n",
      "step 19056:\tloss = 0.212713\n",
      "step 19116:\tloss = 0.320887\n",
      "step 19176:\tloss = 0.154837\n",
      "step 19236:\tloss = 0.113784\n",
      "step 19296:\tloss = 0.322238\n",
      "step 19356:\tloss = 0.216448\n",
      "step 19416:\tloss = 0.190773\n",
      "step 19476:\tloss = 0.232597\n",
      "step 19536:\tloss = 0.209542\n",
      "step 19572:\tloss = 0.210561\n",
      "step 19584:\tloss = 0.292795\n",
      "step 19632:\tloss = 0.193647\n",
      "step 19692:\tloss = 0.216712\n",
      "step 19752:\tloss = 0.141691\n",
      "step 19812:\tloss = 0.193640\n",
      "step 19872:\tloss = 0.367313\n",
      "step 19932:\tloss = 0.301969\n",
      "step 19992:\tloss = 0.242349\n",
      "step 20052:\tloss = 0.192467\n",
      "step 20112:\tloss = 0.336199\n",
      "step 20172:\tloss = 0.134069\n",
      "step 20232:\tloss = 0.310485\n",
      "step 20292:\tloss = 0.232528\n",
      "step 20340:\tloss = 0.210785\n",
      "step 20400:\tloss = 0.254526\n",
      "step 20460:\tloss = 0.218034\n",
      "step 20520:\tloss = 0.249823\n",
      "step 20580:\tloss = 0.143857\n",
      "step 20640:\tloss = 0.379112\n",
      "step 20700:\tloss = 0.248546\n",
      "step 20760:\tloss = 0.215904\n",
      "step 20820:\tloss = 0.216489\n",
      "step 20880:\tloss = 0.274757\n",
      "step 20940:\tloss = 0.226753\n",
      "step 21000:\tloss = 0.180228\n",
      "step 21060:\tloss = 0.311557\n",
      "step 21120:\tloss = 0.195007\n",
      "step 21180:\tloss = 0.224873\n",
      "step 21240:\tloss = 0.240936\n",
      "step 21300:\tloss = 0.202825\n",
      "step 21360:\tloss = 0.256593\n",
      "step 21420:\tloss = 0.144349\n",
      "step 21480:\tloss = 0.154312\n",
      "step 21540:\tloss = 0.226420\n",
      "step 21600:\tloss = 0.201752\n",
      "step 21660:\tloss = 0.167648\n",
      "step 21720:\tloss = 0.232198\n",
      "step 21780:\tloss = 0.241719\n",
      "step 21840:\tloss = 0.179854\n",
      "step 21900:\tloss = 0.259463\n",
      "step 21960:\tloss = 0.118187\n",
      "step 22020:\tloss = 0.249265\n",
      "step 22080:\tloss = 0.175320\n",
      "step 22140:\tloss = 0.226471\n",
      "step 22200:\tloss = 0.130382\n",
      "step 22260:\tloss = 0.173505\n",
      "step 22320:\tloss = 0.173828\n",
      "step 22380:\tloss = 0.245832\n",
      "step 22440:\tloss = 0.215092\n",
      "step 22500:\tloss = 0.224904\n",
      "step 22560:\tloss = 0.147574\n",
      "step 22620:\tloss = 0.161942\n",
      "step 22680:\tloss = 0.219308\n",
      "step 22740:\tloss = 0.174562\n",
      "step 22800:\tloss = 0.175151\n",
      "step 22860:\tloss = 0.181833\n",
      "step 22920:\tloss = 0.228920\n",
      "step 22980:\tloss = 0.208730\n",
      "step 23040:\tloss = 0.168893\n",
      "step 23100:\tloss = 0.170797\n",
      "step 23160:\tloss = 0.151773\n",
      "step 23220:\tloss = 0.187304\n",
      "step 23280:\tloss = 0.194007\n",
      "step 23340:\tloss = 0.204712\n",
      "step 23400:\tloss = 0.246968\n",
      "step 23460:\tloss = 0.217472\n",
      "step 23520:\tloss = 0.168593\n",
      "step 23580:\tloss = 0.162818\n",
      "step 23628:\tloss = 0.162676\n",
      "step 23664:\tloss = 0.227644\n",
      "step 23724:\tloss = 0.087784\n",
      "step 23784:\tloss = 0.207524\n",
      "step 23844:\tloss = 0.105177\n",
      "step 23904:\tloss = 0.158785\n",
      "step 23964:\tloss = 0.236534\n",
      "step 24024:\tloss = 0.278849\n",
      "step 24084:\tloss = 0.178995\n",
      "step 24144:\tloss = 0.196742\n",
      "step 24204:\tloss = 0.216896\n",
      "step 24264:\tloss = 0.238081\n",
      "step 24324:\tloss = 0.128473\n",
      "step 24384:\tloss = 0.203788\n",
      "step 24444:\tloss = 0.232466\n",
      "step 24504:\tloss = 0.158800\n",
      "step 24564:\tloss = 0.209871\n",
      "step 24624:\tloss = 0.210707\n",
      "step 24684:\tloss = 0.097503\n",
      "step 24744:\tloss = 0.215238\n",
      "step 24804:\tloss = 0.179239\n",
      "step 24864:\tloss = 0.249968\n",
      "step 24924:\tloss = 0.179728\n",
      "step 24984:\tloss = 0.344713\n",
      "step 25044:\tloss = 0.234940\n",
      "step 25104:\tloss = 0.343623\n",
      "step 25164:\tloss = 0.207093\n",
      "step 25224:\tloss = 0.295760\n",
      "step 25284:\tloss = 0.266284\n",
      "step 25344:\tloss = 0.125765\n",
      "step 25404:\tloss = 0.152313\n",
      "step 25464:\tloss = 0.248611\n",
      "step 25524:\tloss = 0.160529\n",
      "step 25584:\tloss = 0.141030\n",
      "step 25644:\tloss = 0.187389\n",
      "step 25704:\tloss = 0.166008\n",
      "step 25764:\tloss = 0.223134\n",
      "step 25824:\tloss = 0.254415\n",
      "step 25884:\tloss = 0.153999\n",
      "step 25944:\tloss = 0.200273\n",
      "step 26004:\tloss = 0.185789\n",
      "step 26064:\tloss = 0.222542\n",
      "step 26124:\tloss = 0.169025\n",
      "step 26148:\tloss = 0.184071\n",
      "step 26196:\tloss = 0.202780\n",
      "step 26256:\tloss = 0.157126\n",
      "step 26316:\tloss = 0.281088\n",
      "step 26376:\tloss = 0.236431\n",
      "step 26436:\tloss = 0.258568\n",
      "step 26496:\tloss = 0.136955\n",
      "step 26556:\tloss = 0.255160\n",
      "step 26616:\tloss = 0.234276\n",
      "step 26676:\tloss = 0.109321\n",
      "step 26736:\tloss = 0.271028\n",
      "step 26796:\tloss = 0.161414\n",
      "step 26856:\tloss = 0.210503\n",
      "step 26868:\tloss = 0.181582\n",
      "step 26892:\tloss = 0.112914\n",
      "step 26952:\tloss = 0.132131\n",
      "step 27012:\tloss = 0.212753\n",
      "step 27072:\tloss = 0.405376\n",
      "step 27132:\tloss = 0.141341\n",
      "step 27192:\tloss = 0.253733\n",
      "step 27252:\tloss = 0.204510\n",
      "step 27312:\tloss = 0.220269\n",
      "step 27372:\tloss = 0.146863\n",
      "step 27432:\tloss = 0.267443\n",
      "step 27492:\tloss = 0.168568\n",
      "step 27552:\tloss = 0.142053\n",
      "step 27612:\tloss = 0.108539\n",
      "step 27672:\tloss = 0.166305\n",
      "step 27732:\tloss = 0.182884\n",
      "step 27792:\tloss = 0.129603\n",
      "step 27852:\tloss = 0.145001\n",
      "step 27912:\tloss = 0.230253\n",
      "step 27972:\tloss = 0.195193\n",
      "step 28032:\tloss = 0.174931\n",
      "step 28092:\tloss = 0.234794\n",
      "step 28152:\tloss = 0.220472\n",
      "step 28212:\tloss = 0.096877\n",
      "step 28272:\tloss = 0.160062\n",
      "step 28332:\tloss = 0.265368\n",
      "step 28392:\tloss = 0.171868\n",
      "step 28452:\tloss = 0.395121\n",
      "step 28512:\tloss = 0.104224\n",
      "step 28572:\tloss = 0.256996\n",
      "step 28632:\tloss = 0.249444\n",
      "Pause command received.  Saving checkpoint and shutting down.\n"
     ]
    }
   ],
   "source": [
    "import time\n",
    "NOTEBOOK_DIR = \"apparatus-4\"\n",
    "pause_file = os.path.join(NOTEBOOK_DIR, \"pause\")\n",
    "checkpoint_file = os.path.join(NOTEBOOK_DIR, \"model.ckpt\")\n",
    "status_report_freq = 1  # number of seconds btw training status updates\n",
    "chkpt_freq = 1          # number of seconds btw saved checkpoints\n",
    "\n",
    "g.add_to_collection('theta', theta)\n",
    "\n",
    "# sv = tf.train.Supervisor(logdir=NOTEBOOK_DIR, graph=g, save_model_secs=0.01, \n",
    "#                          save_summaries_secs=0.01,        \n",
    "#                          summary_op=summary_op)           \n",
    "\n",
    "# NEW: Save the \"metagraph\" (or, as TensorFlow calls it, the \"graph\")\n",
    "tf.train.write_graph(graph_or_graph_def=g, logdir=NOTEBOOK_DIR, name=\"graph.pb\", as_text=False)\n",
    "\n",
    "with tf.Session(graph=g) as s:\n",
    "\n",
    "    # summary_writer feeds TensorBoard\n",
    "    summary_writer = tf.summary.FileWriter(logdir=NOTEBOOK_DIR, graph=g)\n",
    "#                                            flush_secs=1)   # how often to write a summary update\n",
    "    # Saver for checkpoints\n",
    "    saver = tf.train.Saver()\n",
    "\n",
    "    # Must initialize since we're not using managed_seesion\n",
    "    tf.global_variables_initializer().run()\n",
    "    coord = tf.train.Coordinator()\n",
    "    threads = tf.train.start_queue_runners(coord=coord, sess=s)\n",
    "\n",
    "    last_chkpt_time = time.time()\n",
    "    while not tf.gfile.Exists(pause_file):\n",
    "        \n",
    "        # Train uninterrupted for one epoch\n",
    "        for i in range(batches_per_epoch):\n",
    "            t_op, ls, gstep, summary_op_result = s.run([train_op, loss, global_step, summary_op])\n",
    "        \n",
    "        # Save a checkpoint and update TensorBoard if it's time to do so\n",
    "        if (time.time() - last_chkpt_time > chkpt_freq):\n",
    "            last_chkpt_time = time.time()\n",
    "            saver.save(s, checkpoint_file, global_step=gstep)\n",
    "            summary_writer.add_summary(summary_op_result, global_step=gstep)\n",
    "            print(\"step %3d:\\tloss = %f\" % (gstep, ls))\n",
    "\n",
    "    coord.request_stop()\n",
    "    coord.join(threads)\n",
    "    \n",
    "    if tf.gfile.Exists(pause_file):\n",
    "        print(\"Pause command received.  Saving checkpoint and shutting down.\")\n",
    "        tf.gfile.Remove(pause_file)\n",
    "        saver.save(s, checkpoint_file, global_step=global_step)"
   ]
  },
  {
   "cell_type": "markdown",
   "metadata": {},
   "source": [
    "### Pick up where we left off\n",
    "Note the last reported `step` in the previous cell and then run it again.  Observe that training has begun at `last step + 100`.  You can even reboot the computer and rerun the notebook.  It'll still resume where it left off (as long as the training directory isn't wiped). "
   ]
  },
  {
   "cell_type": "code",
   "execution_count": 1,
   "metadata": {
    "collapsed": true
   },
   "outputs": [],
   "source": [
    "# Kill the kernel, forcing it to restart\n",
    "import os\n",
    "#os._exit(0)"
   ]
  },
  {
   "cell_type": "markdown",
   "metadata": {},
   "source": [
    "## Training Analysis"
   ]
  },
  {
   "cell_type": "markdown",
   "metadata": {},
   "source": [
    "Get a list of the save files available."
   ]
  },
  {
   "cell_type": "code",
   "execution_count": 2,
   "metadata": {
    "collapsed": false
   },
   "outputs": [
    {
     "name": "stdout",
     "output_type": "stream",
     "text": [
      "apparatus-4/model.ckpt-28656.meta apparatus-4/model.ckpt-28656\n"
     ]
    }
   ],
   "source": [
    "import os\n",
    "\n",
    "NOTEBOOK_DIR = \"apparatus-4\"\n",
    "\n",
    "# Grab the most recent metagraph file\n",
    "metagraph_files = [os.path.join(NOTEBOOK_DIR, x) for x in os.listdir(NOTEBOOK_DIR) if x.endswith('.meta')]\n",
    "metagraph_files.sort()\n",
    "metagraph_file = metagraph_files[-1]\n",
    "\n",
    "# Grab the most recent graph file\n",
    "graph_file = os.path.splitext(metagraph_file)[0]\n",
    "\n",
    "print(metagraph_file, graph_file)"
   ]
  },
  {
   "cell_type": "markdown",
   "metadata": {},
   "source": [
    "### Plot the trained dividing line"
   ]
  },
  {
   "cell_type": "markdown",
   "metadata": {},
   "source": [
    "It's nice to see the loss going down, but what does the $\\theta$ line actually look like?  To access the last value of $\\theta$, we need to retrieve it from a `managed_session` again."
   ]
  },
  {
   "cell_type": "code",
   "execution_count": 3,
   "metadata": {
    "collapsed": false
   },
   "outputs": [
    {
     "name": "stdout",
     "output_type": "stream",
     "text": [
      "INFO:tensorflow:Restoring parameters from apparatus-4/model.ckpt-28656\n",
      "[array([ 3.94926238,  3.34092855, -3.63075018], dtype=float32)]\n"
     ]
    }
   ],
   "source": [
    "import tensorflow as tf\n",
    "\n",
    "with tf.Session() as s:\n",
    "    new_saver = tf.train.import_meta_graph(metagraph_file)\n",
    "    new_saver.restore(s, graph_file)\n",
    "    theta = tf.get_collection('theta')\n",
    "    np_theta = s.run(theta)\n",
    "print(np_theta)"
   ]
  },
  {
   "cell_type": "markdown",
   "metadata": {},
   "source": [
    "TensorFlow has the value of $\\theta$ wrapped in a tensor together with its metadata (the type).  The tuple we need is in that first element."
   ]
  },
  {
   "cell_type": "code",
   "execution_count": 5,
   "metadata": {
    "collapsed": true
   },
   "outputs": [],
   "source": [
    "# We'll take left border = -1, right border = 2, top border = 2, bottom border = -1\n",
    "if np_theta[0][1] == 0:\n",
    "    l0 = [-np_theta[0][2] / np_theta[0][0], -1]\n",
    "    l1 = [-np_theta[0][2] / np_theta[0][0], 2]\n",
    "else:\n",
    "    l0 = [-1, -(np_theta[0][2] - np_theta[0][0]) / np_theta[0][1]]\n",
    "    l1 = [2,  -(np_theta[0][2] + 2.0 * np_theta[0][0]) / np_theta[0][1]]"
   ]
  },
  {
   "cell_type": "code",
   "execution_count": 6,
   "metadata": {
    "collapsed": false
   },
   "outputs": [
    {
     "name": "stdout",
     "output_type": "stream",
     "text": [
      "[-1, 2.2688341] [2, -1.2774216844943256]\n"
     ]
    }
   ],
   "source": [
    "print(l0, l1)"
   ]
  },
  {
   "cell_type": "markdown",
   "metadata": {},
   "source": [
    "### Read in the CSV files"
   ]
  },
  {
   "cell_type": "code",
   "execution_count": 7,
   "metadata": {
    "collapsed": false
   },
   "outputs": [],
   "source": [
    "DATA_DIR = 'bigcluster_parted'\n",
    "TEST_DIR = os.path.join(DATA_DIR, 'test')\n",
    "csv_file_list = [os.path.join(TEST_DIR, x) for x in os.listdir(TEST_DIR) if x.endswith('.csv')]"
   ]
  },
  {
   "cell_type": "code",
   "execution_count": 8,
   "metadata": {
    "collapsed": false
   },
   "outputs": [],
   "source": [
    "import numpy as np\n",
    "rows = np.ones(shape=(0,3), dtype=np.float32)\n",
    "for csvfile in csv_file_list:\n",
    "    rows = np.append(rows, np.genfromtxt(csvfile, delimiter=','), axis=0)\n",
    "points = rows[:,:2] \n",
    "labels = rows[:,2]"
   ]
  },
  {
   "cell_type": "code",
   "execution_count": 9,
   "metadata": {
    "collapsed": false
   },
   "outputs": [
    {
     "data": {
      "image/png": "[encoded data removed]",
      "text/plain": [
       "<matplotlib.figure.Figure at 0x7f442c67f4e0>"
      ]
     },
     "metadata": {},
     "output_type": "display_data"
    }
   ],
   "source": [
    "%matplotlib inline\n",
    "import matplotlib.mlab as mlab\n",
    "import matplotlib.pyplot as plt\n",
    "import seaborn as sns\n",
    "\n",
    "vec_colour = np.vectorize(lambda x: ['#0000FF','#FF0000'][int(x)])  # Transform the labels to colours\n",
    "colour_labels = vec_colour(labels)\n",
    "plt.scatter(points[:,0], points[:,1], c=colour_labels)\n",
    "#plt.plot([-1,2], [2,-1])  # This is the line we want a classifier to find\n",
    "plt.plot(l0, l1)\n",
    "plt.show()"
   ]
  },
  {
   "cell_type": "markdown",
   "metadata": {},
   "source": [
    "### Next Objectives\n",
    "- L2 weight decay regularization\n",
    "- Dropout regularization (once we add some more layers)\n",
    "- Autoencoder\n",
    "- LSTM\n",
    "- LeNet-5\n",
    "- t-SNE\n",
    "- PCA\n",
    "- XGBoost (outside TensorFlow)\n",
    "- Look at pandas and see whether there's anything helpful in there"
   ]
  },
  {
   "cell_type": "code",
   "execution_count": null,
   "metadata": {
    "collapsed": true
   },
   "outputs": [],
   "source": []
  }
 ],
 "metadata": {
  "kernelspec": {
   "display_name": "Python 3",
   "language": "python",
   "name": "python3"
  },
  "language_info": {
   "codemirror_mode": {
    "name": "ipython",
    "version": 3
   },
   "file_extension": ".py",
   "mimetype": "text/x-python",
   "name": "python",
   "nbconvert_exporter": "python",
   "pygments_lexer": "ipython3",
   "version": "3.5.2"
  },
  "latex_envs": {
   "LaTeX_envs_menu_present": true,
   "autocomplete": true,
   "bibliofile": "biblio.bib",
   "cite_by": "apalike",
   "current_citInitial": 1,
   "eqLabelWithNumbers": true,
   "eqNumInitial": 1,
   "hotkeys": {
    "equation": "Ctrl-E",
    "itemize": "Ctrl-I"
   },
   "labels_anchors": false,
   "latex_user_defs": false,
   "report_style_numbering": false,
   "user_envs_cfg": false
  },
  "toc": {
   "colors": {
    "hover_highlight": "#DAA520",
    "navigate_num": "#000000",
    "navigate_text": "#333333",
    "running_highlight": "#FF0000",
    "selected_highlight": "#FFD700",
    "sidebar_border": "#EEEEEE",
    "wrapper_background": "#FFFFFF"
   },
   "moveMenuLeft": true,
   "nav_menu": {
    "height": "104px",
    "width": "252px"
   },
   "navigate_menu": true,
   "number_sections": true,
   "sideBar": true,
   "threshold": 4,
   "toc_cell": false,
   "toc_section_display": "block",
   "toc_window_display": false,
   "widenNotebook": false
  }
 },
 "nbformat": 4,
 "nbformat_minor": 1
}
