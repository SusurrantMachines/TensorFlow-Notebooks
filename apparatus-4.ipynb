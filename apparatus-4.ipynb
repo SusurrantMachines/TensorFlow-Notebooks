{
 "cells": [
  {
   "cell_type": "markdown",
   "metadata": {},
   "source": [
    "# Adding Early Stopping Regularization to apparatus-3"
   ]
  },
  {
   "cell_type": "markdown",
   "metadata": {},
   "source": [
    "## Objectives\n",
    "\n",
    "- ~~Switch from `read` to `read_up_to` for (hopefully) faster reading~~ \\**This didn't work out so well. See apparatus-4-read_up_to-attempt.ipynb.*\n",
    "- Early-stopping regularization\n",
    "- Replace tf.train.Supervisor (since it's unofficially deprecated) with the more primitive classes and functions (like Chip Huyen does):\n",
    "    - tf.Session\n",
    "    - tf.train.write_graph()\n",
    "    - tf.summary.FileWriter\n",
    "    - tf.train.Saver\n",
    "\n",
    "From apparatus-3 we inherit the following:\n",
    "- Logistic Regression with \n",
    "- Pausable/reloadable sessions using `tf.train.Supervisor.managed_session()`\n",
    "- High-volume CSV Input Pipeline.\n",
    "- TensorBoard monitoring\n",
    "\n",
    "As in previous apparatuses, I've removed some of the leftover bulk (explanation and sanity-test print() statements) so that the new additions are easier to see."
   ]
  },
  {
   "cell_type": "markdown",
   "metadata": {},
   "source": [
    "## The Input Pipeline"
   ]
  },
  {
   "cell_type": "code",
   "execution_count": 1,
   "metadata": {
    "collapsed": true
   },
   "outputs": [],
   "source": [
    "import os\n",
    "import tensorflow as tf\n",
    "notebook_dir = 'bigcluster_parted/train'\n",
    "g = tf.Graph()"
   ]
  },
  {
   "cell_type": "markdown",
   "metadata": {},
   "source": [
    "### Mini-batch Design Matrix"
   ]
  },
  {
   "cell_type": "markdown",
   "metadata": {},
   "source": [
    "Get the list of .csv files in the `notebook_dir`."
   ]
  },
  {
   "cell_type": "code",
   "execution_count": 2,
   "metadata": {
    "collapsed": false
   },
   "outputs": [],
   "source": [
    "csv_file_list = [os.path.join(notebook_dir, x) for x in os.listdir(notebook_dir) if x.endswith('.csv')]"
   ]
  },
  {
   "cell_type": "markdown",
   "metadata": {},
   "source": [
    "Add operations to the graph which prepare mini-batches."
   ]
  },
  {
   "cell_type": "code",
   "execution_count": 3,
   "metadata": {
    "collapsed": false
   },
   "outputs": [],
   "source": [
    "BATCH_SIZE = 3\n",
    "\n",
    "with g.as_default():\n",
    "    \n",
    "    # Create a queue of the filenames\n",
    "    filename_queue = tf.train.string_input_producer(csv_file_list)\n",
    "\n",
    "    # (if there are lines of metadata at the top of the file, we can skip them using this parameter)\n",
    "    reader = tf.TextLineReader(skip_header_lines=0)\n",
    "    \n",
    "    # Create graph operations to read a line from a CSV file (key is optional, but yields good info)\n",
    "    key, line_from_file = reader.read(filename_queue)\n",
    "    \n",
    "    # Specify the default field values (in case they're missing) and their type\n",
    "    record_defaults = [[0.5], [0.5], [tf.to_int32(0)]]\n",
    "    \n",
    "    # Parse the CSV string into an example tensor [x, y, label]\n",
    "    example = tf.decode_csv(line_from_file, record_defaults=record_defaults)\n",
    "    \n",
    "    # Split the example into a feature vector and a label.\n",
    "    # Add the extra 1 so we can apply bias via matrix multiplication (this extra 1 used to be right in the CSV file)\n",
    "#     features = example[:2] + [1.0]\n",
    "    features = tf.stack([example[0], example[1], tf.ones([], tf.float32)], axis=0)\n",
    "    label = example[-1]\n",
    "    \n",
    "    # Graph operations that produce a mini-batch (key batch is optional)\n",
    "    key_batch, data_batch, label_batch = tf.train.shuffle_batch(\n",
    "        [key, features, label], \n",
    "        batch_size=BATCH_SIZE, \n",
    "        capacity=400, \n",
    "        min_after_dequeue=100)\n",
    "    \n",
    "# g.finalize()"
   ]
  },
  {
   "cell_type": "markdown",
   "metadata": {},
   "source": [
    "#### Quick check that the extra 1 is added properly"
   ]
  },
  {
   "cell_type": "code",
   "execution_count": 4,
   "metadata": {
    "collapsed": false
   },
   "outputs": [],
   "source": [
    "# with tf.Session(graph=g) as s:\n",
    "#     s.run(tf.global_variables_initializer())\n",
    "#     coord = tf.train.Coordinator()\n",
    "#     threads = tf.train.start_queue_runners(coord=coord, sess=s)\n",
    "    \n",
    "#     for i in range(20):\n",
    "#         print(\"i = \" + str(i))\n",
    "#         for j in range(BATCH_SIZE):\n",
    "#             print(s.run([data_batch[j], label_batch[j]]))\n",
    "\n",
    "#     coord.request_stop()\n",
    "#     coord.join(threads)"
   ]
  },
  {
   "cell_type": "markdown",
   "metadata": {},
   "source": [
    "## Logistic Regression"
   ]
  },
  {
   "cell_type": "markdown",
   "metadata": {},
   "source": [
    "See `apparatus-2.ipynb` for discussion of the math behind logistic regression with stochastic gradient descent."
   ]
  },
  {
   "cell_type": "markdown",
   "metadata": {},
   "source": [
    "### Trainable Parameters: $\\boldsymbol \\theta = (\\theta_0, \\theta_1, \\theta_2) \\in \\mathbb R^3$"
   ]
  },
  {
   "cell_type": "code",
   "execution_count": 5,
   "metadata": {
    "collapsed": false
   },
   "outputs": [
    {
     "name": "stdout",
     "output_type": "stream",
     "text": [
      "<tf.Variable 'theta:0' shape=(3,) dtype=float32_ref>\n"
     ]
    }
   ],
   "source": [
    "with g.as_default():\n",
    "    theta = tf.get_variable(name=\"theta\", \n",
    "                            shape=[3], \n",
    "                            initializer=tf.random_normal_initializer(mean=0, stddev=1, seed=None, dtype=tf.float32),\n",
    "                            dtype=tf.float32)\n",
    "    print(theta)"
   ]
  },
  {
   "cell_type": "markdown",
   "metadata": {},
   "source": [
    "Let's do a quick check to make sure theta looks right when it's initialized.  If you get all zeroes, check the console for error messages.  Sometimes it fails to allocate GPU memory for whatever reason. "
   ]
  },
  {
   "cell_type": "code",
   "execution_count": 6,
   "metadata": {
    "collapsed": false
   },
   "outputs": [
    {
     "name": "stdout",
     "output_type": "stream",
     "text": [
      "[array([-1.41376936, -0.25148967,  0.72350842], dtype=float32)]\n"
     ]
    }
   ],
   "source": [
    "with tf.Session(graph=g) as s:\n",
    "    tf.global_variables_initializer().run()  # Necessary?  Yes!  This is how theta gets initialized\n",
    "    print(s.run([theta]))"
   ]
  },
  {
   "cell_type": "markdown",
   "metadata": {},
   "source": [
    "### Training Operation"
   ]
  },
  {
   "cell_type": "code",
   "execution_count": 7,
   "metadata": {
    "collapsed": false
   },
   "outputs": [],
   "source": [
    "# learning_rate = 0.01\n",
    "with g.as_default():\n",
    "\n",
    "    # Step counter\n",
    "    global_step = tf.Variable(0, name=\"global_step\", trainable=False, dtype=tf.int32)\n",
    "\n",
    "    # NEW: decaying learning rate!\n",
    "    learning_rate = 0.01 * 0.99 ** tf.cast(global_step, tf.float32)\n",
    "\n",
    "    # Compute the hidden layer output (pre-sigmoid function)\n",
    "    logits = tf.reshape(tf.matmul(data_batch, theta[:,None]), [-1])\n",
    "    \n",
    "    # Compute the loss of each example in the mini-batch\n",
    "    losses = tf.nn.sigmoid_cross_entropy_with_logits(labels=tf.cast(label_batch, tf.float32), logits=logits)\n",
    "    \n",
    "    # Find the mean loss of the mini-batch\n",
    "    loss = tf.reduce_mean(losses)\n",
    "    \n",
    "    # Train Op\n",
    "    train_op = tf.train.GradientDescentOptimizer(learning_rate=learning_rate).minimize(loss, global_step=global_step)"
   ]
  },
  {
   "cell_type": "markdown",
   "metadata": {},
   "source": [
    "### TensorBoard Summaries"
   ]
  },
  {
   "cell_type": "code",
   "execution_count": 8,
   "metadata": {
    "collapsed": false
   },
   "outputs": [],
   "source": [
    "with g.as_default():\n",
    "    with tf.name_scope(\"summaries\"):\n",
    "        tf.summary.scalar(\"loss\", loss)\n",
    "        tf.summary.scalar(\"theta0\", theta[0])\n",
    "        tf.summary.scalar(\"theta1\", theta[1])\n",
    "        tf.summary.scalar(\"theta2\", theta[2])\n",
    "        tf.summary.histogram(\"histogram_loss\", loss)\n",
    "        tf.summary.histogram(\"histogram_theta0\", theta[0])\n",
    "        tf.summary.histogram(\"histogram_theta1\", theta[1])\n",
    "        tf.summary.histogram(\"histogram_theta2\", theta[2])\n",
    "        summary_op = tf.summary.merge_all()"
   ]
  },
  {
   "cell_type": "code",
   "execution_count": 9,
   "metadata": {
    "collapsed": false
   },
   "outputs": [
    {
     "name": "stdout",
     "output_type": "stream",
     "text": [
      "step   1:\tloss = 1.084977\n",
      "step 101:\tloss = 0.928303\n",
      "step 201:\tloss = 0.594622\n",
      "step 301:\tloss = 0.855208\n",
      "step 401:\tloss = 0.869272\n"
     ]
    }
   ],
   "source": [
    "with tf.Session(graph=g) as s:\n",
    "    s.run(tf.global_variables_initializer())\n",
    "    coord = tf.train.Coordinator()\n",
    "    threads = tf.train.start_queue_runners(coord=coord, sess=s)\n",
    "    \n",
    "    for i in range(500):\n",
    "        t_op, ls, gstep = s.run([train_op, loss, global_step])\n",
    "        if (i % 100 == 0):\n",
    "            print(\"step %3d:\\tloss = %f\" % (gstep, ls))\n",
    "\n",
    "    coord.request_stop()\n",
    "    coord.join(threads)"
   ]
  },
  {
   "cell_type": "markdown",
   "metadata": {},
   "source": [
    "### Training Session"
   ]
  },
  {
   "cell_type": "markdown",
   "metadata": {},
   "source": [
    "Our queue runners will be sampling stochastically with replacement from the whole pool of input data for each batch.  That means--unlike a scheme in which all the training data is permuted--we don't have proper epochs.  What we'll do instead is measure the size of the pool and take an \"epoch\" to be simply that many examples (even if some examples are missed while others are sampled more than once during an \"epoch\" of training)."
   ]
  },
  {
   "cell_type": "code",
   "execution_count": 10,
   "metadata": {
    "collapsed": false
   },
   "outputs": [],
   "source": [
    "import subprocess  # need this to run the `wc` utility in bash \n",
    "import numpy as np\n",
    "\n",
    "# Get a string containing the input filenames as a space-delimited list\n",
    "csv_list_str = \" \".join(csv_file_list)\n",
    "\n",
    "# Find out how many training examples there are, altogether (by counting the lines in the files)\n",
    "training_pool_size = int(subprocess.check_output(\"cat \" + csv_list_str + \" | wc -l\", shell=True).decode('UTF-8'))\n",
    "batches_per_epoch = int(np.ceil(training_pool_size / BATCH_SIZE))"
   ]
  },
  {
   "cell_type": "markdown",
   "metadata": {},
   "source": [
    "This is where we used to have a `managed_session()`.\n",
    "\n",
    "**BEFORE RUNNING THE NEXT CELL**:\n",
    "- run `tensorboard --logdir ./apparatus-4 &` in a bash terminal\n",
    "- Have this command ready to go:\n",
    "```\n",
    "touch ./apparatus-4/pause\n",
    "```"
   ]
  },
  {
   "cell_type": "code",
   "execution_count": 11,
   "metadata": {
    "collapsed": false,
    "scrolled": true
   },
   "outputs": [
    {
     "name": "stdout",
     "output_type": "stream",
     "text": [
      "step 600:\tloss = 0.836805\n",
      "step 1200:\tloss = 0.467532\n",
      "step 1800:\tloss = 0.639374\n",
      "step 2400:\tloss = 0.729512\n",
      "step 3000:\tloss = 0.621508\n",
      "step 3600:\tloss = 0.479164\n",
      "step 4200:\tloss = 1.057318\n",
      "step 4800:\tloss = 0.672554\n",
      "step 5400:\tloss = 0.863057\n",
      "step 6000:\tloss = 0.541828\n",
      "step 6400:\tloss = 0.845592\n",
      "step 6600:\tloss = 0.692162\n",
      "step 7200:\tloss = 0.579361\n",
      "step 7400:\tloss = 0.852408\n",
      "step 7800:\tloss = 0.608957\n",
      "step 8400:\tloss = 0.923155\n",
      "step 9200:\tloss = 0.813072\n",
      "step 9800:\tloss = 0.977692\n",
      "step 10400:\tloss = 0.672971\n",
      "step 11200:\tloss = 0.863257\n",
      "step 12000:\tloss = 0.919948\n",
      "step 12800:\tloss = 0.942397\n",
      "step 13600:\tloss = 0.935185\n",
      "step 14400:\tloss = 0.733369\n",
      "step 15200:\tloss = 0.726677\n",
      "step 15800:\tloss = 0.671930\n",
      "step 16400:\tloss = 0.981845\n",
      "step 17000:\tloss = 0.901816\n",
      "step 17800:\tloss = 0.666230\n",
      "step 18600:\tloss = 0.672207\n",
      "step 19400:\tloss = 0.675134\n",
      "step 20000:\tloss = 0.691467\n",
      "step 20600:\tloss = 0.993088\n",
      "step 21200:\tloss = 0.924218\n",
      "step 22000:\tloss = 0.596182\n",
      "step 22800:\tloss = 0.807778\n",
      "step 23400:\tloss = 0.895748\n",
      "step 24200:\tloss = 0.981487\n",
      "step 24800:\tloss = 0.864380\n",
      "step 25400:\tloss = 0.645685\n",
      "step 26000:\tloss = 0.777471\n",
      "step 26600:\tloss = 0.733774\n",
      "step 27400:\tloss = 0.895896\n",
      "step 28200:\tloss = 0.872340\n",
      "step 28800:\tloss = 0.528116\n",
      "step 29000:\tloss = 1.058498\n",
      "step 29600:\tloss = 0.558761\n",
      "step 30400:\tloss = 0.726462\n",
      "step 31200:\tloss = 0.756798\n",
      "step 32000:\tloss = 0.765731\n",
      "step 32800:\tloss = 0.836078\n",
      "step 33600:\tloss = 0.675144\n",
      "step 34400:\tloss = 0.627540\n",
      "step 35200:\tloss = 0.808204\n",
      "step 36000:\tloss = 0.695537\n",
      "step 36800:\tloss = 1.104960\n",
      "step 37600:\tloss = 0.861499\n",
      "step 38200:\tloss = 0.797971\n",
      "step 39000:\tloss = 0.603861\n",
      "step 39800:\tloss = 0.693346\n",
      "step 40600:\tloss = 0.548000\n",
      "step 41400:\tloss = 0.781561\n",
      "step 42200:\tloss = 0.796980\n",
      "step 42800:\tloss = 0.698114\n",
      "step 43600:\tloss = 0.873371\n",
      "step 44400:\tloss = 1.112165\n",
      "step 45200:\tloss = 0.871358\n",
      "step 46000:\tloss = 0.532753\n",
      "step 46800:\tloss = 0.608355\n",
      "step 47600:\tloss = 0.850084\n",
      "step 48400:\tloss = 0.781959\n",
      "step 49200:\tloss = 0.874705\n",
      "step 50000:\tloss = 0.822675\n",
      "step 50800:\tloss = 0.466279\n",
      "step 51600:\tloss = 0.858229\n",
      "step 52400:\tloss = 0.597854\n",
      "step 53000:\tloss = 0.507992\n",
      "step 53600:\tloss = 0.698192\n",
      "step 54200:\tloss = 0.629418\n",
      "step 54800:\tloss = 1.004370\n",
      "step 55600:\tloss = 0.833237\n",
      "step 56400:\tloss = 0.682418\n",
      "step 57200:\tloss = 0.769887\n",
      "step 58000:\tloss = 0.796670\n",
      "step 58800:\tloss = 0.791998\n",
      "Pause command received.  Saving checkpoint and shutting down.\n"
     ]
    }
   ],
   "source": [
    "import time\n",
    "NOTEBOOK_DIR = \"apparatus-4\"\n",
    "pause_file = os.path.join(NOTEBOOK_DIR, \"pause\")\n",
    "checkpoint_file = os.path.join(NOTEBOOK_DIR, \"model.ckpt\")\n",
    "status_report_freq = 1  # number of seconds btw training status updates\n",
    "chkpt_freq = 1          # number of seconds btw saved checkpoints\n",
    "\n",
    "g.add_to_collection('theta', theta)\n",
    "\n",
    "# sv = tf.train.Supervisor(logdir=NOTEBOOK_DIR, graph=g, save_model_secs=0.01, \n",
    "#                          save_summaries_secs=0.01,        \n",
    "#                          summary_op=summary_op)           \n",
    "\n",
    "# NEW: Save the \"metagraph\" (or, as TensorFlow calls it, the \"graph\")\n",
    "tf.train.write_graph(graph_or_graph_def=g, logdir=NOTEBOOK_DIR, name=\"graph.pb\", as_text=False)\n",
    "\n",
    "with tf.Session(graph=g) as s:\n",
    "\n",
    "    # summary_writer feeds TensorBoard\n",
    "    summary_writer = tf.summary.FileWriter(logdir=NOTEBOOK_DIR, graph=g, \n",
    "                                           flush_secs=1)   # how often to write a summary update\n",
    "    # Saver for checkpoints\n",
    "    saver = tf.train.Saver()\n",
    "\n",
    "    # Must initialize since we're not using managed_seesion\n",
    "    tf.global_variables_initializer().run()\n",
    "    coord = tf.train.Coordinator()\n",
    "    threads = tf.train.start_queue_runners(coord=coord, sess=s)\n",
    "\n",
    "    last_chkpt_time = time.time()\n",
    "    while not tf.gfile.Exists(pause_file):\n",
    "        \n",
    "        # Train uninterrupted for one epoch\n",
    "        for i in range(batches_per_epoch):\n",
    "            t_op, ls, gstep, summary_op_result = s.run([train_op, loss, global_step, summary_op])\n",
    "        \n",
    "        # Save a checkpoint if we're overdue\n",
    "        if (time.time() - last_chkpt_time > chkpt_freq):\n",
    "            last_chkpt_time = time.time()\n",
    "            saver.save(s, checkpoint_file, global_step=gstep)\n",
    "            summary_writer.add_summary(summary_op_result, global_step=gstep)\n",
    "            print(\"step %3d:\\tloss = %f\" % (gstep, ls))\n",
    "\n",
    "    coord.request_stop()\n",
    "    coord.join(threads)\n",
    "    \n",
    "    if tf.gfile.Exists(pause_file):\n",
    "        print(\"Pause command received.  Saving checkpoint and shutting down.\")\n",
    "        tf.gfile.Remove(pause_file)\n",
    "        saver.save(s, checkpoint_file, global_step=global_step)"
   ]
  },
  {
   "cell_type": "markdown",
   "metadata": {},
   "source": [
    "### Pick up where we left off\n",
    "Note the last reported `step` in the previous cell and then run it again.  Observe that training has begun at `last step + 100`.  You can even reboot the computer and rerun the notebook.  It'll still resume where it left off (as long as the training directory isn't wiped). "
   ]
  },
  {
   "cell_type": "code",
   "execution_count": 11,
   "metadata": {
    "collapsed": true
   },
   "outputs": [],
   "source": [
    "# Kill the kernel, forcing it to restart\n",
    "import os\n",
    "#os._exit(0)"
   ]
  },
  {
   "cell_type": "markdown",
   "metadata": {},
   "source": [
    "## Training Analysis"
   ]
  },
  {
   "cell_type": "markdown",
   "metadata": {},
   "source": [
    "Get a list of the save files available."
   ]
  },
  {
   "cell_type": "code",
   "execution_count": 1,
   "metadata": {
    "collapsed": false
   },
   "outputs": [
    {
     "name": "stdout",
     "output_type": "stream",
     "text": [
      "apparatus-3/model.ckpt-3230.meta apparatus-3/model.ckpt-3230\n"
     ]
    }
   ],
   "source": [
    "import os\n",
    "\n",
    "NOTEBOOK_DIR = \"apparatus-4\"\n",
    "\n",
    "# Grab the most recent metagraph file\n",
    "metagraph_files = [os.path.join(NOTEBOOK_DIR, x) for x in os.listdir(NOTEBOOK_DIR) if x.endswith('.meta')]\n",
    "metagraph_files.sort()\n",
    "metagraph_file = metagraph_files[-1]\n",
    "\n",
    "# Grab the most recent graph file\n",
    "graph_file = os.path.splitext(metagraph_file)[0]\n",
    "\n",
    "print(metagraph_file, graph_file)"
   ]
  },
  {
   "cell_type": "markdown",
   "metadata": {},
   "source": [
    "### Plot the trained dividing line"
   ]
  },
  {
   "cell_type": "markdown",
   "metadata": {},
   "source": [
    "It's nice to see the loss going down, but what does the $\\theta$ line actually look like?  To access the last value of $\\theta$, we need to retrieve it from a `managed_session` again."
   ]
  },
  {
   "cell_type": "code",
   "execution_count": 2,
   "metadata": {
    "collapsed": false
   },
   "outputs": [
    {
     "name": "stdout",
     "output_type": "stream",
     "text": [
      "INFO:tensorflow:Restoring parameters from apparatus-3/model.ckpt-3230\n",
      "[array([ 2.01390958,  1.93738866, -1.75411379], dtype=float32)]\n"
     ]
    }
   ],
   "source": [
    "import tensorflow as tf\n",
    "\n",
    "with tf.Session() as s:\n",
    "    new_saver = tf.train.import_meta_graph(metagraph_file)\n",
    "    new_saver.restore(s, graph_file)\n",
    "    theta = tf.get_collection('theta')\n",
    "    np_theta = s.run(theta)\n",
    "print(np_theta)"
   ]
  },
  {
   "cell_type": "markdown",
   "metadata": {},
   "source": [
    "TensorFlow has the value of $\\theta$ wrapped in a tensor together with its metadata (the type).  The tuple we need is in that first element."
   ]
  },
  {
   "cell_type": "code",
   "execution_count": 3,
   "metadata": {
    "collapsed": false
   },
   "outputs": [
    {
     "name": "stdout",
     "output_type": "stream",
     "text": [
      "[ 2.01390958  1.93738866 -1.75411379]\n"
     ]
    }
   ],
   "source": [
    "print(np_theta[0])"
   ]
  },
  {
   "cell_type": "markdown",
   "metadata": {},
   "source": [
    "How do those three components of $\\theta$ describe the dividing line between classes?  Well, to classify a point $u$ we look at the sign of $$\\langle u, \\theta \\rangle = u_0 \\theta_0 + u_1 \\theta_1 + \\theta_2$$\n",
    "\n",
    "When $u$ is right *on* the dividing line that inner product is 0.  To draw this line using `matplotlib`, we need two distinct points it intersects: two solutions of the following expression (in which we assume that $(\\theta_0, \\theta_1) \\neq (0,0)$):\n",
    "$$u_0 \\theta_0 + u_1 \\theta_1 = -\\theta_2$$\n",
    "\n",
    "If $\\theta_1 = 0$ then the dividing line is $$\\left\\{\\left(-\\frac {\\theta_2} {\\theta_0}, y\\right) : y\\in\\mathbb R\\right\\}$$\n",
    "Otherwise, the dividing line is $$\\left\\{\\left(x, -\\frac {\\theta_2 + x \\, \\theta_0} {\\theta_1} \\right) : x\\in\\mathbb R\\right\\}$$"
   ]
  },
  {
   "cell_type": "code",
   "execution_count": 4,
   "metadata": {
    "collapsed": true
   },
   "outputs": [],
   "source": [
    "# We'll take left border = -1, right border = 2, top border = 2, bottom border = -1\n",
    "if np_theta[0][1] == 0:\n",
    "    l0 = [-np_theta[0][2] / np_theta[0][0], -1]\n",
    "    l1 = [-np_theta[0][2] / np_theta[0][0], 2]\n",
    "else:\n",
    "    l0 = [-1, -(np_theta[0][2] - np_theta[0][0]) / np_theta[0][1]]\n",
    "    l1 = [2,  -(np_theta[0][2] + 2.0 * np_theta[0][0]) / np_theta[0][1]]"
   ]
  },
  {
   "cell_type": "code",
   "execution_count": 5,
   "metadata": {
    "collapsed": false
   },
   "outputs": [
    {
     "name": "stdout",
     "output_type": "stream",
     "text": [
      "[-1, 1.9448981] [2, -1.1735927911368906]\n"
     ]
    }
   ],
   "source": [
    "print(l0, l1)"
   ]
  },
  {
   "cell_type": "markdown",
   "metadata": {},
   "source": [
    "### Read in the CSV files"
   ]
  },
  {
   "cell_type": "code",
   "execution_count": 6,
   "metadata": {
    "collapsed": false
   },
   "outputs": [
    {
     "data": {
      "text/plain": [
       "['bigcluster_parted/test/24.csv',\n",
       " 'bigcluster_parted/test/5.csv',\n",
       " 'bigcluster_parted/test/22.csv',\n",
       " 'bigcluster_parted/test/15.csv',\n",
       " 'bigcluster_parted/test/1.csv',\n",
       " 'bigcluster_parted/test/23.csv',\n",
       " 'bigcluster_parted/test/7.csv',\n",
       " 'bigcluster_parted/test/4.csv',\n",
       " 'bigcluster_parted/test/17.csv',\n",
       " 'bigcluster_parted/test/3.csv',\n",
       " 'bigcluster_parted/test/25.csv',\n",
       " 'bigcluster_parted/test/27.csv',\n",
       " 'bigcluster_parted/test/14.csv',\n",
       " 'bigcluster_parted/test/16.csv',\n",
       " 'bigcluster_parted/test/2.csv',\n",
       " 'bigcluster_parted/test/8.csv',\n",
       " 'bigcluster_parted/test/18.csv',\n",
       " 'bigcluster_parted/test/21.csv',\n",
       " 'bigcluster_parted/test/13.csv',\n",
       " 'bigcluster_parted/test/6.csv',\n",
       " 'bigcluster_parted/test/12.csv',\n",
       " 'bigcluster_parted/test/10.csv',\n",
       " 'bigcluster_parted/test/9.csv',\n",
       " 'bigcluster_parted/test/0.csv',\n",
       " 'bigcluster_parted/test/28.csv',\n",
       " 'bigcluster_parted/test/19.csv',\n",
       " 'bigcluster_parted/test/11.csv',\n",
       " 'bigcluster_parted/test/26.csv',\n",
       " 'bigcluster_parted/test/20.csv']"
      ]
     },
     "execution_count": 6,
     "metadata": {},
     "output_type": "execute_result"
    }
   ],
   "source": [
    "DATA_DIR = 'bigcluster_parted'\n",
    "TEST_DIR = os.path.join(DATA_DIR, 'test')\n",
    "csv_file_list = [os.path.join(TEST_DIR, x) for x in os.listdir(TEST_DIR) if x.endswith('.csv')]\n",
    "csv_file_list"
   ]
  },
  {
   "cell_type": "code",
   "execution_count": 7,
   "metadata": {
    "collapsed": false
   },
   "outputs": [],
   "source": [
    "import numpy as np\n",
    "rows = np.ones(shape=(0,3), dtype=np.float32)\n",
    "for csvfile in csv_file_list:\n",
    "    rows = np.append(rows, np.genfromtxt(csvfile, delimiter=','), axis=0)\n",
    "points = rows[:,:2] \n",
    "labels = rows[:,2]"
   ]
  },
  {
   "cell_type": "code",
   "execution_count": 8,
   "metadata": {
    "collapsed": false
   },
   "outputs": [
    {
     "data": {
      "image/png": "[encoded data removed]",
      "text/plain": [
       "<matplotlib.figure.Figure at 0x7efd741bd668>"
      ]
     },
     "metadata": {},
     "output_type": "display_data"
    }
   ],
   "source": [
    "%matplotlib inline\n",
    "import matplotlib.mlab as mlab\n",
    "import matplotlib.pyplot as plt\n",
    "import seaborn as sns\n",
    "\n",
    "vec_colour = np.vectorize(lambda x: ['#0000FF','#FF0000'][int(x)])  # Transform the labels to colours\n",
    "colour_labels = vec_colour(labels)\n",
    "plt.scatter(points[:,0], points[:,1], c=colour_labels)\n",
    "#plt.plot([-1,2], [2,-1])  # This is the line we want a classifier to find\n",
    "plt.plot(l0, l1)\n",
    "plt.show()"
   ]
  },
  {
   "cell_type": "markdown",
   "metadata": {},
   "source": [
    "### Next Objectives\n",
    "- L2 weight decay regularization\n",
    "- Dropout regularization (once we add some more layers)\n",
    "- Autoencoder\n",
    "- LSTM\n",
    "- LeNet-5\n",
    "- t-SNE\n",
    "- PCA\n",
    "- XGBoost (outside TensorFlow)\n",
    "- Look at pandas and see whether there's anything helpful in there"
   ]
  },
  {
   "cell_type": "code",
   "execution_count": null,
   "metadata": {
    "collapsed": true
   },
   "outputs": [],
   "source": []
  }
 ],
 "metadata": {
  "kernelspec": {
   "display_name": "Python 3",
   "language": "python",
   "name": "python3"
  },
  "language_info": {
   "codemirror_mode": {
    "name": "ipython",
    "version": 3
   },
   "file_extension": ".py",
   "mimetype": "text/x-python",
   "name": "python",
   "nbconvert_exporter": "python",
   "pygments_lexer": "ipython3",
   "version": "3.5.2"
  },
  "latex_envs": {
   "LaTeX_envs_menu_present": true,
   "autocomplete": true,
   "bibliofile": "biblio.bib",
   "cite_by": "apalike",
   "current_citInitial": 1,
   "eqLabelWithNumbers": true,
   "eqNumInitial": 1,
   "hotkeys": {
    "equation": "Ctrl-E",
    "itemize": "Ctrl-I"
   },
   "labels_anchors": false,
   "latex_user_defs": false,
   "report_style_numbering": false,
   "user_envs_cfg": false
  },
  "toc": {
   "colors": {
    "hover_highlight": "#DAA520",
    "navigate_num": "#000000",
    "navigate_text": "#333333",
    "running_highlight": "#FF0000",
    "selected_highlight": "#FFD700",
    "sidebar_border": "#EEEEEE",
    "wrapper_background": "#FFFFFF"
   },
   "moveMenuLeft": true,
   "nav_menu": {
    "height": "104px",
    "width": "252px"
   },
   "navigate_menu": true,
   "number_sections": true,
   "sideBar": true,
   "threshold": 4,
   "toc_cell": false,
   "toc_section_display": "block",
   "toc_window_display": false,
   "widenNotebook": false
  }
 },
 "nbformat": 4,
 "nbformat_minor": 1
}
