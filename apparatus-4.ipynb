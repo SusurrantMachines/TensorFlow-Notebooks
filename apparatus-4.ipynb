{
 "cells": [
  {
   "cell_type": "markdown",
   "metadata": {},
   "source": [
    "# Adding Early Stopping Regularization to apparatus-3"
   ]
  },
  {
   "cell_type": "markdown",
   "metadata": {},
   "source": [
    "## Objectives\n",
    "\n",
    "- ~~Switch from `read` to `read_up_to` for (hopefully) faster reading~~ \\**This didn't work out so well. See apparatus-4-read_up_to-attempt.ipynb.*\n",
    "- Early-stopping regularization\n",
    "- ~~TensorBoard summaries of validation loss~~ \\**Ran into trouble with this one too (maybe from mixing queue runners with placeholders?).  See apparatus-4-validation_summary_attempt.ipynb.*\n",
    "- Replace tf.train.Supervisor (since it's unofficially deprecated) with the more primitive classes and functions (like Chip Huyen does):\n",
    "    - tf.Session\n",
    "    - tf.train.write_graph()\n",
    "    - tf.summary.FileWriter\n",
    "    - tf.train.Saver\n",
    "\n",
    "From apparatus-3 we inherit the following:\n",
    "- Logistic Regression with \n",
    "- Pausable/reloadable sessions using `tf.train.Supervisor.managed_session()`\n",
    "- High-volume CSV Input Pipeline.\n",
    "- TensorBoard monitoring\n",
    "\n",
    "As in previous apparatuses, I've removed some of the leftover bulk (explanation and sanity-test print() statements) so that the new additions are easier to see."
   ]
  },
  {
   "cell_type": "markdown",
   "metadata": {},
   "source": [
    "## The Input Pipeline"
   ]
  },
  {
   "cell_type": "code",
   "execution_count": 1,
   "metadata": {
    "collapsed": true
   },
   "outputs": [],
   "source": [
    "import os\n",
    "import numpy as np\n",
    "import tensorflow as tf\n",
    "DATA_DIR = 'bigcluster_parted/'\n",
    "TRAINING_DIR = os.path.join(DATA_DIR, 'train')\n",
    "VALIDATION_DIR = os.path.join(DATA_DIR, 'validation')\n",
    "g = tf.Graph()"
   ]
  },
  {
   "cell_type": "markdown",
   "metadata": {},
   "source": [
    "### Mini-batch Design Matrix"
   ]
  },
  {
   "cell_type": "markdown",
   "metadata": {},
   "source": [
    "Get the list of .csv files in the training directory."
   ]
  },
  {
   "cell_type": "code",
   "execution_count": 2,
   "metadata": {
    "collapsed": false
   },
   "outputs": [],
   "source": [
    "training_file_list = [os.path.join(TRAINING_DIR, x) for x in os.listdir(TRAINING_DIR) if x.endswith('.csv')]"
   ]
  },
  {
   "cell_type": "markdown",
   "metadata": {},
   "source": [
    "Add operations to the graph which prepare mini-batches."
   ]
  },
  {
   "cell_type": "code",
   "execution_count": 3,
   "metadata": {
    "collapsed": false
   },
   "outputs": [],
   "source": [
    "BATCH_SIZE = 50\n",
    "\n",
    "with g.as_default():\n",
    "    \n",
    "    # Create a queue of the filenames\n",
    "    filename_queue = tf.train.string_input_producer(training_file_list)\n",
    "\n",
    "    # (if there are lines of metadata at the top of the file, we can skip them using this parameter)\n",
    "    reader = tf.TextLineReader(skip_header_lines=0)\n",
    "    \n",
    "    # Create graph operations to read a line from a CSV file (key is optional, but yields good info)\n",
    "    key, line_from_file = reader.read(filename_queue)\n",
    "    \n",
    "    # Specify the default field values (in case they're missing) and their type\n",
    "    record_defaults = [[0.5], [0.5], [tf.to_int32(0)]]\n",
    "    \n",
    "    # Parse the CSV string into an example tensor [x, y, label]\n",
    "    example = tf.decode_csv(line_from_file, record_defaults=record_defaults)\n",
    "    \n",
    "    # Split the example into a feature vector and a label.\n",
    "    # Add the extra 1 so we can apply bias via matrix multiplication (this extra 1 used to be right in the CSV file)\n",
    "#     features = example[:2] + [1.0]\n",
    "    features = tf.stack([example[0], example[1], tf.ones([], tf.float32)], axis=0)\n",
    "    label = example[-1]\n",
    "    \n",
    "    # Graph operations that produce a mini-batch (key batch is optional)\n",
    "    key_batch, data_batch, label_batch = tf.train.shuffle_batch(\n",
    "        [key, features, label], \n",
    "        batch_size=BATCH_SIZE, \n",
    "        capacity=400, \n",
    "        min_after_dequeue=100)"
   ]
  },
  {
   "cell_type": "markdown",
   "metadata": {},
   "source": [
    "#### Quick check that the extra 1 is added properly"
   ]
  },
  {
   "cell_type": "code",
   "execution_count": 4,
   "metadata": {
    "collapsed": false
   },
   "outputs": [],
   "source": [
    "# with tf.Session(graph=g) as s:\n",
    "#     s.run(tf.global_variables_initializer())\n",
    "#     coord = tf.train.Coordinator()\n",
    "#     threads = tf.train.start_queue_runners(coord=coord, sess=s)\n",
    "    \n",
    "#     for i in range(20):\n",
    "#         print(\"i = \" + str(i))\n",
    "#         for j in range(BATCH_SIZE):\n",
    "#             print(s.run([data_batch[j], label_batch[j]]))\n",
    "\n",
    "#     coord.request_stop()\n",
    "#     coord.join(threads)"
   ]
  },
  {
   "cell_type": "markdown",
   "metadata": {},
   "source": [
    "### Validation Set *[NEW]*"
   ]
  },
  {
   "cell_type": "code",
   "execution_count": 5,
   "metadata": {
    "collapsed": false
   },
   "outputs": [],
   "source": [
    "valdn_file_list = [os.path.join(VALIDATION_DIR, x) for x in os.listdir(VALIDATION_DIR) if x.endswith('.csv')]\n",
    "valdn_data = np.zeros((0,3), dtype=np.float32)\n",
    "for f in valdn_file_list:\n",
    "    file_rows = np.genfromtxt(f, delimiter=',', dtype=np.float32)\n",
    "    valdn_data = np.concatenate((valdn_data, file_rows))     \n",
    "valdn_features = np.concatenate((valdn_data[:,:2], np.ones((valdn_data.shape[0],1))), axis=1)\n",
    "valdn_labels = valdn_data[:,2]"
   ]
  },
  {
   "cell_type": "markdown",
   "metadata": {},
   "source": [
    "## Logistic Regression"
   ]
  },
  {
   "cell_type": "markdown",
   "metadata": {},
   "source": [
    "See `apparatus-2.ipynb` for discussion of the math behind logistic regression with stochastic gradient descent."
   ]
  },
  {
   "cell_type": "markdown",
   "metadata": {},
   "source": [
    "### Trainable Parameters: $\\boldsymbol \\theta = (\\theta_0, \\theta_1, \\theta_2) \\in \\mathbb R^3$"
   ]
  },
  {
   "cell_type": "code",
   "execution_count": 6,
   "metadata": {
    "collapsed": false
   },
   "outputs": [
    {
     "name": "stdout",
     "output_type": "stream",
     "text": [
      "<tf.Variable 'theta:0' shape=(3,) dtype=float32_ref>\n"
     ]
    }
   ],
   "source": [
    "with g.as_default():\n",
    "    theta = tf.get_variable(name=\"theta\", \n",
    "                            shape=[3], \n",
    "                            initializer=tf.random_normal_initializer(mean=0, stddev=1, seed=None, dtype=tf.float32),\n",
    "                            dtype=tf.float32)\n",
    "    print(theta)"
   ]
  },
  {
   "cell_type": "markdown",
   "metadata": {},
   "source": [
    "Let's do a quick check to make sure theta looks right when it's initialized.  If you get all zeroes, check the console for error messages.  Sometimes it fails to allocate GPU memory for whatever reason. "
   ]
  },
  {
   "cell_type": "code",
   "execution_count": 7,
   "metadata": {
    "collapsed": false
   },
   "outputs": [
    {
     "name": "stdout",
     "output_type": "stream",
     "text": [
      "[array([ 0.64841515, -0.05896103,  1.24947178], dtype=float32)]\n"
     ]
    }
   ],
   "source": [
    "with tf.Session(graph=g) as s:\n",
    "    tf.global_variables_initializer().run()  # Necessary?  Yes!  This is how theta gets initialized\n",
    "    print(s.run([theta]))"
   ]
  },
  {
   "cell_type": "markdown",
   "metadata": {},
   "source": [
    "### Training Operation"
   ]
  },
  {
   "cell_type": "code",
   "execution_count": 8,
   "metadata": {
    "collapsed": false
   },
   "outputs": [],
   "source": [
    "learning_rate = 0.1  # Aggressive learning rate for expidiency (since this is just a demo)\n",
    "with g.as_default():\n",
    "\n",
    "    # Step counter\n",
    "    global_step = tf.Variable(0, name=\"global_step\", trainable=False, dtype=tf.int32)\n",
    "\n",
    "    # NEW: decaying learning rate!\n",
    "#     learning_rate = 0.01 * 0.99 ** tf.cast(global_step / 100000, tf.float32)\n",
    "\n",
    "    # Compute the hidden layer output (pre-sigmoid function)\n",
    "    logits = tf.reshape(tf.matmul(data_batch, theta[:,None]), [-1])\n",
    "    \n",
    "    # Compute the loss of each example in the mini-batch\n",
    "    losses = tf.nn.sigmoid_cross_entropy_with_logits(labels=tf.cast(label_batch, tf.float32), logits=logits)\n",
    "    \n",
    "    # Find the mean loss of the mini-batch\n",
    "    loss = tf.reduce_mean(losses)\n",
    "    \n",
    "    # NEW: Let's calculate a more human-readable loss measurement!\n",
    "    predictions = tf.maximum(0.0, tf.sign(logits))\n",
    "    proportion_misclassified = tf.reduce_sum(tf.squared_difference(tf.cast(label_batch, tf.float32), predictions)) / tf.cast(predictions.shape[0], tf.float32)\n",
    "    \n",
    "    # Train Op\n",
    "    train_op = tf.train.GradientDescentOptimizer(learning_rate=learning_rate).minimize(loss, global_step=global_step)"
   ]
  },
  {
   "cell_type": "markdown",
   "metadata": {},
   "source": [
    "### Validation Operation"
   ]
  },
  {
   "cell_type": "code",
   "execution_count": 9,
   "metadata": {
    "collapsed": false
   },
   "outputs": [],
   "source": [
    "def make_batch(data, max_size, batch_num):\n",
    "    n = data.shape[0]\n",
    "    offset = (batch_num * max_size) % n\n",
    "    return data[offset:offset+max_size]\n",
    "\n",
    "GPU_VALIDATION_BATCH_SIZE_MAX = 20\n",
    "with g.as_default():\n",
    "    tf_valdn_features = tf.placeholder(tf.float32, shape=(GPU_VALIDATION_BATCH_SIZE_MAX,3))  # (x,y,1)\n",
    "    tf_valdn_labels   = tf.placeholder(tf.float32, shape=(GPU_VALIDATION_BATCH_SIZE_MAX))\n",
    "    tf_valdn_logits   = tf.matmul(tf_valdn_features, theta[:,None])[:,0]\n",
    "\n",
    "#     # CREATE tf_valdn_loss: need a tf variable to hold the validation loss for a summary\n",
    "#     with tf.variable_scope('summaries'):\n",
    "#         tf_valdn_loss = tf.get_variable(name=\"tf_valdn_loss\",\n",
    "#                                         shape=(1),\n",
    "#                                         trainable=False,\n",
    "#                                         initializer=tf.constant_initializer(1.0), \n",
    "#                                         dtype=tf.float32)\n",
    "\n",
    "def valdn_loss(tf_session):\n",
    "    loss = 0\n",
    "    valdn_size = valdn_features.shape[0]\n",
    "    valdn_eg_weight = 1.0 / np.float32(valdn_size)\n",
    "    n_batches = int(np.ceil(valdn_features.shape[0] / GPU_VALIDATION_BATCH_SIZE_MAX))\n",
    "    for i in range(n_batches):\n",
    "        vald_feature_batch = make_batch(valdn_features, GPU_VALIDATION_BATCH_SIZE_MAX, i)\n",
    "        vald_label_batch = make_batch(valdn_labels, GPU_VALIDATION_BATCH_SIZE_MAX, i)\n",
    "        feed_dict = {tf_valdn_features: vald_feature_batch, tf_valdn_labels: vald_label_batch}\n",
    "        \n",
    "        # This is gives us a vector of length batch_size containing the cross entropy loss of each example in the batch\n",
    "        batch_size = vald_feature_batch.shape[0]\n",
    "        batch_vlosses = tf.nn.sigmoid_cross_entropy_with_logits(\n",
    "            labels=tf.cast(vald_label_batch, tf.float32), \n",
    "            logits=tf_valdn_logits)\n",
    "        bv = tf_session.run(batch_vlosses, feed_dict=feed_dict)\n",
    "        \n",
    "        # We need to consolidate those into a mean\n",
    "        batch_weight = valdn_eg_weight * batch_size\n",
    "        loss += batch_weight * np.mean(bv)\n",
    "    \n",
    "#     with tf.variable_scope('summaries', reuse=True):\n",
    "#         tf_valdn_loss = tf.get_variable(name=\"tf_valdn_loss\")\n",
    "#         tf_valdn_loss.assign(loss)\n",
    "    return loss"
   ]
  },
  {
   "cell_type": "markdown",
   "metadata": {},
   "source": [
    "### TensorBoard Summaries"
   ]
  },
  {
   "cell_type": "code",
   "execution_count": 11,
   "metadata": {
    "collapsed": false
   },
   "outputs": [],
   "source": [
    "with g.as_default():\n",
    "    with tf.variable_scope(\"summaries\", reuse=True):\n",
    "#         tf.summary.scalar(\"learning_rate\", learning_rate)\n",
    "        tf.summary.scalar(\"loss\", loss)\n",
    "        tf.summary.scalar(\"proportion_misclassified\", proportion_misclassified)\n",
    "        tf.summary.scalar(\"theta0\", theta[0])\n",
    "        tf.summary.scalar(\"theta1\", theta[1])\n",
    "        tf.summary.scalar(\"theta2\", theta[2])\n",
    "        tf.summary.histogram(\"histogram_loss\", loss)\n",
    "        tf.summary.histogram(\"histogram_theta0\", theta[0])\n",
    "        tf.summary.histogram(\"histogram_theta1\", theta[1])\n",
    "        tf.summary.histogram(\"histogram_theta2\", theta[2])\n",
    "        \n",
    "#         tf_valdn_loss = tf.get_variable(name=\"tf_valdn_loss\")\n",
    "#         tf.summary.scalar(\"validation_loss\", tf_valdn_loss)\n",
    "#         tf.summary.histogram(\"histogram_validation_loss\", tf_valdn_loss)\n",
    "\n",
    "        # Wrap them all up\n",
    "        summary_op = tf.summary.merge_all()"
   ]
  },
  {
   "cell_type": "code",
   "execution_count": 12,
   "metadata": {
    "collapsed": false
   },
   "outputs": [
    {
     "name": "stdout",
     "output_type": "stream",
     "text": [
      "step   1:\tloss = 0.661168\n",
      "step 101:\tloss = 0.455626\n",
      "step 201:\tloss = 0.322910\n",
      "step 301:\tloss = 0.240308\n",
      "step 401:\tloss = 0.227883\n"
     ]
    }
   ],
   "source": [
    "with tf.Session(graph=g) as s:\n",
    "    s.run(tf.global_variables_initializer())\n",
    "    coord = tf.train.Coordinator()\n",
    "    threads = tf.train.start_queue_runners(coord=coord, sess=s)\n",
    "    \n",
    "    for i in range(500):\n",
    "        t_op, ls, gstep = s.run([train_op, loss, global_step])\n",
    "        if (i % 100 == 0):\n",
    "            print(\"step %3d:\\tloss = %f\" % (gstep, ls))\n",
    "\n",
    "    coord.request_stop()\n",
    "    coord.join(threads)"
   ]
  },
  {
   "cell_type": "markdown",
   "metadata": {},
   "source": [
    "### Training Session"
   ]
  },
  {
   "cell_type": "markdown",
   "metadata": {},
   "source": [
    "Our queue runners will be sampling stochastically with replacement from the whole pool of input data for each batch.  That means--unlike a scheme in which all the training data is permuted--we don't have proper epochs.  What we'll do instead is measure the size of the pool and take an \"epoch\" to be simply that many examples (even if some examples are missed while others are sampled more than once during an \"epoch\" of training)."
   ]
  },
  {
   "cell_type": "code",
   "execution_count": 13,
   "metadata": {
    "collapsed": false
   },
   "outputs": [],
   "source": [
    "import subprocess  # need this to run the `wc` utility in bash \n",
    "import numpy as np\n",
    "\n",
    "# Get a string containing the input filenames as a space-delimited list\n",
    "training_file_list_str = \" \".join(training_file_list)\n",
    "\n",
    "# Find out how many training examples there are, altogether (by counting the lines in the files)\n",
    "training_pool_size = int(subprocess.check_output(\"cat \" + training_file_list_str + \" | wc -l\", shell=True).decode('UTF-8'))\n",
    "batches_per_epoch = int(np.ceil(training_pool_size / BATCH_SIZE))"
   ]
  },
  {
   "cell_type": "code",
   "execution_count": 14,
   "metadata": {
    "collapsed": false
   },
   "outputs": [
    {
     "name": "stdout",
     "output_type": "stream",
     "text": [
      "['summaries', 'queue_runners', 'trainable_variables', 'train_op', 'variables']\n"
     ]
    }
   ],
   "source": [
    "print(g.get_all_collection_keys())"
   ]
  },
  {
   "cell_type": "code",
   "execution_count": 15,
   "metadata": {
    "collapsed": false
   },
   "outputs": [
    {
     "name": "stdout",
     "output_type": "stream",
     "text": [
      "[<tf.Variable 'theta:0' shape=(3,) dtype=float32_ref>]\n"
     ]
    }
   ],
   "source": [
    "print(g.get_collection('trainable_variables'))"
   ]
  },
  {
   "cell_type": "code",
   "execution_count": 16,
   "metadata": {
    "collapsed": false
   },
   "outputs": [
    {
     "name": "stdout",
     "output_type": "stream",
     "text": [
      "Tensor(\"input_producer/fraction_of_32_full:0\", shape=(), dtype=string)\n",
      "Tensor(\"shuffle_batch/fraction_over_100_of_300_full:0\", shape=(), dtype=string)\n",
      "Tensor(\"summaries/loss:0\", shape=(), dtype=string)\n",
      "Tensor(\"summaries/proportion_misclassified:0\", shape=(), dtype=string)\n",
      "Tensor(\"summaries/theta0:0\", shape=(), dtype=string)\n",
      "Tensor(\"summaries/theta1:0\", shape=(), dtype=string)\n",
      "Tensor(\"summaries/theta2:0\", shape=(), dtype=string)\n",
      "Tensor(\"summaries/histogram_loss:0\", shape=(), dtype=string)\n",
      "Tensor(\"summaries/histogram_theta0:0\", shape=(), dtype=string)\n",
      "Tensor(\"summaries/histogram_theta1:0\", shape=(), dtype=string)\n",
      "Tensor(\"summaries/histogram_theta2:0\", shape=(), dtype=string)\n"
     ]
    }
   ],
   "source": [
    "print(*g.get_collection('summaries'), sep='\\n')"
   ]
  },
  {
   "cell_type": "markdown",
   "metadata": {},
   "source": [
    "This is where we used to have a `managed_session()`.\n",
    "\n",
    "**BEFORE RUNNING THE NEXT CELL**:\n",
    "- run `tensorboard --logdir ./apparatus-4 &` in a bash terminal\n",
    "- Have this command ready to go:\n",
    "```\n",
    "touch ./apparatus-4/pause\n",
    "```"
   ]
  },
  {
   "cell_type": "code",
   "execution_count": 17,
   "metadata": {
    "collapsed": false,
    "scrolled": true
   },
   "outputs": [
    {
     "name": "stdout",
     "output_type": "stream",
     "text": [
      "* step 600:\ttraining loss = 0.281943 \t validation loss = 0.222903\n",
      "* step 1248:\ttraining loss = 0.217533 \t validation loss = 0.201745\n",
      "* step 1896:\ttraining loss = 0.234105 \t validation loss = 0.195038\n",
      "* step 2532:\ttraining loss = 0.216549 \t validation loss = 0.192104\n",
      "* step 3168:\ttraining loss = 0.250190 \t validation loss = 0.190558\n",
      "* step 3792:\ttraining loss = 0.160608 \t validation loss = 0.189663\n",
      "* step 4404:\ttraining loss = 0.182575 \t validation loss = 0.189150\n",
      "* step 4992:\ttraining loss = 0.306136 \t validation loss = 0.188757\n",
      "* step 5604:\ttraining loss = 0.234611 \t validation loss = 0.188376\n",
      "* step 6204:\ttraining loss = 0.171333 \t validation loss = 0.188241\n",
      "* step 6780:\ttraining loss = 0.144898 \t validation loss = 0.188122\n",
      "* step 7308:\ttraining loss = 0.205489 \t validation loss = 0.187911\n",
      "* step 7884:\ttraining loss = 0.145647 \t validation loss = 0.187856\n",
      "step 8436:\ttraining loss = 0.177963 \t validation loss = 0.187857\n",
      "* step 9012:\ttraining loss = 0.203771 \t validation loss = 0.187759\n",
      "step 9564:\ttraining loss = 0.286745 \t validation loss = 0.187760\n",
      "step 10128:\ttraining loss = 0.132280 \t validation loss = 0.187847\n",
      "* step 10632:\ttraining loss = 0.180545 \t validation loss = 0.187744\n",
      "* step 11112:\ttraining loss = 0.253683 \t validation loss = 0.187642\n",
      "step 11580:\ttraining loss = 0.115496 \t validation loss = 0.187726\n",
      "step 12072:\ttraining loss = 0.120072 \t validation loss = 0.187654\n",
      "step 12552:\ttraining loss = 0.160679 \t validation loss = 0.187665\n",
      "step 13032:\ttraining loss = 0.127563 \t validation loss = 0.187656\n",
      "step 13500:\ttraining loss = 0.097575 \t validation loss = 0.187676\n",
      "* step 13956:\ttraining loss = 0.256270 \t validation loss = 0.187548\n",
      "step 14400:\ttraining loss = 0.196033 \t validation loss = 0.187653\n",
      "step 14868:\ttraining loss = 0.143191 \t validation loss = 0.187556\n",
      "step 15324:\ttraining loss = 0.188684 \t validation loss = 0.187743\n",
      "* step 15780:\ttraining loss = 0.397175 \t validation loss = 0.187523\n",
      "step 16200:\ttraining loss = 0.131067 \t validation loss = 0.187612\n",
      "step 16632:\ttraining loss = 0.149051 \t validation loss = 0.187696\n",
      "step 17136:\ttraining loss = 0.294683 \t validation loss = 0.187614\n",
      "step 17592:\ttraining loss = 0.227191 \t validation loss = 0.187602\n",
      "* step 18000:\ttraining loss = 0.394988 \t validation loss = 0.187499\n",
      "step 18372:\ttraining loss = 0.128090 \t validation loss = 0.187575\n",
      "step 18840:\ttraining loss = 0.111003 \t validation loss = 0.187589\n",
      "step 19236:\ttraining loss = 0.264905 \t validation loss = 0.187608\n",
      "step 19632:\ttraining loss = 0.305556 \t validation loss = 0.187717\n",
      "step 20028:\ttraining loss = 0.235001 \t validation loss = 0.187625\n",
      "Validation loss hasn't improved in 208 epochs, hence we assume the model has been overtrained.  Stopping...\n"
     ]
    }
   ],
   "source": [
    "import time\n",
    "NOTEBOOK_DIR = \"apparatus-4\"\n",
    "PAUSE_FILE = os.path.join(NOTEBOOK_DIR, \"pause\")\n",
    "CHKPT_FILE = os.path.join(NOTEBOOK_DIR, \"model.ckpt\")\n",
    "BEST_MODEL = os.path.join(NOTEBOOK_DIR, \"bestmodel.ckpt\")\n",
    "METAGRAPH_NAME = \"graph.pb\"\n",
    "EARLY_STOPPING_PATIENCE = 200     # min. epochs without improvement before we stop training\n",
    "CHKPT_FREQ = 5                    # number of seconds btw saved checkpoints\n",
    "\n",
    "# NEW: Save the \"metagraph\" (or, as TensorFlow calls it, the \"graph\")\n",
    "g.add_to_collection('theta', theta)\n",
    "tf.train.write_graph(graph_or_graph_def=g, logdir=NOTEBOOK_DIR, name=METAGRAPH_NAME, as_text=False)\n",
    "\n",
    "with tf.Session(graph=g) as s:\n",
    "\n",
    "    # summary_writer feeds TensorBoard\n",
    "    summary_writer = tf.summary.FileWriter(logdir=NOTEBOOK_DIR, graph=g)\n",
    "\n",
    "    # One saver for checkpoints, the other for saving the best model so far\n",
    "    chkpt_saver = tf.train.Saver()\n",
    "    early_stopping_saver = tf.train.Saver(max_to_keep=3)\n",
    "\n",
    "    # Must initialize since we're not using managed_seesion\n",
    "    tf.global_variables_initializer().run()\n",
    "    coord = tf.train.Coordinator()\n",
    "    threads = tf.train.start_queue_runners(coord=coord, sess=s)\n",
    "\n",
    "    # Initialize the training admin variables\n",
    "    last_chkpt_time = time.time()\n",
    "    es_timer = EARLY_STOPPING_PATIENCE\n",
    "    best_vloss = np.inf                    # \"positive infinity\"\n",
    "    epochs_since_improvement = 0\n",
    "    while not tf.gfile.Exists(PAUSE_FILE):\n",
    "        \n",
    "        # Train uninterrupted for one epoch\n",
    "        for i in range(batches_per_epoch):\n",
    "            t_op, ls, gstep, summary_op_result = s.run([train_op, loss, global_step, summary_op])\n",
    "        epochs_since_improvement += 1\n",
    "        \n",
    "        # Save a checkpoint, validate, and update TensorBoard if it's time to do so\n",
    "        if (time.time() - last_chkpt_time > CHKPT_FREQ):\n",
    "            last_chkpt_time = time.time()\n",
    "            chkpt_saver.save(s, CHKPT_FILE, global_step=gstep)\n",
    "            summary_writer.add_summary(summary_op_result, global_step=gstep)\n",
    "            \n",
    "            # Early Stopping Admin\n",
    "            vloss = valdn_loss(s)\n",
    "            if vloss < best_vloss:\n",
    "                print(\"* \", end='')\n",
    "                best_vloss = vloss\n",
    "                best_step = global_step\n",
    "                epochs_since_improvement = 0\n",
    "                early_stopping_saver.save(s, BEST_MODEL, global_step=gstep)\n",
    "            else:\n",
    "                if epochs_since_improvement >= EARLY_STOPPING_PATIENCE:\n",
    "                    print(\"Validation loss hasn't improved in %d epochs, hence we assume the model has been overtrained.  Stopping...\" % epochs_since_improvement)\n",
    "                    break\n",
    "            print(\"step %3d:\\ttraining loss = %f \\t validation loss = %f\" % (gstep, ls, vloss))\n",
    "\n",
    "    coord.request_stop()\n",
    "    coord.join(threads)\n",
    "    \n",
    "    if tf.gfile.Exists(PAUSE_FILE):\n",
    "        print(\"Pause command received.  Saving checkpoint and shutting down.\")\n",
    "        tf.gfile.Remove(PAUSE_FILE)\n",
    "        saver.save(s, checkpoint_file, global_step=global_step)"
   ]
  },
  {
   "cell_type": "markdown",
   "metadata": {},
   "source": [
    "### Pick up where we left off\n",
    "If you paused the previous cell (before it stopped by itself) note the last reported `step`.  Then run the previous cell again.  Observe that the model resumes training from where it was paused, even if you've rebooted the computer and rerun the notebook.  It will resume as long as the training directory isn't wiped. "
   ]
  },
  {
   "cell_type": "code",
   "execution_count": 1,
   "metadata": {
    "collapsed": true
   },
   "outputs": [],
   "source": [
    "# Kill the kernel, forcing it to restart\n",
    "import os\n",
    "#os._exit(0)"
   ]
  },
  {
   "cell_type": "markdown",
   "metadata": {},
   "source": [
    "## Training Analysis"
   ]
  },
  {
   "cell_type": "markdown",
   "metadata": {},
   "source": [
    "Get a list of the save files available."
   ]
  },
  {
   "cell_type": "code",
   "execution_count": 1,
   "metadata": {
    "collapsed": false
   },
   "outputs": [
    {
     "name": "stdout",
     "output_type": "stream",
     "text": [
      "apparatus-4/bestmodel.ckpt-18000.meta apparatus-4/bestmodel.ckpt-18000\n"
     ]
    }
   ],
   "source": [
    "import os\n",
    "\n",
    "NOTEBOOK_DIR = \"apparatus-4\"\n",
    "\n",
    "# Grab the most recent metagraph file\n",
    "metagraph_files = [os.path.join(NOTEBOOK_DIR, x) for x in os.listdir(NOTEBOOK_DIR) \n",
    "                   if (x.startswith('bestmodel') and x.endswith('.meta'))]\n",
    "metagraph_files.sort()\n",
    "metagraph_file = metagraph_files[-1]\n",
    "\n",
    "# Grab the most recent graph file\n",
    "graph_file = os.path.splitext(metagraph_file)[0]\n",
    "\n",
    "print(metagraph_file, graph_file)"
   ]
  },
  {
   "cell_type": "markdown",
   "metadata": {},
   "source": [
    "### Plot the trained dividing line"
   ]
  },
  {
   "cell_type": "markdown",
   "metadata": {},
   "source": [
    "It's nice to see the loss going down, but what does the $\\theta$ line actually look like?  To access the last value of $\\theta$, we need to retrieve it from a `managed_session` again."
   ]
  },
  {
   "cell_type": "code",
   "execution_count": 2,
   "metadata": {
    "collapsed": false
   },
   "outputs": [
    {
     "name": "stdout",
     "output_type": "stream",
     "text": [
      "INFO:tensorflow:Restoring parameters from apparatus-4/bestmodel.ckpt-18000\n",
      "[array([ 4.54007053,  3.80272532, -4.20728874], dtype=float32)]\n"
     ]
    }
   ],
   "source": [
    "import tensorflow as tf\n",
    "\n",
    "with tf.Session() as s:\n",
    "    new_saver = tf.train.import_meta_graph(metagraph_file)\n",
    "    new_saver.restore(s, graph_file)\n",
    "    theta = tf.get_collection('theta')\n",
    "    np_theta = s.run(theta)\n",
    "print(np_theta)"
   ]
  },
  {
   "cell_type": "markdown",
   "metadata": {},
   "source": [
    "TensorFlow has the value of $\\theta$ wrapped in a tensor together with its metadata (the type).  The tuple we need is in that first element."
   ]
  },
  {
   "cell_type": "code",
   "execution_count": 3,
   "metadata": {
    "collapsed": true
   },
   "outputs": [],
   "source": [
    "# We'll take left border = -1, right border = 2, top border = 2, bottom border = -1\n",
    "if np_theta[0][1] == 0:\n",
    "    l0 = [-np_theta[0][2] / np_theta[0][0], -1]\n",
    "    l1 = [-np_theta[0][2] / np_theta[0][0], 2]\n",
    "else:\n",
    "    l0 = [-1, -(np_theta[0][2] - np_theta[0][0]) / np_theta[0][1]]\n",
    "    l1 = [2,  -(np_theta[0][2] + 2.0 * np_theta[0][0]) / np_theta[0][1]]"
   ]
  },
  {
   "cell_type": "code",
   "execution_count": 4,
   "metadata": {
    "collapsed": false
   },
   "outputs": [
    {
     "name": "stdout",
     "output_type": "stream",
     "text": [
      "[-1, 2.300287] [2, -1.2814105468248915]\n"
     ]
    }
   ],
   "source": [
    "print(l0, l1)"
   ]
  },
  {
   "cell_type": "markdown",
   "metadata": {},
   "source": [
    "### Read in the CSV files"
   ]
  },
  {
   "cell_type": "code",
   "execution_count": 5,
   "metadata": {
    "collapsed": false
   },
   "outputs": [],
   "source": [
    "DATA_DIR = 'bigcluster_parted'\n",
    "TEST_DIR = os.path.join(DATA_DIR, 'test')\n",
    "csv_file_list = [os.path.join(TEST_DIR, x) for x in os.listdir(TEST_DIR) if x.endswith('.csv')]"
   ]
  },
  {
   "cell_type": "code",
   "execution_count": 6,
   "metadata": {
    "collapsed": false
   },
   "outputs": [],
   "source": [
    "import numpy as np\n",
    "rows = np.ones(shape=(0,3), dtype=np.float32)\n",
    "for csvfile in csv_file_list:\n",
    "    rows = np.append(rows, np.genfromtxt(csvfile, delimiter=','), axis=0)\n",
    "points = rows[:,:2] \n",
    "labels = rows[:,2]"
   ]
  },
  {
   "cell_type": "code",
   "execution_count": 7,
   "metadata": {
    "collapsed": false
   },
   "outputs": [
    {
     "data": {
      "image/png": "[encoded data removed]",
      "text/plain": [
       "<matplotlib.figure.Figure at 0x7f6ff2a49240>"
      ]
     },
     "metadata": {},
     "output_type": "display_data"
    }
   ],
   "source": [
    "%matplotlib inline\n",
    "import matplotlib.mlab as mlab\n",
    "import matplotlib.pyplot as plt\n",
    "import seaborn as sns\n",
    "\n",
    "vec_colour = np.vectorize(lambda x: ['#0000FF','#FF0000'][int(x)])  # Transform the labels to colours\n",
    "colour_labels = vec_colour(labels)\n",
    "plt.scatter(points[:,0], points[:,1], c=colour_labels)\n",
    "#plt.plot([-1,2], [2,-1])  # This is the line we want a classifier to find\n",
    "plt.plot(l0, l1)\n",
    "plt.show()"
   ]
  },
  {
   "cell_type": "markdown",
   "metadata": {},
   "source": [
    "### Next Objectives\n",
    "- L2 weight decay regularization\n",
    "- Dropout regularization (once we add some more layers)\n",
    "- Autoencoder\n",
    "- LSTM\n",
    "- LeNet-5\n",
    "- t-SNE\n",
    "- PCA\n",
    "- XGBoost (outside TensorFlow)\n",
    "- Look at pandas and see whether there's anything helpful in there"
   ]
  },
  {
   "cell_type": "code",
   "execution_count": null,
   "metadata": {
    "collapsed": true
   },
   "outputs": [],
   "source": []
  }
 ],
 "metadata": {
  "kernelspec": {
   "display_name": "Python 3",
   "language": "python",
   "name": "python3"
  },
  "language_info": {
   "codemirror_mode": {
    "name": "ipython",
    "version": 3
   },
   "file_extension": ".py",
   "mimetype": "text/x-python",
   "name": "python",
   "nbconvert_exporter": "python",
   "pygments_lexer": "ipython3",
   "version": "3.5.2"
  },
  "latex_envs": {
   "LaTeX_envs_menu_present": true,
   "autocomplete": true,
   "bibliofile": "biblio.bib",
   "cite_by": "apalike",
   "current_citInitial": 1,
   "eqLabelWithNumbers": true,
   "eqNumInitial": 1,
   "hotkeys": {
    "equation": "Ctrl-E",
    "itemize": "Ctrl-I"
   },
   "labels_anchors": false,
   "latex_user_defs": false,
   "report_style_numbering": false,
   "user_envs_cfg": false
  },
  "toc": {
   "colors": {
    "hover_highlight": "#DAA520",
    "navigate_num": "#000000",
    "navigate_text": "#333333",
    "running_highlight": "#FF0000",
    "selected_highlight": "#FFD700",
    "sidebar_border": "#EEEEEE",
    "wrapper_background": "#FFFFFF"
   },
   "moveMenuLeft": true,
   "nav_menu": {
    "height": "104px",
    "width": "252px"
   },
   "navigate_menu": true,
   "number_sections": true,
   "sideBar": true,
   "threshold": 4,
   "toc_cell": false,
   "toc_section_display": "block",
   "toc_window_display": false,
   "widenNotebook": false
  }
 },
 "nbformat": 4,
 "nbformat_minor": 1
}
